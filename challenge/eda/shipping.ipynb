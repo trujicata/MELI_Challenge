{
 "cells": [
  {
   "cell_type": "markdown",
   "id": "4d979e40",
   "metadata": {},
   "source": [
    "# EDA on the `MLA_100k_checked_v3` dataset"
   ]
  },
  {
   "cell_type": "code",
   "execution_count": 1,
   "id": "987a1925",
   "metadata": {},
   "outputs": [],
   "source": [
    "import pandas as pd\n",
    "\n",
    "from utils import *"
   ]
  },
  {
   "cell_type": "markdown",
   "id": "d31ec365",
   "metadata": {},
   "source": [
    "## Load the dataset"
   ]
  },
  {
   "cell_type": "code",
   "execution_count": 2,
   "id": "acc0e8fd",
   "metadata": {},
   "outputs": [
    {
     "data": {
      "text/html": [
       "<div>\n",
       "<style scoped>\n",
       "    .dataframe tbody tr th:only-of-type {\n",
       "        vertical-align: middle;\n",
       "    }\n",
       "\n",
       "    .dataframe tbody tr th {\n",
       "        vertical-align: top;\n",
       "    }\n",
       "\n",
       "    .dataframe thead th {\n",
       "        text-align: right;\n",
       "    }\n",
       "</style>\n",
       "<table border=\"1\" class=\"dataframe\">\n",
       "  <thead>\n",
       "    <tr style=\"text-align: right;\">\n",
       "      <th></th>\n",
       "      <th>seller_address</th>\n",
       "      <th>warranty</th>\n",
       "      <th>base_price</th>\n",
       "      <th>shipping</th>\n",
       "      <th>non_mercado_pago_payment_methods</th>\n",
       "      <th>seller_id</th>\n",
       "      <th>variations</th>\n",
       "      <th>listing_type_id</th>\n",
       "      <th>price</th>\n",
       "      <th>attributes</th>\n",
       "      <th>...</th>\n",
       "      <th>secure_thumbnail</th>\n",
       "      <th>stop_time</th>\n",
       "      <th>status</th>\n",
       "      <th>video_id</th>\n",
       "      <th>catalog_product_id</th>\n",
       "      <th>initial_quantity</th>\n",
       "      <th>start_time</th>\n",
       "      <th>sold_quantity</th>\n",
       "      <th>available_quantity</th>\n",
       "      <th>used</th>\n",
       "    </tr>\n",
       "  </thead>\n",
       "  <tbody>\n",
       "    <tr>\n",
       "      <th>0</th>\n",
       "      <td>{'country': {'name': 'Argentina', 'id': 'AR'},...</td>\n",
       "      <td>NaN</td>\n",
       "      <td>80.0</td>\n",
       "      <td>{'local_pick_up': True, 'methods': [], 'tags':...</td>\n",
       "      <td>[{'description': 'Transferencia bancaria', 'id...</td>\n",
       "      <td>8208882349</td>\n",
       "      <td>[]</td>\n",
       "      <td>bronze</td>\n",
       "      <td>80.0</td>\n",
       "      <td>[]</td>\n",
       "      <td>...</td>\n",
       "      <td>https://a248.e.akamai.net/mla-s1-p.mlstatic.co...</td>\n",
       "      <td>1446669773000</td>\n",
       "      <td>active</td>\n",
       "      <td>NaN</td>\n",
       "      <td>NaN</td>\n",
       "      <td>1</td>\n",
       "      <td>1441485773000</td>\n",
       "      <td>0</td>\n",
       "      <td>1</td>\n",
       "      <td>False</td>\n",
       "    </tr>\n",
       "    <tr>\n",
       "      <th>1</th>\n",
       "      <td>{'country': {'name': 'Argentina', 'id': 'AR'},...</td>\n",
       "      <td>NUESTRA REPUTACION</td>\n",
       "      <td>2650.0</td>\n",
       "      <td>{'local_pick_up': True, 'methods': [], 'tags':...</td>\n",
       "      <td>[{'description': 'Transferencia bancaria', 'id...</td>\n",
       "      <td>8141699488</td>\n",
       "      <td>[]</td>\n",
       "      <td>silver</td>\n",
       "      <td>2650.0</td>\n",
       "      <td>[]</td>\n",
       "      <td>...</td>\n",
       "      <td>https://a248.e.akamai.net/mla-s1-p.mlstatic.co...</td>\n",
       "      <td>1448474910000</td>\n",
       "      <td>active</td>\n",
       "      <td>NaN</td>\n",
       "      <td>NaN</td>\n",
       "      <td>1</td>\n",
       "      <td>1443290910000</td>\n",
       "      <td>0</td>\n",
       "      <td>1</td>\n",
       "      <td>True</td>\n",
       "    </tr>\n",
       "    <tr>\n",
       "      <th>2</th>\n",
       "      <td>{'country': {'name': 'Argentina', 'id': 'AR'},...</td>\n",
       "      <td>NaN</td>\n",
       "      <td>60.0</td>\n",
       "      <td>{'local_pick_up': True, 'methods': [], 'tags':...</td>\n",
       "      <td>[{'description': 'Transferencia bancaria', 'id...</td>\n",
       "      <td>8386096505</td>\n",
       "      <td>[]</td>\n",
       "      <td>bronze</td>\n",
       "      <td>60.0</td>\n",
       "      <td>[]</td>\n",
       "      <td>...</td>\n",
       "      <td>https://a248.e.akamai.net/mla-s1-p.mlstatic.co...</td>\n",
       "      <td>1447027027000</td>\n",
       "      <td>active</td>\n",
       "      <td>NaN</td>\n",
       "      <td>NaN</td>\n",
       "      <td>1</td>\n",
       "      <td>1441843027000</td>\n",
       "      <td>0</td>\n",
       "      <td>1</td>\n",
       "      <td>True</td>\n",
       "    </tr>\n",
       "    <tr>\n",
       "      <th>3</th>\n",
       "      <td>{'country': {'name': 'Argentina', 'id': 'AR'},...</td>\n",
       "      <td>NaN</td>\n",
       "      <td>580.0</td>\n",
       "      <td>{'local_pick_up': True, 'methods': [], 'tags':...</td>\n",
       "      <td>[{'description': 'Transferencia bancaria', 'id...</td>\n",
       "      <td>5377752182</td>\n",
       "      <td>[]</td>\n",
       "      <td>silver</td>\n",
       "      <td>580.0</td>\n",
       "      <td>[]</td>\n",
       "      <td>...</td>\n",
       "      <td>https://a248.e.akamai.net/mla-s2-p.mlstatic.co...</td>\n",
       "      <td>1449191596000</td>\n",
       "      <td>active</td>\n",
       "      <td>NaN</td>\n",
       "      <td>NaN</td>\n",
       "      <td>1</td>\n",
       "      <td>1443466076000</td>\n",
       "      <td>0</td>\n",
       "      <td>1</td>\n",
       "      <td>False</td>\n",
       "    </tr>\n",
       "    <tr>\n",
       "      <th>4</th>\n",
       "      <td>{'country': {'name': 'Argentina', 'id': 'AR'},...</td>\n",
       "      <td>MI REPUTACION.</td>\n",
       "      <td>30.0</td>\n",
       "      <td>{'local_pick_up': True, 'methods': [], 'tags':...</td>\n",
       "      <td>[{'description': 'Transferencia bancaria', 'id...</td>\n",
       "      <td>2938071313</td>\n",
       "      <td>[]</td>\n",
       "      <td>bronze</td>\n",
       "      <td>30.0</td>\n",
       "      <td>[]</td>\n",
       "      <td>...</td>\n",
       "      <td>https://a248.e.akamai.net/mla-s2-p.mlstatic.co...</td>\n",
       "      <td>1445638040000</td>\n",
       "      <td>active</td>\n",
       "      <td>NaN</td>\n",
       "      <td>NaN</td>\n",
       "      <td>1</td>\n",
       "      <td>1440454040000</td>\n",
       "      <td>0</td>\n",
       "      <td>1</td>\n",
       "      <td>True</td>\n",
       "    </tr>\n",
       "  </tbody>\n",
       "</table>\n",
       "<p>5 rows × 32 columns</p>\n",
       "</div>"
      ],
      "text/plain": [
       "                                      seller_address            warranty  \\\n",
       "0  {'country': {'name': 'Argentina', 'id': 'AR'},...                 NaN   \n",
       "1  {'country': {'name': 'Argentina', 'id': 'AR'},...  NUESTRA REPUTACION   \n",
       "2  {'country': {'name': 'Argentina', 'id': 'AR'},...                 NaN   \n",
       "3  {'country': {'name': 'Argentina', 'id': 'AR'},...                 NaN   \n",
       "4  {'country': {'name': 'Argentina', 'id': 'AR'},...      MI REPUTACION.   \n",
       "\n",
       "   base_price                                           shipping  \\\n",
       "0        80.0  {'local_pick_up': True, 'methods': [], 'tags':...   \n",
       "1      2650.0  {'local_pick_up': True, 'methods': [], 'tags':...   \n",
       "2        60.0  {'local_pick_up': True, 'methods': [], 'tags':...   \n",
       "3       580.0  {'local_pick_up': True, 'methods': [], 'tags':...   \n",
       "4        30.0  {'local_pick_up': True, 'methods': [], 'tags':...   \n",
       "\n",
       "                    non_mercado_pago_payment_methods   seller_id variations  \\\n",
       "0  [{'description': 'Transferencia bancaria', 'id...  8208882349         []   \n",
       "1  [{'description': 'Transferencia bancaria', 'id...  8141699488         []   \n",
       "2  [{'description': 'Transferencia bancaria', 'id...  8386096505         []   \n",
       "3  [{'description': 'Transferencia bancaria', 'id...  5377752182         []   \n",
       "4  [{'description': 'Transferencia bancaria', 'id...  2938071313         []   \n",
       "\n",
       "  listing_type_id   price attributes  ...  \\\n",
       "0          bronze    80.0         []  ...   \n",
       "1          silver  2650.0         []  ...   \n",
       "2          bronze    60.0         []  ...   \n",
       "3          silver   580.0         []  ...   \n",
       "4          bronze    30.0         []  ...   \n",
       "\n",
       "                                    secure_thumbnail      stop_time  status  \\\n",
       "0  https://a248.e.akamai.net/mla-s1-p.mlstatic.co...  1446669773000  active   \n",
       "1  https://a248.e.akamai.net/mla-s1-p.mlstatic.co...  1448474910000  active   \n",
       "2  https://a248.e.akamai.net/mla-s1-p.mlstatic.co...  1447027027000  active   \n",
       "3  https://a248.e.akamai.net/mla-s2-p.mlstatic.co...  1449191596000  active   \n",
       "4  https://a248.e.akamai.net/mla-s2-p.mlstatic.co...  1445638040000  active   \n",
       "\n",
       "  video_id catalog_product_id initial_quantity     start_time  sold_quantity  \\\n",
       "0      NaN                NaN                1  1441485773000              0   \n",
       "1      NaN                NaN                1  1443290910000              0   \n",
       "2      NaN                NaN                1  1441843027000              0   \n",
       "3      NaN                NaN                1  1443466076000              0   \n",
       "4      NaN                NaN                1  1440454040000              0   \n",
       "\n",
       "  available_quantity   used  \n",
       "0                  1  False  \n",
       "1                  1   True  \n",
       "2                  1   True  \n",
       "3                  1  False  \n",
       "4                  1   True  \n",
       "\n",
       "[5 rows x 32 columns]"
      ]
     },
     "execution_count": 2,
     "metadata": {},
     "output_type": "execute_result"
    }
   ],
   "source": [
    "X_dataframe = pd.read_csv(\"../data/X_dataframe.csv\")\n",
    "X_dataframe.head()"
   ]
  },
  {
   "cell_type": "markdown",
   "id": "8b930c76",
   "metadata": {},
   "source": [
    "### Shipping"
   ]
  },
  {
   "cell_type": "code",
   "execution_count": 3,
   "id": "ac5e1186",
   "metadata": {},
   "outputs": [
    {
     "data": {
      "text/plain": [
       "count                                                 90000\n",
       "unique                                                   39\n",
       "top       {'local_pick_up': True, 'methods': [], 'tags':...\n",
       "freq                                                  37292\n",
       "Name: shipping, dtype: object"
      ]
     },
     "execution_count": 3,
     "metadata": {},
     "output_type": "execute_result"
    }
   ],
   "source": [
    "X_dataframe[\"shipping\"].describe()"
   ]
  },
  {
   "cell_type": "code",
   "execution_count": 4,
   "id": "8de29c53",
   "metadata": {},
   "outputs": [
    {
     "data": {
      "text/plain": [
       "np.int64(0)"
      ]
     },
     "execution_count": 4,
     "metadata": {},
     "output_type": "execute_result"
    }
   ],
   "source": [
    "X_dataframe[\"shipping\"].isna().sum()"
   ]
  },
  {
   "cell_type": "code",
   "execution_count": 5,
   "id": "007a4b72",
   "metadata": {},
   "outputs": [
    {
     "data": {
      "text/plain": [
       "\"{'local_pick_up': True, 'methods': [], 'tags': [], 'free_shipping': False, 'mode': 'not_specified', 'dimensions': None}\""
      ]
     },
     "execution_count": 5,
     "metadata": {},
     "output_type": "execute_result"
    }
   ],
   "source": [
    "X_dataframe[\"shipping\"].iloc[0]"
   ]
  },
  {
   "cell_type": "markdown",
   "id": "22e4789d",
   "metadata": {},
   "source": [
    "#### Dimensions"
   ]
  },
  {
   "cell_type": "code",
   "execution_count": 17,
   "id": "74def137",
   "metadata": {},
   "outputs": [
    {
     "data": {
      "text/plain": [
       "shipping\n",
       "33x20x12,300     4\n",
       "30x30x30,650     3\n",
       "33x20x12,80      2\n",
       "33x20x12,400     2\n",
       "33x20x12,1000    2\n",
       "33x20x12,100     2\n",
       "5x25x25,150      1\n",
       "33x20x12,500     1\n",
       "10x10x20,700     1\n",
       "10x20x20,350     1\n",
       "5x20x30,650      1\n",
       "33x20x12,800     1\n",
       "15x30x45,650     1\n",
       "Name: count, dtype: int64"
      ]
     },
     "execution_count": 17,
     "metadata": {},
     "output_type": "execute_result"
    }
   ],
   "source": [
    "import ast\n",
    "X_dataframe[\"shipping\"].apply(lambda x: ast.literal_eval(x)[\"dimensions\"]).value_counts()"
   ]
  },
  {
   "cell_type": "code",
   "execution_count": 19,
   "id": "304b9f1a",
   "metadata": {},
   "outputs": [
    {
     "data": {
      "text/plain": [
       "np.int64(89978)"
      ]
     },
     "execution_count": 19,
     "metadata": {},
     "output_type": "execute_result"
    }
   ],
   "source": [
    "X_dataframe[\"shipping\"].apply(\n",
    "    lambda x: ast.literal_eval(x)[\"dimensions\"]\n",
    ").isnull().sum()"
   ]
  },
  {
   "cell_type": "markdown",
   "id": "8b27d6a4",
   "metadata": {},
   "source": [
    "99% of the information in the dimensions is null"
   ]
  },
  {
   "cell_type": "markdown",
   "id": "81a9f2c4",
   "metadata": {},
   "source": [
    "#### Local Pickup"
   ]
  },
  {
   "cell_type": "code",
   "execution_count": 21,
   "id": "c45b5628",
   "metadata": {},
   "outputs": [
    {
     "name": "stdout",
     "output_type": "stream",
     "text": [
      "90000\n"
     ]
    },
    {
     "data": {
      "text/plain": [
       "shipping_local_pick_up\n",
       "True     71577\n",
       "False    18423\n",
       "Name: count, dtype: int64"
      ]
     },
     "execution_count": 21,
     "metadata": {},
     "output_type": "execute_result"
    }
   ],
   "source": [
    "X_dataframe[\"shipping_local_pick_up\"] = X_dataframe[\"shipping\"].apply(\n",
    "    lambda x: ast.literal_eval(x)[\"local_pick_up\"]\n",
    ")\n",
    "print(X_dataframe[\"shipping_local_pick_up\"].count())\n",
    "X_dataframe[\"shipping_local_pick_up\"].value_counts()"
   ]
  },
  {
   "cell_type": "code",
   "execution_count": 22,
   "id": "6e373f56",
   "metadata": {},
   "outputs": [
    {
     "data": {
      "text/html": [
       "<div>\n",
       "<style scoped>\n",
       "    .dataframe tbody tr th:only-of-type {\n",
       "        vertical-align: middle;\n",
       "    }\n",
       "\n",
       "    .dataframe tbody tr th {\n",
       "        vertical-align: top;\n",
       "    }\n",
       "\n",
       "    .dataframe thead th {\n",
       "        text-align: right;\n",
       "    }\n",
       "</style>\n",
       "<table border=\"1\" class=\"dataframe\">\n",
       "  <thead>\n",
       "    <tr style=\"text-align: right;\">\n",
       "      <th></th>\n",
       "      <th>n</th>\n",
       "      <th>prop_used</th>\n",
       "      <th>ci_lower</th>\n",
       "      <th>ci_upper</th>\n",
       "    </tr>\n",
       "    <tr>\n",
       "      <th>shipping_local_pick_up</th>\n",
       "      <th></th>\n",
       "      <th></th>\n",
       "      <th></th>\n",
       "      <th></th>\n",
       "    </tr>\n",
       "  </thead>\n",
       "  <tbody>\n",
       "    <tr>\n",
       "      <th>False</th>\n",
       "      <td>18423</td>\n",
       "      <td>0.503990</td>\n",
       "      <td>0.496770</td>\n",
       "      <td>0.511208</td>\n",
       "    </tr>\n",
       "    <tr>\n",
       "      <th>True</th>\n",
       "      <td>71577</td>\n",
       "      <td>0.452142</td>\n",
       "      <td>0.448499</td>\n",
       "      <td>0.455791</td>\n",
       "    </tr>\n",
       "  </tbody>\n",
       "</table>\n",
       "</div>"
      ],
      "text/plain": [
       "                            n  prop_used  ci_lower  ci_upper\n",
       "shipping_local_pick_up                                      \n",
       "False                   18423   0.503990  0.496770  0.511208\n",
       "True                    71577   0.452142  0.448499  0.455791"
      ]
     },
     "metadata": {},
     "output_type": "display_data"
    }
   ],
   "source": [
    "res = column_analysis(\"shipping_local_pick_up\", X_dataframe)\n",
    "display(res)"
   ]
  },
  {
   "cell_type": "code",
   "execution_count": 23,
   "id": "2595a255",
   "metadata": {},
   "outputs": [
    {
     "data": {
      "image/png": "[encoded data removed]",
      "text/plain": [
       "<Figure size 640x480 with 1 Axes>"
      ]
     },
     "metadata": {},
     "output_type": "display_data"
    }
   ],
   "source": [
    "plot_column_analysis(res)"
   ]
  },
  {
   "cell_type": "markdown",
   "id": "5b346309",
   "metadata": {},
   "source": [
    "There's a difference in distribution of the condition, conditioned if there's local pickup or not. \n",
    "Slightly more chance to be new if there's local pickup"
   ]
  },
  {
   "cell_type": "code",
   "execution_count": 24,
   "id": "e725731c",
   "metadata": {},
   "outputs": [
    {
     "data": {
      "text/html": [
       "<div>\n",
       "<style scoped>\n",
       "    .dataframe tbody tr th:only-of-type {\n",
       "        vertical-align: middle;\n",
       "    }\n",
       "\n",
       "    .dataframe tbody tr th {\n",
       "        vertical-align: top;\n",
       "    }\n",
       "\n",
       "    .dataframe thead th {\n",
       "        text-align: right;\n",
       "    }\n",
       "</style>\n",
       "<table border=\"1\" class=\"dataframe\">\n",
       "  <thead>\n",
       "    <tr style=\"text-align: right;\">\n",
       "      <th></th>\n",
       "      <th>seller_address</th>\n",
       "      <th>warranty</th>\n",
       "      <th>base_price</th>\n",
       "      <th>shipping</th>\n",
       "      <th>non_mercado_pago_payment_methods</th>\n",
       "      <th>seller_id</th>\n",
       "      <th>variations</th>\n",
       "      <th>listing_type_id</th>\n",
       "      <th>price</th>\n",
       "      <th>attributes</th>\n",
       "      <th>...</th>\n",
       "      <th>stop_time</th>\n",
       "      <th>status</th>\n",
       "      <th>video_id</th>\n",
       "      <th>catalog_product_id</th>\n",
       "      <th>initial_quantity</th>\n",
       "      <th>start_time</th>\n",
       "      <th>sold_quantity</th>\n",
       "      <th>available_quantity</th>\n",
       "      <th>used</th>\n",
       "      <th>shipping_local_pick_up</th>\n",
       "    </tr>\n",
       "  </thead>\n",
       "  <tbody>\n",
       "    <tr>\n",
       "      <th>0</th>\n",
       "      <td>{'country': {'name': 'Argentina', 'id': 'AR'},...</td>\n",
       "      <td>NaN</td>\n",
       "      <td>80.0</td>\n",
       "      <td>{'local_pick_up': True, 'methods': [], 'tags':...</td>\n",
       "      <td>[{'description': 'Transferencia bancaria', 'id...</td>\n",
       "      <td>8208882349</td>\n",
       "      <td>[]</td>\n",
       "      <td>bronze</td>\n",
       "      <td>80.0</td>\n",
       "      <td>[]</td>\n",
       "      <td>...</td>\n",
       "      <td>1446669773000</td>\n",
       "      <td>active</td>\n",
       "      <td>NaN</td>\n",
       "      <td>NaN</td>\n",
       "      <td>1</td>\n",
       "      <td>1441485773000</td>\n",
       "      <td>0</td>\n",
       "      <td>1</td>\n",
       "      <td>False</td>\n",
       "      <td>True</td>\n",
       "    </tr>\n",
       "    <tr>\n",
       "      <th>1</th>\n",
       "      <td>{'country': {'name': 'Argentina', 'id': 'AR'},...</td>\n",
       "      <td>NUESTRA REPUTACION</td>\n",
       "      <td>2650.0</td>\n",
       "      <td>{'local_pick_up': True, 'methods': [], 'tags':...</td>\n",
       "      <td>[{'description': 'Transferencia bancaria', 'id...</td>\n",
       "      <td>8141699488</td>\n",
       "      <td>[]</td>\n",
       "      <td>silver</td>\n",
       "      <td>2650.0</td>\n",
       "      <td>[]</td>\n",
       "      <td>...</td>\n",
       "      <td>1448474910000</td>\n",
       "      <td>active</td>\n",
       "      <td>NaN</td>\n",
       "      <td>NaN</td>\n",
       "      <td>1</td>\n",
       "      <td>1443290910000</td>\n",
       "      <td>0</td>\n",
       "      <td>1</td>\n",
       "      <td>True</td>\n",
       "      <td>True</td>\n",
       "    </tr>\n",
       "    <tr>\n",
       "      <th>2</th>\n",
       "      <td>{'country': {'name': 'Argentina', 'id': 'AR'},...</td>\n",
       "      <td>NaN</td>\n",
       "      <td>60.0</td>\n",
       "      <td>{'local_pick_up': True, 'methods': [], 'tags':...</td>\n",
       "      <td>[{'description': 'Transferencia bancaria', 'id...</td>\n",
       "      <td>8386096505</td>\n",
       "      <td>[]</td>\n",
       "      <td>bronze</td>\n",
       "      <td>60.0</td>\n",
       "      <td>[]</td>\n",
       "      <td>...</td>\n",
       "      <td>1447027027000</td>\n",
       "      <td>active</td>\n",
       "      <td>NaN</td>\n",
       "      <td>NaN</td>\n",
       "      <td>1</td>\n",
       "      <td>1441843027000</td>\n",
       "      <td>0</td>\n",
       "      <td>1</td>\n",
       "      <td>True</td>\n",
       "      <td>True</td>\n",
       "    </tr>\n",
       "    <tr>\n",
       "      <th>3</th>\n",
       "      <td>{'country': {'name': 'Argentina', 'id': 'AR'},...</td>\n",
       "      <td>NaN</td>\n",
       "      <td>580.0</td>\n",
       "      <td>{'local_pick_up': True, 'methods': [], 'tags':...</td>\n",
       "      <td>[{'description': 'Transferencia bancaria', 'id...</td>\n",
       "      <td>5377752182</td>\n",
       "      <td>[]</td>\n",
       "      <td>silver</td>\n",
       "      <td>580.0</td>\n",
       "      <td>[]</td>\n",
       "      <td>...</td>\n",
       "      <td>1449191596000</td>\n",
       "      <td>active</td>\n",
       "      <td>NaN</td>\n",
       "      <td>NaN</td>\n",
       "      <td>1</td>\n",
       "      <td>1443466076000</td>\n",
       "      <td>0</td>\n",
       "      <td>1</td>\n",
       "      <td>False</td>\n",
       "      <td>True</td>\n",
       "    </tr>\n",
       "    <tr>\n",
       "      <th>4</th>\n",
       "      <td>{'country': {'name': 'Argentina', 'id': 'AR'},...</td>\n",
       "      <td>MI REPUTACION.</td>\n",
       "      <td>30.0</td>\n",
       "      <td>{'local_pick_up': True, 'methods': [], 'tags':...</td>\n",
       "      <td>[{'description': 'Transferencia bancaria', 'id...</td>\n",
       "      <td>2938071313</td>\n",
       "      <td>[]</td>\n",
       "      <td>bronze</td>\n",
       "      <td>30.0</td>\n",
       "      <td>[]</td>\n",
       "      <td>...</td>\n",
       "      <td>1445638040000</td>\n",
       "      <td>active</td>\n",
       "      <td>NaN</td>\n",
       "      <td>NaN</td>\n",
       "      <td>1</td>\n",
       "      <td>1440454040000</td>\n",
       "      <td>0</td>\n",
       "      <td>1</td>\n",
       "      <td>True</td>\n",
       "      <td>True</td>\n",
       "    </tr>\n",
       "    <tr>\n",
       "      <th>...</th>\n",
       "      <td>...</td>\n",
       "      <td>...</td>\n",
       "      <td>...</td>\n",
       "      <td>...</td>\n",
       "      <td>...</td>\n",
       "      <td>...</td>\n",
       "      <td>...</td>\n",
       "      <td>...</td>\n",
       "      <td>...</td>\n",
       "      <td>...</td>\n",
       "      <td>...</td>\n",
       "      <td>...</td>\n",
       "      <td>...</td>\n",
       "      <td>...</td>\n",
       "      <td>...</td>\n",
       "      <td>...</td>\n",
       "      <td>...</td>\n",
       "      <td>...</td>\n",
       "      <td>...</td>\n",
       "      <td>...</td>\n",
       "      <td>...</td>\n",
       "    </tr>\n",
       "    <tr>\n",
       "      <th>89992</th>\n",
       "      <td>{'country': {'name': 'Argentina', 'id': 'AR'},...</td>\n",
       "      <td>NaN</td>\n",
       "      <td>1000.0</td>\n",
       "      <td>{'local_pick_up': True, 'methods': [], 'tags':...</td>\n",
       "      <td>[{'description': 'Efectivo', 'id': 'MLAMO', 't...</td>\n",
       "      <td>2024252139</td>\n",
       "      <td>[]</td>\n",
       "      <td>bronze</td>\n",
       "      <td>1000.0</td>\n",
       "      <td>[]</td>\n",
       "      <td>...</td>\n",
       "      <td>1446817111000</td>\n",
       "      <td>active</td>\n",
       "      <td>NaN</td>\n",
       "      <td>NaN</td>\n",
       "      <td>1</td>\n",
       "      <td>1441633111000</td>\n",
       "      <td>0</td>\n",
       "      <td>1</td>\n",
       "      <td>True</td>\n",
       "      <td>True</td>\n",
       "    </tr>\n",
       "    <tr>\n",
       "      <th>89993</th>\n",
       "      <td>{'country': {'name': 'Argentina', 'id': 'AR'},...</td>\n",
       "      <td>NaN</td>\n",
       "      <td>350.0</td>\n",
       "      <td>{'local_pick_up': True, 'methods': [], 'tags':...</td>\n",
       "      <td>[{'description': 'Transferencia bancaria', 'id...</td>\n",
       "      <td>4094359441</td>\n",
       "      <td>[]</td>\n",
       "      <td>bronze</td>\n",
       "      <td>350.0</td>\n",
       "      <td>[]</td>\n",
       "      <td>...</td>\n",
       "      <td>1448376757000</td>\n",
       "      <td>active</td>\n",
       "      <td>NaN</td>\n",
       "      <td>NaN</td>\n",
       "      <td>10</td>\n",
       "      <td>1443192757000</td>\n",
       "      <td>0</td>\n",
       "      <td>10</td>\n",
       "      <td>False</td>\n",
       "      <td>True</td>\n",
       "    </tr>\n",
       "    <tr>\n",
       "      <th>89996</th>\n",
       "      <td>{'country': {'name': 'Argentina', 'id': 'AR'},...</td>\n",
       "      <td>NaN</td>\n",
       "      <td>126.0</td>\n",
       "      <td>{'local_pick_up': True, 'methods': [], 'tags':...</td>\n",
       "      <td>[{'description': 'Transferencia bancaria', 'id...</td>\n",
       "      <td>4665194056</td>\n",
       "      <td>[]</td>\n",
       "      <td>bronze</td>\n",
       "      <td>126.0</td>\n",
       "      <td>[]</td>\n",
       "      <td>...</td>\n",
       "      <td>1448148621000</td>\n",
       "      <td>paused</td>\n",
       "      <td>NaN</td>\n",
       "      <td>NaN</td>\n",
       "      <td>1</td>\n",
       "      <td>1442964621000</td>\n",
       "      <td>1</td>\n",
       "      <td>1</td>\n",
       "      <td>False</td>\n",
       "      <td>True</td>\n",
       "    </tr>\n",
       "    <tr>\n",
       "      <th>89997</th>\n",
       "      <td>{'country': {'name': 'Argentina', 'id': 'AR'},...</td>\n",
       "      <td>NaN</td>\n",
       "      <td>300.0</td>\n",
       "      <td>{'local_pick_up': True, 'methods': [], 'tags':...</td>\n",
       "      <td>[{'description': 'Efectivo', 'id': 'MLAMO', 't...</td>\n",
       "      <td>3046474001</td>\n",
       "      <td>[]</td>\n",
       "      <td>bronze</td>\n",
       "      <td>300.0</td>\n",
       "      <td>[]</td>\n",
       "      <td>...</td>\n",
       "      <td>1445636031000</td>\n",
       "      <td>active</td>\n",
       "      <td>NaN</td>\n",
       "      <td>NaN</td>\n",
       "      <td>1</td>\n",
       "      <td>1440452031000</td>\n",
       "      <td>0</td>\n",
       "      <td>1</td>\n",
       "      <td>False</td>\n",
       "      <td>True</td>\n",
       "    </tr>\n",
       "    <tr>\n",
       "      <th>89999</th>\n",
       "      <td>{'country': {'name': 'Argentina', 'id': 'AR'},...</td>\n",
       "      <td>NaN</td>\n",
       "      <td>470.0</td>\n",
       "      <td>{'local_pick_up': True, 'methods': [], 'tags':...</td>\n",
       "      <td>[]</td>\n",
       "      <td>9518711314</td>\n",
       "      <td>[{'attribute_combinations': [{'value_id': '920...</td>\n",
       "      <td>free</td>\n",
       "      <td>470.0</td>\n",
       "      <td>[{'value_id': 'female', 'attribute_group_id': ...</td>\n",
       "      <td>...</td>\n",
       "      <td>1449878053000</td>\n",
       "      <td>active</td>\n",
       "      <td>NaN</td>\n",
       "      <td>NaN</td>\n",
       "      <td>1</td>\n",
       "      <td>1444694053000</td>\n",
       "      <td>0</td>\n",
       "      <td>1</td>\n",
       "      <td>True</td>\n",
       "      <td>True</td>\n",
       "    </tr>\n",
       "  </tbody>\n",
       "</table>\n",
       "<p>71577 rows × 33 columns</p>\n",
       "</div>"
      ],
      "text/plain": [
       "                                          seller_address            warranty  \\\n",
       "0      {'country': {'name': 'Argentina', 'id': 'AR'},...                 NaN   \n",
       "1      {'country': {'name': 'Argentina', 'id': 'AR'},...  NUESTRA REPUTACION   \n",
       "2      {'country': {'name': 'Argentina', 'id': 'AR'},...                 NaN   \n",
       "3      {'country': {'name': 'Argentina', 'id': 'AR'},...                 NaN   \n",
       "4      {'country': {'name': 'Argentina', 'id': 'AR'},...      MI REPUTACION.   \n",
       "...                                                  ...                 ...   \n",
       "89992  {'country': {'name': 'Argentina', 'id': 'AR'},...                 NaN   \n",
       "89993  {'country': {'name': 'Argentina', 'id': 'AR'},...                 NaN   \n",
       "89996  {'country': {'name': 'Argentina', 'id': 'AR'},...                 NaN   \n",
       "89997  {'country': {'name': 'Argentina', 'id': 'AR'},...                 NaN   \n",
       "89999  {'country': {'name': 'Argentina', 'id': 'AR'},...                 NaN   \n",
       "\n",
       "       base_price                                           shipping  \\\n",
       "0            80.0  {'local_pick_up': True, 'methods': [], 'tags':...   \n",
       "1          2650.0  {'local_pick_up': True, 'methods': [], 'tags':...   \n",
       "2            60.0  {'local_pick_up': True, 'methods': [], 'tags':...   \n",
       "3           580.0  {'local_pick_up': True, 'methods': [], 'tags':...   \n",
       "4            30.0  {'local_pick_up': True, 'methods': [], 'tags':...   \n",
       "...           ...                                                ...   \n",
       "89992      1000.0  {'local_pick_up': True, 'methods': [], 'tags':...   \n",
       "89993       350.0  {'local_pick_up': True, 'methods': [], 'tags':...   \n",
       "89996       126.0  {'local_pick_up': True, 'methods': [], 'tags':...   \n",
       "89997       300.0  {'local_pick_up': True, 'methods': [], 'tags':...   \n",
       "89999       470.0  {'local_pick_up': True, 'methods': [], 'tags':...   \n",
       "\n",
       "                        non_mercado_pago_payment_methods   seller_id  \\\n",
       "0      [{'description': 'Transferencia bancaria', 'id...  8208882349   \n",
       "1      [{'description': 'Transferencia bancaria', 'id...  8141699488   \n",
       "2      [{'description': 'Transferencia bancaria', 'id...  8386096505   \n",
       "3      [{'description': 'Transferencia bancaria', 'id...  5377752182   \n",
       "4      [{'description': 'Transferencia bancaria', 'id...  2938071313   \n",
       "...                                                  ...         ...   \n",
       "89992  [{'description': 'Efectivo', 'id': 'MLAMO', 't...  2024252139   \n",
       "89993  [{'description': 'Transferencia bancaria', 'id...  4094359441   \n",
       "89996  [{'description': 'Transferencia bancaria', 'id...  4665194056   \n",
       "89997  [{'description': 'Efectivo', 'id': 'MLAMO', 't...  3046474001   \n",
       "89999                                                 []  9518711314   \n",
       "\n",
       "                                              variations listing_type_id  \\\n",
       "0                                                     []          bronze   \n",
       "1                                                     []          silver   \n",
       "2                                                     []          bronze   \n",
       "3                                                     []          silver   \n",
       "4                                                     []          bronze   \n",
       "...                                                  ...             ...   \n",
       "89992                                                 []          bronze   \n",
       "89993                                                 []          bronze   \n",
       "89996                                                 []          bronze   \n",
       "89997                                                 []          bronze   \n",
       "89999  [{'attribute_combinations': [{'value_id': '920...            free   \n",
       "\n",
       "        price                                         attributes  ...  \\\n",
       "0        80.0                                                 []  ...   \n",
       "1      2650.0                                                 []  ...   \n",
       "2        60.0                                                 []  ...   \n",
       "3       580.0                                                 []  ...   \n",
       "4        30.0                                                 []  ...   \n",
       "...       ...                                                ...  ...   \n",
       "89992  1000.0                                                 []  ...   \n",
       "89993   350.0                                                 []  ...   \n",
       "89996   126.0                                                 []  ...   \n",
       "89997   300.0                                                 []  ...   \n",
       "89999   470.0  [{'value_id': 'female', 'attribute_group_id': ...  ...   \n",
       "\n",
       "           stop_time  status video_id catalog_product_id initial_quantity  \\\n",
       "0      1446669773000  active      NaN                NaN                1   \n",
       "1      1448474910000  active      NaN                NaN                1   \n",
       "2      1447027027000  active      NaN                NaN                1   \n",
       "3      1449191596000  active      NaN                NaN                1   \n",
       "4      1445638040000  active      NaN                NaN                1   \n",
       "...              ...     ...      ...                ...              ...   \n",
       "89992  1446817111000  active      NaN                NaN                1   \n",
       "89993  1448376757000  active      NaN                NaN               10   \n",
       "89996  1448148621000  paused      NaN                NaN                1   \n",
       "89997  1445636031000  active      NaN                NaN                1   \n",
       "89999  1449878053000  active      NaN                NaN                1   \n",
       "\n",
       "          start_time  sold_quantity  available_quantity   used  \\\n",
       "0      1441485773000              0                   1  False   \n",
       "1      1443290910000              0                   1   True   \n",
       "2      1441843027000              0                   1   True   \n",
       "3      1443466076000              0                   1  False   \n",
       "4      1440454040000              0                   1   True   \n",
       "...              ...            ...                 ...    ...   \n",
       "89992  1441633111000              0                   1   True   \n",
       "89993  1443192757000              0                  10  False   \n",
       "89996  1442964621000              1                   1  False   \n",
       "89997  1440452031000              0                   1  False   \n",
       "89999  1444694053000              0                   1   True   \n",
       "\n",
       "      shipping_local_pick_up  \n",
       "0                       True  \n",
       "1                       True  \n",
       "2                       True  \n",
       "3                       True  \n",
       "4                       True  \n",
       "...                      ...  \n",
       "89992                   True  \n",
       "89993                   True  \n",
       "89996                   True  \n",
       "89997                   True  \n",
       "89999                   True  \n",
       "\n",
       "[71577 rows x 33 columns]"
      ]
     },
     "execution_count": 24,
     "metadata": {},
     "output_type": "execute_result"
    }
   ],
   "source": [
    "X_dataframe.loc[X_dataframe[\"shipping_local_pick_up\"] == True]"
   ]
  },
  {
   "cell_type": "markdown",
   "id": "36c6b6b6",
   "metadata": {},
   "source": [
    "#### Free Shipping"
   ]
  },
  {
   "cell_type": "code",
   "execution_count": 55,
   "id": "35c03256",
   "metadata": {},
   "outputs": [
    {
     "data": {
      "text/plain": [
       "shipping_free_shipping\n",
       "False    87303\n",
       "True      2697\n",
       "Name: count, dtype: int64"
      ]
     },
     "execution_count": 55,
     "metadata": {},
     "output_type": "execute_result"
    }
   ],
   "source": [
    "X_dataframe[\"shipping_free_shipping\"] = X_dataframe[\"shipping\"].apply(lambda x: x[\"free_shipping\"])\n",
    "X_dataframe[\"shipping_free_shipping\"].value_counts()"
   ]
  },
  {
   "cell_type": "code",
   "execution_count": 56,
   "id": "80511325",
   "metadata": {},
   "outputs": [
    {
     "data": {
      "text/html": [
       "<div>\n",
       "<style scoped>\n",
       "    .dataframe tbody tr th:only-of-type {\n",
       "        vertical-align: middle;\n",
       "    }\n",
       "\n",
       "    .dataframe tbody tr th {\n",
       "        vertical-align: top;\n",
       "    }\n",
       "\n",
       "    .dataframe thead th {\n",
       "        text-align: right;\n",
       "    }\n",
       "</style>\n",
       "<table border=\"1\" class=\"dataframe\">\n",
       "  <thead>\n",
       "    <tr style=\"text-align: right;\">\n",
       "      <th></th>\n",
       "      <th>n</th>\n",
       "      <th>prop_used</th>\n",
       "      <th>ci_lower</th>\n",
       "      <th>ci_upper</th>\n",
       "    </tr>\n",
       "    <tr>\n",
       "      <th>shipping_free_shipping</th>\n",
       "      <th></th>\n",
       "      <th></th>\n",
       "      <th></th>\n",
       "      <th></th>\n",
       "    </tr>\n",
       "  </thead>\n",
       "  <tbody>\n",
       "    <tr>\n",
       "      <th>False</th>\n",
       "      <td>87303</td>\n",
       "      <td>0.474806</td>\n",
       "      <td>0.471494</td>\n",
       "      <td>0.478119</td>\n",
       "    </tr>\n",
       "    <tr>\n",
       "      <th>True</th>\n",
       "      <td>2697</td>\n",
       "      <td>0.072673</td>\n",
       "      <td>0.062874</td>\n",
       "      <td>0.082473</td>\n",
       "    </tr>\n",
       "  </tbody>\n",
       "</table>\n",
       "</div>"
      ],
      "text/plain": [
       "                            n  prop_used  ci_lower  ci_upper\n",
       "shipping_free_shipping                                      \n",
       "False                   87303   0.474806  0.471494  0.478119\n",
       "True                     2697   0.072673  0.062874  0.082473"
      ]
     },
     "metadata": {},
     "output_type": "display_data"
    }
   ],
   "source": [
    "res = column_analysis(\"shipping_free_shipping\", X_dataframe)\n",
    "display(res)"
   ]
  },
  {
   "cell_type": "code",
   "execution_count": 57,
   "id": "aec9e0a3",
   "metadata": {},
   "outputs": [
    {
     "data": {
      "image/png": "[encoded data removed]",
      "text/plain": [
       "<Figure size 640x480 with 1 Axes>"
      ]
     },
     "metadata": {},
     "output_type": "display_data"
    }
   ],
   "source": [
    "plot_column_analysis(res)"
   ]
  },
  {
   "cell_type": "markdown",
   "id": "5661da3f",
   "metadata": {},
   "source": [
    "If the shipping is free, it's very likely to be new. If not, there's a ~50/50 chance"
   ]
  },
  {
   "cell_type": "markdown",
   "id": "c1cfe42a",
   "metadata": {},
   "source": [
    "#### Methods"
   ]
  },
  {
   "cell_type": "code",
   "execution_count": 25,
   "id": "90aae178",
   "metadata": {},
   "outputs": [
    {
     "data": {
      "text/plain": [
       "shipping\n",
       "[]                                                                                                                                  87310\n",
       "[{'rule': {'value': None, 'free_mode': 'country'}, 'id': 73328}]                                                                     2641\n",
       "[{'rule': {'value': None, 'free_mode': 'country'}, 'id': 73330}]                                                                       37\n",
       "[{'rule': {'value': None, 'free_mode': 'country'}, 'id': 501145}]                                                                       6\n",
       "[{'rule': {'value': None, 'free_mode': 'country'}, 'id': 501146}]                                                                       4\n",
       "[{'rule': {'value': None, 'free_mode': 'country'}, 'id': 73328}, {'rule': {'value': None, 'free_mode': 'country'}, 'id': 73330}]        1\n",
       "Name: count, dtype: int64"
      ]
     },
     "execution_count": 25,
     "metadata": {},
     "output_type": "execute_result"
    }
   ],
   "source": [
    "def check_methods(value):\n",
    "    value = ast.literal_eval(value)\n",
    "    if \"methods\" in value.keys():\n",
    "        return value[\"methods\"]\n",
    "    elif \"free_methods\" in value.keys():\n",
    "        return value[\"free_methods\"]\n",
    "    else:\n",
    "        return None\n",
    "\n",
    "\n",
    "X_dataframe[\"shipping\"].apply(check_methods).value_counts()"
   ]
  },
  {
   "cell_type": "markdown",
   "id": "ab28a838",
   "metadata": {},
   "source": [
    "Seems like we have two possible methods: unknown and different IDs for free mode"
   ]
  },
  {
   "cell_type": "code",
   "execution_count": 26,
   "id": "b063b7ce",
   "metadata": {},
   "outputs": [
    {
     "data": {
      "text/plain": [
       "shipping_method\n",
       "unknown      87311\n",
       "free_mode     2689\n",
       "Name: count, dtype: int64"
      ]
     },
     "execution_count": 26,
     "metadata": {},
     "output_type": "execute_result"
    }
   ],
   "source": [
    "X_dataframe[\"shipping_method\"] = X_dataframe[\"shipping\"].apply(check_methods).apply(\n",
    "    lambda x: \"free_mode\" if isinstance(x, list) and len(x) > 0 else \"unknown\"\n",
    ")\n",
    "X_dataframe[\"shipping_method\"].value_counts()"
   ]
  },
  {
   "cell_type": "code",
   "execution_count": 27,
   "id": "1fe25377",
   "metadata": {},
   "outputs": [
    {
     "data": {
      "text/html": [
       "<div>\n",
       "<style scoped>\n",
       "    .dataframe tbody tr th:only-of-type {\n",
       "        vertical-align: middle;\n",
       "    }\n",
       "\n",
       "    .dataframe tbody tr th {\n",
       "        vertical-align: top;\n",
       "    }\n",
       "\n",
       "    .dataframe thead th {\n",
       "        text-align: right;\n",
       "    }\n",
       "</style>\n",
       "<table border=\"1\" class=\"dataframe\">\n",
       "  <thead>\n",
       "    <tr style=\"text-align: right;\">\n",
       "      <th></th>\n",
       "      <th>n</th>\n",
       "      <th>prop_used</th>\n",
       "      <th>ci_lower</th>\n",
       "      <th>ci_upper</th>\n",
       "    </tr>\n",
       "    <tr>\n",
       "      <th>shipping_method</th>\n",
       "      <th></th>\n",
       "      <th></th>\n",
       "      <th></th>\n",
       "      <th></th>\n",
       "    </tr>\n",
       "  </thead>\n",
       "  <tbody>\n",
       "    <tr>\n",
       "      <th>unknown</th>\n",
       "      <td>87311</td>\n",
       "      <td>0.474774</td>\n",
       "      <td>0.471463</td>\n",
       "      <td>0.478087</td>\n",
       "    </tr>\n",
       "    <tr>\n",
       "      <th>free_mode</th>\n",
       "      <td>2689</td>\n",
       "      <td>0.072518</td>\n",
       "      <td>0.063313</td>\n",
       "      <td>0.082942</td>\n",
       "    </tr>\n",
       "  </tbody>\n",
       "</table>\n",
       "</div>"
      ],
      "text/plain": [
       "                     n  prop_used  ci_lower  ci_upper\n",
       "shipping_method                                      \n",
       "unknown          87311   0.474774  0.471463  0.478087\n",
       "free_mode         2689   0.072518  0.063313  0.082942"
      ]
     },
     "metadata": {},
     "output_type": "display_data"
    }
   ],
   "source": [
    "res = column_analysis(\"shipping_method\", X_dataframe)\n",
    "display(res)"
   ]
  },
  {
   "cell_type": "code",
   "execution_count": 28,
   "id": "3e486e09",
   "metadata": {},
   "outputs": [
    {
     "data": {
      "image/png": "[encoded data removed]",
      "text/plain": [
       "<Figure size 640x480 with 1 Axes>"
      ]
     },
     "metadata": {},
     "output_type": "display_data"
    }
   ],
   "source": [
    "plot_column_analysis(res)"
   ]
  },
  {
   "cell_type": "markdown",
   "id": "8a2611d2",
   "metadata": {},
   "source": [
    "If the shipping has a \"free_mode\" method is more likely to be new"
   ]
  },
  {
   "cell_type": "markdown",
   "id": "ca418697",
   "metadata": {},
   "source": [
    "#### Tags"
   ]
  },
  {
   "cell_type": "code",
   "execution_count": 29,
   "id": "d1b23b8c",
   "metadata": {},
   "outputs": [
    {
     "data": {
      "text/plain": [
       "shipping\n",
       "[]                               89941\n",
       "[relisted_with_modifications]       50\n",
       "[free_method_upgraded]               9\n",
       "Name: count, dtype: int64"
      ]
     },
     "execution_count": 29,
     "metadata": {},
     "output_type": "execute_result"
    }
   ],
   "source": [
    "X_dataframe[\"shipping\"].apply(lambda x: ast.literal_eval(x)[\"tags\"]).value_counts()"
   ]
  },
  {
   "cell_type": "markdown",
   "id": "60185b37",
   "metadata": {},
   "source": [
    "More than 99% has no tags. It doesn't make sense to add this feature to the training dataset"
   ]
  },
  {
   "cell_type": "markdown",
   "id": "2c95278e",
   "metadata": {},
   "source": [
    "### Mode"
   ]
  },
  {
   "cell_type": "code",
   "execution_count": 30,
   "id": "b2b5cb9b",
   "metadata": {},
   "outputs": [
    {
     "data": {
      "text/plain": [
       "shipping\n",
       "me2              46059\n",
       "not_specified    40725\n",
       "custom            3130\n",
       "me1                 86\n",
       "Name: count, dtype: int64"
      ]
     },
     "execution_count": 30,
     "metadata": {},
     "output_type": "execute_result"
    }
   ],
   "source": [
    "X_dataframe[\"shipping\"].apply(lambda x: ast.literal_eval(x)[\"mode\"]).value_counts()"
   ]
  },
  {
   "cell_type": "code",
   "execution_count": 32,
   "id": "54635778",
   "metadata": {},
   "outputs": [
    {
     "data": {
      "text/html": [
       "<div>\n",
       "<style scoped>\n",
       "    .dataframe tbody tr th:only-of-type {\n",
       "        vertical-align: middle;\n",
       "    }\n",
       "\n",
       "    .dataframe tbody tr th {\n",
       "        vertical-align: top;\n",
       "    }\n",
       "\n",
       "    .dataframe thead th {\n",
       "        text-align: right;\n",
       "    }\n",
       "</style>\n",
       "<table border=\"1\" class=\"dataframe\">\n",
       "  <thead>\n",
       "    <tr style=\"text-align: right;\">\n",
       "      <th></th>\n",
       "      <th>n</th>\n",
       "      <th>prop_used</th>\n",
       "      <th>ci_lower</th>\n",
       "      <th>ci_upper</th>\n",
       "    </tr>\n",
       "    <tr>\n",
       "      <th>shipping_mode</th>\n",
       "      <th></th>\n",
       "      <th></th>\n",
       "      <th></th>\n",
       "      <th></th>\n",
       "    </tr>\n",
       "  </thead>\n",
       "  <tbody>\n",
       "    <tr>\n",
       "      <th>not_specified</th>\n",
       "      <td>40725</td>\n",
       "      <td>0.511799</td>\n",
       "      <td>0.506943</td>\n",
       "      <td>0.516652</td>\n",
       "    </tr>\n",
       "    <tr>\n",
       "      <th>me2</th>\n",
       "      <td>46059</td>\n",
       "      <td>0.429493</td>\n",
       "      <td>0.424978</td>\n",
       "      <td>0.434019</td>\n",
       "    </tr>\n",
       "    <tr>\n",
       "      <th>custom</th>\n",
       "      <td>3130</td>\n",
       "      <td>0.326837</td>\n",
       "      <td>0.310625</td>\n",
       "      <td>0.343473</td>\n",
       "    </tr>\n",
       "    <tr>\n",
       "      <th>me1</th>\n",
       "      <td>86</td>\n",
       "      <td>0.000000</td>\n",
       "      <td>0.000000</td>\n",
       "      <td>0.042760</td>\n",
       "    </tr>\n",
       "  </tbody>\n",
       "</table>\n",
       "</div>"
      ],
      "text/plain": [
       "                   n  prop_used  ci_lower  ci_upper\n",
       "shipping_mode                                      \n",
       "not_specified  40725   0.511799  0.506943  0.516652\n",
       "me2            46059   0.429493  0.424978  0.434019\n",
       "custom          3130   0.326837  0.310625  0.343473\n",
       "me1               86   0.000000  0.000000  0.042760"
      ]
     },
     "metadata": {},
     "output_type": "display_data"
    }
   ],
   "source": [
    "X_dataframe[\"shipping_mode\"] = X_dataframe[\"shipping\"].apply(\n",
    "    lambda x: ast.literal_eval(x)[\"mode\"]\n",
    ")\n",
    "res = column_analysis(\"shipping_mode\", X_dataframe)\n",
    "display(res)"
   ]
  },
  {
   "cell_type": "code",
   "execution_count": 33,
   "id": "84b28ecb",
   "metadata": {},
   "outputs": [
    {
     "data": {
      "image/png": "[encoded data removed]",
      "text/plain": [
       "<Figure size 640x480 with 1 Axes>"
      ]
     },
     "metadata": {},
     "output_type": "display_data"
    }
   ],
   "source": [
    "plot_column_analysis(res)"
   ]
  },
  {
   "cell_type": "markdown",
   "id": "b7d82721",
   "metadata": {},
   "source": [
    "Each of the shipping modes have different condition distribution, and even me1 p is almost 1"
   ]
  }
 ],
 "metadata": {
  "kernelspec": {
   "display_name": ".venv",
   "language": "python",
   "name": "python3"
  },
  "language_info": {
   "codemirror_mode": {
    "name": "ipython",
    "version": 3
   },
   "file_extension": ".py",
   "mimetype": "text/x-python",
   "name": "python",
   "nbconvert_exporter": "python",
   "pygments_lexer": "ipython3",
   "version": "3.12.10"
  }
 },
 "nbformat": 4,
 "nbformat_minor": 5
}

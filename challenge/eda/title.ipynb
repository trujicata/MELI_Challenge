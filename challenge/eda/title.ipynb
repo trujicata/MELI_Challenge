{
 "cells": [
  {
   "cell_type": "markdown",
   "id": "4d979e40",
   "metadata": {},
   "source": [
    "# EDA on the Titles"
   ]
  },
  {
   "cell_type": "code",
   "execution_count": null,
   "id": "987a1925",
   "metadata": {},
   "outputs": [],
   "source": [
    "import pandas as pd\n",
    "import pickle\n",
    "import numpy as np\n",
    "from utils import *\n",
    "from challenge.dataset.utils import typical_string_processing\n",
    "\n",
    "X_dataframe = pd.read_csv(\"../data/X_dataframe.csv\")"
   ]
  },
  {
   "cell_type": "code",
   "execution_count": 3,
   "id": "09ed42b9",
   "metadata": {},
   "outputs": [
    {
     "data": {
      "text/plain": [
       "count                                             90000\n",
       "unique                                            89008\n",
       "top       50 Suspensores Para Short De Baño Tela Calada\n",
       "freq                                                 66\n",
       "Name: title, dtype: object"
      ]
     },
     "execution_count": 3,
     "metadata": {},
     "output_type": "execute_result"
    }
   ],
   "source": [
    "X_dataframe[\"title\"].describe()"
   ]
  },
  {
   "cell_type": "code",
   "execution_count": 3,
   "id": "ff4efeb3",
   "metadata": {},
   "outputs": [
    {
     "data": {
      "text/plain": [
       "title\n",
       "50 Suspensores Para Short De Baño Tela Calada                66\n",
       "50 Suspensores Para Short De Baño Nido De Abeja              45\n",
       "Confeccion Short De Baño Bermudas Hombre Y Niño              32\n",
       "50 Suspensores Para Short De Baño Tela Nido De Abeja         30\n",
       "Camisas Corte Y Confeccion Producto Terminado                30\n",
       "                                                             ..\n",
       "Juana De Arco En La Hoguera. Paul Claudel.1948                1\n",
       "La Prueba   Peter Veres                                       1\n",
       "Cuchillo Puma Outdoor 6378                                    1\n",
       "Globo Peppa Pig X 10 Metalizado Mas Varillas Y Canastillo     1\n",
       "Campera De Mujer Tucci Reversible                             1\n",
       "Name: count, Length: 89008, dtype: int64"
      ]
     },
     "execution_count": 3,
     "metadata": {},
     "output_type": "execute_result"
    }
   ],
   "source": [
    "X_dataframe[\"title\"].value_counts()"
   ]
  },
  {
   "cell_type": "code",
   "execution_count": 12,
   "id": "ad45f5d9",
   "metadata": {},
   "outputs": [
    {
     "data": {
      "text/plain": [
       "title\n",
       "velador antiguo                                               4\n",
       "antigüa postal de italia                                      4\n",
       "vestido de novia                                              4\n",
       "pulsera                                                       4\n",
       "cuadro                                                        4\n",
       "                                                             ..\n",
       "soga p/ saltar entrenamiento crossfit aerobic alta calidad    1\n",
       "recuerdo - castillo a -nuevo cd #db3                          1\n",
       "interface de comando al volante vw bora                       1\n",
       "florero de ceramica - hermoso !!!                             1\n",
       "campera de mujer tucci reversible                             1\n",
       "Name: count, Length: 88959, dtype: int64"
      ]
     },
     "execution_count": 12,
     "metadata": {},
     "output_type": "execute_result"
    }
   ],
   "source": [
    "X_dataframe[\"title\"].apply(typical_string_processing).value_counts()[30:]"
   ]
  },
  {
   "cell_type": "markdown",
   "id": "b1ad4590",
   "metadata": {},
   "source": [
    "## Try to group the titles manually\n",
    "\n",
    "For the `title` feature, we will attempt to **group titles manually** into broader categories.  \n",
    "The goal is to capture common patterns (e.g., presence of keywords like *nuevo*, *usado*, *garantía*, *original*) that may correlate with item condition.  \n",
    "\n",
    "This manual grouping will serve as a first step before applying more advanced text-processing techniques."
   ]
  },
  {
   "cell_type": "code",
   "execution_count": 13,
   "id": "2690edc4",
   "metadata": {},
   "outputs": [],
   "source": [
    "car_brands = [\n",
    "    \"chevrolet\",\n",
    "    \"ford\",\n",
    "    \"peugeot\",\n",
    "    \"renault\",\n",
    "    \"fiat\",\n",
    "    \"toyota\",\n",
    "    \"volkswagen\",\n",
    "    \"honda\",\n",
    "    \"hyundai\",\n",
    "    \"nissan\",\n",
    "    \"citroen\",\n",
    "    \"citroën\",\n",
    "    \"jeep\",\n",
    "    \"auto\",\n",
    "    \"camioneta\",\n",
    "    \"subaru\",\n",
    "    \"rover\",\n",
    "]\n",
    "\n",
    "motorcycle_brands = [\n",
    "    \"honda\",\n",
    "    \"yamaha\",\n",
    "    \"suzuki\",\n",
    "    \"harley-davidson\",\n",
    "    \"kawasaki\",\n",
    "    \"triumph\",\n",
    "    \"bmw\",\n",
    "    \"ducati\",\n",
    "    \"motocicleta\",\n",
    "]\n",
    "\n",
    "\n",
    "def string_and_car(x: str) -> bool:\n",
    "    is_car = False\n",
    "    x = typical_string_processing(x)\n",
    "    for word in car_brands:\n",
    "        if word in x:\n",
    "            is_car = True\n",
    "            break\n",
    "    for word in motorcycle_brands:\n",
    "        if word in x:\n",
    "            is_car = True\n",
    "            break\n",
    "    return is_car"
   ]
  },
  {
   "cell_type": "code",
   "execution_count": null,
   "id": "0a12a1ee",
   "metadata": {},
   "outputs": [
    {
     "data": {
      "text/plain": [
       "is_car  used \n",
       "False   False    42990\n",
       "        True     40016\n",
       "True    False     5362\n",
       "        True      1632\n",
       "Name: count, dtype: int64"
      ]
     },
     "execution_count": 17,
     "metadata": {},
     "output_type": "execute_result"
    }
   ],
   "source": [
    "X_dataframe[\"is_car\"] = X_dataframe[\"title\"].apply(string_and_car)\n",
    "X_dataframe.groupby(\"is_car\")[\"used\"].value_counts()"
   ]
  },
  {
   "cell_type": "code",
   "execution_count": 27,
   "id": "96c0cc74",
   "metadata": {},
   "outputs": [
    {
     "data": {
      "image/png": "[encoded data removed]",
      "text/plain": [
       "<Figure size 640x480 with 1 Axes>"
      ]
     },
     "metadata": {},
     "output_type": "display_data"
    }
   ],
   "source": [
    "res = column_analysis(\"is_car\", X_dataframe)\n",
    "plot_column_analysis(res)"
   ]
  },
  {
   "cell_type": "markdown",
   "id": "a0e62f41",
   "metadata": {},
   "source": [
    "The `is_car` shows a different distribution for used and new"
   ]
  },
  {
   "cell_type": "code",
   "execution_count": 18,
   "id": "ceb16aac",
   "metadata": {},
   "outputs": [
    {
     "data": {
      "text/plain": [
       "is_home  used \n",
       "False    False    45173\n",
       "         True     39282\n",
       "True     False     3179\n",
       "         True      2366\n",
       "Name: count, dtype: int64"
      ]
     },
     "execution_count": 18,
     "metadata": {},
     "output_type": "execute_result"
    }
   ],
   "source": [
    "home_words = [\n",
    "    \"mesa\",\n",
    "    \"silla\",\n",
    "    \"tv\",\n",
    "    \"parrilla\",\n",
    "    \"velador\",\n",
    "    \"cama\",\n",
    "    \"sofa\",\n",
    "    \"sillon\",\n",
    "    \"escritorio\",\n",
    "    \"cuadro\",\n",
    "    \"almohadon\",\n",
    "    \"almohada\",\n",
    "    \"alfombra\",\n",
    "    \"florero\",\n",
    "    \"perchero\",\n",
    "    \"comoda\",\n",
    "    \"cortina\",\n",
    "    \"espejo\",\n",
    "    \"tazas\",\n",
    "    \"platos\",\n",
    "    \"vajilla\",\n",
    "    \"cuchara\",\n",
    "    \"cuchillo\",\n",
    "    \"tenedor\",\n",
    "    \"cazuela\",\n",
    "    \"olla\",\n",
    "    \"sarten\",\n",
    "    \"tostadora\",\n",
    "    \"exprimidor\",\n",
    "    \"heladera\",\n",
    "    \"microondas\",\n",
    "    \"televisor\",\n",
    "    \"lampara\",\n",
    "]\n",
    "def string_and_home(x: str) -> bool:\n",
    "    is_home = False\n",
    "    x = typical_string_processing(x)\n",
    "    for word in home_words:\n",
    "        if word in x:\n",
    "            is_home = True\n",
    "            break\n",
    "    return is_home\n",
    "\n",
    "\n",
    "X_dataframe[\"is_home\"] = X_dataframe[\"title\"].apply(string_and_home)\n",
    "X_dataframe.groupby(\"is_home\")[\"used\"].value_counts()"
   ]
  },
  {
   "cell_type": "code",
   "execution_count": 26,
   "id": "0eccc6a8",
   "metadata": {},
   "outputs": [
    {
     "data": {
      "image/png": "[encoded data removed]",
      "text/plain": [
       "<Figure size 640x480 with 1 Axes>"
      ]
     },
     "metadata": {},
     "output_type": "display_data"
    }
   ],
   "source": [
    "res = column_analysis(\"is_home\", X_dataframe)\n",
    "plot_column_analysis(res)"
   ]
  },
  {
   "cell_type": "markdown",
   "id": "4932f657",
   "metadata": {},
   "source": [
    "Although it captures well if it's a home item, the distribution and the p value is not good for further predictions"
   ]
  },
  {
   "cell_type": "code",
   "execution_count": 20,
   "id": "3dac4f12",
   "metadata": {},
   "outputs": [
    {
     "data": {
      "text/plain": [
       "is_electronics  used \n",
       "False           False    38094\n",
       "                True     36605\n",
       "True            False     1961\n",
       "                True      1091\n",
       "Name: count, dtype: int64"
      ]
     },
     "execution_count": 20,
     "metadata": {},
     "output_type": "execute_result"
    }
   ],
   "source": [
    "electronics_words = [\n",
    "    \"laptop\",\n",
    "    \"notebook\",\n",
    "    \"televisor\",\n",
    "    \"celular\",\n",
    "    \"tablet\",\n",
    "    \"teclado\",\n",
    "    \"smartphone\",\n",
    "    \"smartwatch\",\n",
    "    \"iphone\",\n",
    "    \"ipad\",\n",
    "    \"samsung\",\n",
    "    \"motorola\",\n",
    "    # \"lg\",\n",
    "    \"sony\",\n",
    "    \"panasonic\",\n",
    "    \"philips\",\n",
    "    # \"jbl\",\n",
    "    \"bose\",\n",
    "    \"beats\",\n",
    "    \"apple\",\n",
    "]\n",
    "def string_and_electronics(x: str) -> bool:\n",
    "    is_electronics = False\n",
    "    x = typical_string_processing(x)\n",
    "    for word in electronics_words:\n",
    "        if word in x:\n",
    "            is_electronics = True\n",
    "            break\n",
    "    return is_electronics\n",
    "\n",
    "X_dataframe[\"is_electronics\"] = X_dataframe[\"title\"].apply(\n",
    "    string_and_electronics\n",
    ")\n",
    "X_dataframe.loc[\n",
    "    ~X_dataframe[\"is_car\"] & ~X_dataframe[\"is_home\"]\n",
    "].groupby(\"is_electronics\")[\"used\"].value_counts()"
   ]
  },
  {
   "cell_type": "code",
   "execution_count": 28,
   "id": "31788405",
   "metadata": {},
   "outputs": [
    {
     "data": {
      "image/png": "[encoded data removed]",
      "text/plain": [
       "<Figure size 640x480 with 1 Axes>"
      ]
     },
     "metadata": {},
     "output_type": "display_data"
    }
   ],
   "source": [
    "res = column_analysis(\"is_electronics\", X_dataframe)\n",
    "plot_column_analysis(res)\n"
   ]
  },
  {
   "cell_type": "markdown",
   "id": "a0ca0288",
   "metadata": {},
   "source": [
    "Different distribution but not strong p"
   ]
  },
  {
   "cell_type": "code",
   "execution_count": 22,
   "id": "6449cc8e",
   "metadata": {},
   "outputs": [
    {
     "data": {
      "text/plain": [
       "title\n",
       "50 Suspensores Para Short De Baño Tela Calada                   66\n",
       "50 Suspensores Para Short De Baño Nido De Abeja                 45\n",
       "Confeccion Short De Baño Bermudas Hombre Y Niño                 32\n",
       "Camisas Corte Y Confeccion Producto Terminado                   30\n",
       "50 Suspensores Para Short De Baño Tela Nido De Abeja            30\n",
       "12 Suspensores Para Short De Baño Nido De Abeja                 26\n",
       "12 Suspensores Para Short De Baño Tela Calada                   24\n",
       "50 Suspensores Para Short De Baño Tela Red                      22\n",
       "Item De Testeo, Por Favor No Ofertar                            17\n",
       "12 Suspensores Para Short De Baño Tela Nido De Abeja            14\n",
       "Consolador Anal Mini Pene 11 X 2 Cm                              8\n",
       "Camisas Producto Terminado Corte Y Confeccion                    8\n",
       "Consolador Macizo. Sex Shop                                      8\n",
       "Confeccion Short De Baño Bermudas Hombre Y Niños                 8\n",
       "Triple Estimulador Anal Vaginal Anillo Con Vibrador 16 X 3cm     7\n",
       "Consolador Anal Con Anillo Doble Penetracion Largo 15 X 2cm      7\n",
       "Consolador Anal Plug Anal Mediano 13 X 4cm                       6\n",
       "Vibrador Interno Macizo. Sex Shop                                5\n",
       "Consolador Anal Inexpulsable 15 X 1.5 - 3.5cm                    5\n",
       "Zapatos De Mujer                                                 5\n",
       "Aceite Lubricante Para Masajes Aroma A Frutilla                  5\n",
       "Consolador Anal Plug Punto G 10 X 2 Cm                           5\n",
       "Consolador Anal Plug Anal 15 X 4.5cm                             5\n",
       "Zapatos Sandalias Biker Mujer - Directo De Fabrica               5\n",
       "Anillo Peneano Miss V, Extremadamente Extensible                 5\n",
       "Name: count, dtype: int64"
      ]
     },
     "execution_count": 22,
     "metadata": {},
     "output_type": "execute_result"
    }
   ],
   "source": [
    "X_dataframe.loc[\n",
    "    ~X_dataframe[\"is_electronics\"] & ~X_dataframe[\"is_car\"] & ~X_dataframe[\"is_home\"]\n",
    "][\"title\"].value_counts()[:25]"
   ]
  },
  {
   "cell_type": "code",
   "execution_count": 23,
   "id": "afb32e83",
   "metadata": {},
   "outputs": [
    {
     "data": {
      "text/plain": [
       "is_clothes  used \n",
       "False       False    44657\n",
       "            True     39216\n",
       "True        False     3695\n",
       "            True      2432\n",
       "Name: count, dtype: int64"
      ]
     },
     "execution_count": 23,
     "metadata": {},
     "output_type": "execute_result"
    }
   ],
   "source": [
    "clothes_words = [\n",
    "    \"campera\",\n",
    "    \"camisa\",\n",
    "    \"zapato\",\n",
    "    \"vestido\",\n",
    "    \"pantalon\",\n",
    "    \"remera\",\n",
    "    \"camiseta\",\n",
    "    \"chaqueta\",\n",
    "    \"bikini\",\n",
    "    \"short\",\n",
    "    \"zapatilla\",\n",
    "    \"falda\",\n",
    "    \"pollera\",\n",
    "    \"zoquete\",\n",
    "    \"soquete\",\n",
    "    \"cartera\",\n",
    "    \"caterita\",\n",
    "    \"bolso\",\n",
    "    \"mochila\",\n",
    "    \"collar\",\n",
    "    \"caravana\",\n",
    "    \"pulsera\",\n",
    "    \"chaleco\",\n",
    "    \"traje\",\n",
    "    \"corbata\",\n",
    "    \"gorra\",\n",
    "    \"gorro\",\n",
    "    \"gafas\",\n",
    "    \"botas\",\n",
    "    \"tacones\",\n",
    "]\n",
    "\n",
    "\n",
    "def string_and_clothes(x: str) -> bool:\n",
    "    is_clothes = False\n",
    "    x = typical_string_processing(x)\n",
    "    for word in clothes_words:\n",
    "        if word in x:\n",
    "            is_clothes = True\n",
    "            break\n",
    "    return is_clothes\n",
    "\n",
    "\n",
    "X_dataframe[\"is_clothes\"] = X_dataframe[\"title\"].apply(string_and_clothes)\n",
    "X_dataframe.groupby(\"is_clothes\")[\"used\"].value_counts()"
   ]
  },
  {
   "cell_type": "code",
   "execution_count": null,
   "id": "39704417",
   "metadata": {},
   "outputs": [
    {
     "data": {
      "image/png": "[encoded data removed]",
      "text/plain": [
       "<Figure size 640x480 with 1 Axes>"
      ]
     },
     "metadata": {},
     "output_type": "display_data"
    }
   ],
   "source": [
    "res = column_analysis(\"is_clothes\", X_dataframe)\n",
    "plot_column_analysis(res)"
   ]
  },
  {
   "cell_type": "markdown",
   "id": "f29cff16",
   "metadata": {},
   "source": [
    "Different distribution but not strong p"
   ]
  },
  {
   "cell_type": "code",
   "execution_count": 34,
   "id": "31f0ba73",
   "metadata": {},
   "outputs": [
    {
     "data": {
      "text/plain": [
       "is_sex_shop  used \n",
       "False        False    48109\n",
       "             True     41644\n",
       "True         False      243\n",
       "             True         4\n",
       "Name: count, dtype: int64"
      ]
     },
     "execution_count": 34,
     "metadata": {},
     "output_type": "execute_result"
    }
   ],
   "source": [
    "sex_shop_one_word_words = [\n",
    "    \"consolador\",\n",
    "    \"vibrador\",\n",
    "    \"anal\",\n",
    "    \"pene\",\n",
    "    \"peneano\",\n",
    "    \"masajes\",\n",
    "]\n",
    "sex_shop_two_word_words = [\n",
    "    \"vibrador anal\",\n",
    "    \"consolador anal\",\n",
    "    \"lubricante para\",\n",
    "    \"gel lubricante\",\n",
    "]\n",
    "\n",
    "\n",
    "def string_and_sex_shop(x: str) -> bool:\n",
    "    is_sex_shop = False\n",
    "    x = typical_string_processing(x)\n",
    "    one_word_x = x.split(\" \")\n",
    "    for word in one_word_x:\n",
    "        if word in sex_shop_one_word_words:\n",
    "            is_sex_shop = True\n",
    "            break\n",
    "    two_word_x = x.split(\" \")\n",
    "    # Get the combination of the two words\n",
    "    for i in range(len(two_word_x)):\n",
    "        for j in range(i + 1, len(two_word_x)):\n",
    "            if two_word_x[i] + \" \" + two_word_x[j] in sex_shop_two_word_words:\n",
    "                is_sex_shop = True\n",
    "                break\n",
    "    return is_sex_shop\n",
    "\n",
    "\n",
    "X_dataframe[\"is_sex_shop\"] = X_dataframe[\"title\"].apply(string_and_sex_shop)\n",
    "X_dataframe.groupby(\"is_sex_shop\")[\"used\"].value_counts()"
   ]
  },
  {
   "cell_type": "code",
   "execution_count": 36,
   "id": "200463ff",
   "metadata": {},
   "outputs": [
    {
     "data": {
      "image/png": "[encoded data removed]",
      "text/plain": [
       "<Figure size 640x480 with 1 Axes>"
      ]
     },
     "metadata": {},
     "output_type": "display_data"
    }
   ],
   "source": [
    "res = column_analysis(\"is_sex_shop\", X_dataframe)\n",
    "plot_column_analysis(res)\n"
   ]
  },
  {
   "cell_type": "markdown",
   "id": "fa738210",
   "metadata": {},
   "source": [
    "Makes sense that whatever a sex shop sells, it is not in used condition. "
   ]
  },
  {
   "cell_type": "code",
   "execution_count": 37,
   "id": "fdf189cc",
   "metadata": {},
   "outputs": [
    {
     "data": {
      "text/plain": [
       "nuevo_or_usado  used \n",
       "nuevo           False     2810\n",
       "                True       313\n",
       "unknown         False    45527\n",
       "                True     40641\n",
       "usado           True       694\n",
       "                False       15\n",
       "Name: count, dtype: int64"
      ]
     },
     "execution_count": 37,
     "metadata": {},
     "output_type": "execute_result"
    }
   ],
   "source": [
    "def is_nuevo_or_usado(x: str):\n",
    "    x = typical_string_processing(x)\n",
    "    if \"nuevo\" in x or \"de fabrica\" in x:\n",
    "        if \"casi nuevo\" in x or \"como nuevo\" in x:\n",
    "            return \"usado\"\n",
    "        else:\n",
    "            return \"nuevo\"\n",
    "    elif \"usado\" in x or \"segunda mano\" in x:\n",
    "        return \"usado\"\n",
    "    else:\n",
    "        return \"unknown\"\n",
    "\n",
    "\n",
    "X_dataframe[\"nuevo_or_usado\"] = X_dataframe[\"title\"].apply(\n",
    "    is_nuevo_or_usado\n",
    ")\n",
    "X_dataframe.groupby(\"nuevo_or_usado\")[\"used\"].value_counts()"
   ]
  },
  {
   "cell_type": "code",
   "execution_count": 38,
   "id": "f071fd01",
   "metadata": {},
   "outputs": [
    {
     "data": {
      "image/png": "[encoded data removed]",
      "text/plain": [
       "<Figure size 640x480 with 1 Axes>"
      ]
     },
     "metadata": {},
     "output_type": "display_data"
    }
   ],
   "source": [
    "res = column_analysis(\"nuevo_or_usado\", X_dataframe)\n",
    "plot_column_analysis(res)\n"
   ]
  },
  {
   "cell_type": "markdown",
   "id": "7bdcce80",
   "metadata": {},
   "source": [
    "#### 💡 Insights  \n",
    "The manual categorization of titles resulted in very sparse groups:  \n",
    "no single category occurs more than ~6k times, which limits its usefulness as a feature.  \n",
    "\n",
    "Next, we will explore **text encoders** to check whether the titles naturally cluster and provide stronger signal for predicting item condition."
   ]
  },
  {
   "cell_type": "markdown",
   "id": "4b27c66b",
   "metadata": {},
   "source": [
    "# RoBERTa Encoder"
   ]
  },
  {
   "cell_type": "code",
   "execution_count": 41,
   "id": "e7eccbdc",
   "metadata": {},
   "outputs": [
    {
     "name": "stderr",
     "output_type": "stream",
     "text": [
      "100%|██████████| 2813/2813 [1:04:35<00:00,  1.38s/it]  \n"
     ]
    }
   ],
   "source": [
    "from transformers import AutoModel, AutoTokenizer\n",
    "import torch\n",
    "import tqdm\n",
    "\n",
    "\n",
    "# encoder that's trained in spanish\n",
    "tokenizer = AutoTokenizer.from_pretrained(\"FacebookAI/xlm-roberta-base\")\n",
    "model = AutoModel.from_pretrained(\"FacebookAI/xlm-roberta-base\", dtype=torch.float16)\n",
    "\n",
    "train_titles = X_dataframe[\"title\"].to_list()\n",
    "\n",
    "batch_size = 32\n",
    "num_batches = len(train_titles) // batch_size + 1\n",
    "embeddings_list = []\n",
    "train_titles_list = train_titles\n",
    "for i in tqdm.tqdm(range(num_batches)):\n",
    "    batch = train_titles_list[i * batch_size : (i + 1) * batch_size]\n",
    "    inputs = tokenizer(batch, return_tensors=\"pt\", truncation=True, padding=True).to(\n",
    "        model.device\n",
    "    )\n",
    "    with torch.no_grad():\n",
    "        outputs = model(**inputs)\n",
    "    attention_mask = inputs[\"attention_mask\"]\n",
    "    embeddings = outputs.last_hidden_state\n",
    "    mask_expanded = attention_mask.unsqueeze(-1).expand(embeddings.size())\n",
    "    sentence_embeddings = torch.sum(embeddings * mask_expanded, 1) / mask_expanded.sum(\n",
    "        1\n",
    "    )\n",
    "    embeddings_list.append(sentence_embeddings)\n",
    "\n",
    "embeddings_tensor = torch.cat(embeddings_list)"
   ]
  },
  {
   "cell_type": "code",
   "execution_count": 54,
   "id": "a88afcc6",
   "metadata": {},
   "outputs": [
    {
     "data": {
      "text/plain": [
       "torch.Size([90000, 768])"
      ]
     },
     "execution_count": 54,
     "metadata": {},
     "output_type": "execute_result"
    }
   ],
   "source": [
    "embeddings_tensor = torch.cat(embeddings_list, dim=0)\n",
    "embeddings_tensor.shape"
   ]
  },
  {
   "cell_type": "code",
   "execution_count": null,
   "id": "b676f5c1",
   "metadata": {},
   "outputs": [
    {
     "name": "stdout",
     "output_type": "stream",
     "text": [
      "Stacked embeddings shape: torch.Size([90000, 768])\n"
     ]
    },
    {
     "name": "stderr",
     "output_type": "stream",
     "text": [
      "100%|██████████| 90000/90000 [00:00<00:00, 5713186.32it/s]\n"
     ]
    },
    {
     "name": "stdout",
     "output_type": "stream",
     "text": [
      "Embeddings logged to TensorBoard in directory: tensorboard_logs/embeddings_beto_encoder_20250903_224814\n",
      "To view the embeddings, run:\n",
      "tensorboard --logdir=tensorboard_logs/embeddings_beto_encoder_20250903_224814\n",
      "Then open http://localhost:6006 in your browser\n"
     ]
    }
   ],
   "source": [
    "import torch\n",
    "from torch.utils.tensorboard import SummaryWriter\n",
    "import os\n",
    "from datetime import datetime\n",
    "from tqdm import tqdm\n",
    "\n",
    "timestamp = datetime.now().strftime(\"%Y%m%d_%H%M%S\")\n",
    "log_dir = f\"tensorboard_logs/embeddings_beto_encoder_{timestamp}\"\n",
    "os.makedirs(log_dir, exist_ok=True)\n",
    "\n",
    "writer = SummaryWriter(log_dir)\n",
    "\n",
    "\n",
    "embeddings_array = np.stack(embeddings_tensor.cpu().numpy())  # Shape: (num_embeddings, embedding_dim)\n",
    "print(f\"Stacked embeddings shape: {embeddings_tensor.shape}\")\n",
    "\n",
    "labels = X_dataframe[\"used\"]\n",
    "\n",
    "metadata = []\n",
    "for label in labels:\n",
    "    metadata.append(label)\n",
    "\n",
    "\n",
    "writer.add_embedding(\n",
    "    embeddings_tensor,\n",
    "    metadata=metadata,\n",
    "    global_step=0,\n",
    "    tag=\"title_embeddings\",\n",
    ")\n",
    "\n",
    "\n",
    "writer.close()\n",
    "\n",
    "print(f\"Embeddings logged to TensorBoard in directory: {log_dir}\")\n",
    "print(\"To view the embeddings, run:\")\n",
    "print(f\"tensorboard --logdir={log_dir}\")\n",
    "print(\"Then open http://localhost:6006 in your browser\")"
   ]
  },
  {
   "cell_type": "markdown",
   "id": "67101d0c",
   "metadata": {},
   "source": [
    "#### 💡 Insights  \n",
    "The embeddings projected with PCA to 3 dimensions do not appear to be linearly separable between new and used items — the points are highly mixed.  \n",
    "\n",
    "This outcome makes sense: the information in the `title` is more related to the **product category** than directly to the item’s condition.  \n",
    "\n",
    "![RoBERTa encoder](./Roberta_1_0_labels.png) To better leverage the information from `title`, we will group embeddings into **clusters** and check whether certain clusters are more associated with new or used items.  \n",
    "\n",
    "The approach will be:  \n",
    "1. **Dimensionality reduction** → Apply PCA to the training embeddings, retaining enough components to explain 80% of the variance (to keep clustering efficient).  \n",
    "2. **Clustering** → Apply KMeans and determine the optimal number of clusters using both inertia and silhouette scores.  \n",
    "3. **Cluster analysis** → Evaluate the proportion of new vs. used items within each cluster to identify potential predictive patterns.  "
   ]
  },
  {
   "cell_type": "code",
   "execution_count": 58,
   "id": "9f14bb92",
   "metadata": {},
   "outputs": [
    {
     "data": {
      "text/html": [
       "<style>#sk-container-id-2 {\n",
       "  /* Definition of color scheme common for light and dark mode */\n",
       "  --sklearn-color-text: #000;\n",
       "  --sklearn-color-text-muted: #666;\n",
       "  --sklearn-color-line: gray;\n",
       "  /* Definition of color scheme for unfitted estimators */\n",
       "  --sklearn-color-unfitted-level-0: #fff5e6;\n",
       "  --sklearn-color-unfitted-level-1: #f6e4d2;\n",
       "  --sklearn-color-unfitted-level-2: #ffe0b3;\n",
       "  --sklearn-color-unfitted-level-3: chocolate;\n",
       "  /* Definition of color scheme for fitted estimators */\n",
       "  --sklearn-color-fitted-level-0: #f0f8ff;\n",
       "  --sklearn-color-fitted-level-1: #d4ebff;\n",
       "  --sklearn-color-fitted-level-2: #b3dbfd;\n",
       "  --sklearn-color-fitted-level-3: cornflowerblue;\n",
       "\n",
       "  /* Specific color for light theme */\n",
       "  --sklearn-color-text-on-default-background: var(--sg-text-color, var(--theme-code-foreground, var(--jp-content-font-color1, black)));\n",
       "  --sklearn-color-background: var(--sg-background-color, var(--theme-background, var(--jp-layout-color0, white)));\n",
       "  --sklearn-color-border-box: var(--sg-text-color, var(--theme-code-foreground, var(--jp-content-font-color1, black)));\n",
       "  --sklearn-color-icon: #696969;\n",
       "\n",
       "  @media (prefers-color-scheme: dark) {\n",
       "    /* Redefinition of color scheme for dark theme */\n",
       "    --sklearn-color-text-on-default-background: var(--sg-text-color, var(--theme-code-foreground, var(--jp-content-font-color1, white)));\n",
       "    --sklearn-color-background: var(--sg-background-color, var(--theme-background, var(--jp-layout-color0, #111)));\n",
       "    --sklearn-color-border-box: var(--sg-text-color, var(--theme-code-foreground, var(--jp-content-font-color1, white)));\n",
       "    --sklearn-color-icon: #878787;\n",
       "  }\n",
       "}\n",
       "\n",
       "#sk-container-id-2 {\n",
       "  color: var(--sklearn-color-text);\n",
       "}\n",
       "\n",
       "#sk-container-id-2 pre {\n",
       "  padding: 0;\n",
       "}\n",
       "\n",
       "#sk-container-id-2 input.sk-hidden--visually {\n",
       "  border: 0;\n",
       "  clip: rect(1px 1px 1px 1px);\n",
       "  clip: rect(1px, 1px, 1px, 1px);\n",
       "  height: 1px;\n",
       "  margin: -1px;\n",
       "  overflow: hidden;\n",
       "  padding: 0;\n",
       "  position: absolute;\n",
       "  width: 1px;\n",
       "}\n",
       "\n",
       "#sk-container-id-2 div.sk-dashed-wrapped {\n",
       "  border: 1px dashed var(--sklearn-color-line);\n",
       "  margin: 0 0.4em 0.5em 0.4em;\n",
       "  box-sizing: border-box;\n",
       "  padding-bottom: 0.4em;\n",
       "  background-color: var(--sklearn-color-background);\n",
       "}\n",
       "\n",
       "#sk-container-id-2 div.sk-container {\n",
       "  /* jupyter's `normalize.less` sets `[hidden] { display: none; }`\n",
       "     but bootstrap.min.css set `[hidden] { display: none !important; }`\n",
       "     so we also need the `!important` here to be able to override the\n",
       "     default hidden behavior on the sphinx rendered scikit-learn.org.\n",
       "     See: https://github.com/scikit-learn/scikit-learn/issues/21755 */\n",
       "  display: inline-block !important;\n",
       "  position: relative;\n",
       "}\n",
       "\n",
       "#sk-container-id-2 div.sk-text-repr-fallback {\n",
       "  display: none;\n",
       "}\n",
       "\n",
       "div.sk-parallel-item,\n",
       "div.sk-serial,\n",
       "div.sk-item {\n",
       "  /* draw centered vertical line to link estimators */\n",
       "  background-image: linear-gradient(var(--sklearn-color-text-on-default-background), var(--sklearn-color-text-on-default-background));\n",
       "  background-size: 2px 100%;\n",
       "  background-repeat: no-repeat;\n",
       "  background-position: center center;\n",
       "}\n",
       "\n",
       "/* Parallel-specific style estimator block */\n",
       "\n",
       "#sk-container-id-2 div.sk-parallel-item::after {\n",
       "  content: \"\";\n",
       "  width: 100%;\n",
       "  border-bottom: 2px solid var(--sklearn-color-text-on-default-background);\n",
       "  flex-grow: 1;\n",
       "}\n",
       "\n",
       "#sk-container-id-2 div.sk-parallel {\n",
       "  display: flex;\n",
       "  align-items: stretch;\n",
       "  justify-content: center;\n",
       "  background-color: var(--sklearn-color-background);\n",
       "  position: relative;\n",
       "}\n",
       "\n",
       "#sk-container-id-2 div.sk-parallel-item {\n",
       "  display: flex;\n",
       "  flex-direction: column;\n",
       "}\n",
       "\n",
       "#sk-container-id-2 div.sk-parallel-item:first-child::after {\n",
       "  align-self: flex-end;\n",
       "  width: 50%;\n",
       "}\n",
       "\n",
       "#sk-container-id-2 div.sk-parallel-item:last-child::after {\n",
       "  align-self: flex-start;\n",
       "  width: 50%;\n",
       "}\n",
       "\n",
       "#sk-container-id-2 div.sk-parallel-item:only-child::after {\n",
       "  width: 0;\n",
       "}\n",
       "\n",
       "/* Serial-specific style estimator block */\n",
       "\n",
       "#sk-container-id-2 div.sk-serial {\n",
       "  display: flex;\n",
       "  flex-direction: column;\n",
       "  align-items: center;\n",
       "  background-color: var(--sklearn-color-background);\n",
       "  padding-right: 1em;\n",
       "  padding-left: 1em;\n",
       "}\n",
       "\n",
       "\n",
       "/* Toggleable style: style used for estimator/Pipeline/ColumnTransformer box that is\n",
       "clickable and can be expanded/collapsed.\n",
       "- Pipeline and ColumnTransformer use this feature and define the default style\n",
       "- Estimators will overwrite some part of the style using the `sk-estimator` class\n",
       "*/\n",
       "\n",
       "/* Pipeline and ColumnTransformer style (default) */\n",
       "\n",
       "#sk-container-id-2 div.sk-toggleable {\n",
       "  /* Default theme specific background. It is overwritten whether we have a\n",
       "  specific estimator or a Pipeline/ColumnTransformer */\n",
       "  background-color: var(--sklearn-color-background);\n",
       "}\n",
       "\n",
       "/* Toggleable label */\n",
       "#sk-container-id-2 label.sk-toggleable__label {\n",
       "  cursor: pointer;\n",
       "  display: flex;\n",
       "  width: 100%;\n",
       "  margin-bottom: 0;\n",
       "  padding: 0.5em;\n",
       "  box-sizing: border-box;\n",
       "  text-align: center;\n",
       "  align-items: start;\n",
       "  justify-content: space-between;\n",
       "  gap: 0.5em;\n",
       "}\n",
       "\n",
       "#sk-container-id-2 label.sk-toggleable__label .caption {\n",
       "  font-size: 0.6rem;\n",
       "  font-weight: lighter;\n",
       "  color: var(--sklearn-color-text-muted);\n",
       "}\n",
       "\n",
       "#sk-container-id-2 label.sk-toggleable__label-arrow:before {\n",
       "  /* Arrow on the left of the label */\n",
       "  content: \"▸\";\n",
       "  float: left;\n",
       "  margin-right: 0.25em;\n",
       "  color: var(--sklearn-color-icon);\n",
       "}\n",
       "\n",
       "#sk-container-id-2 label.sk-toggleable__label-arrow:hover:before {\n",
       "  color: var(--sklearn-color-text);\n",
       "}\n",
       "\n",
       "/* Toggleable content - dropdown */\n",
       "\n",
       "#sk-container-id-2 div.sk-toggleable__content {\n",
       "  display: none;\n",
       "  text-align: left;\n",
       "  /* unfitted */\n",
       "  background-color: var(--sklearn-color-unfitted-level-0);\n",
       "}\n",
       "\n",
       "#sk-container-id-2 div.sk-toggleable__content.fitted {\n",
       "  /* fitted */\n",
       "  background-color: var(--sklearn-color-fitted-level-0);\n",
       "}\n",
       "\n",
       "#sk-container-id-2 div.sk-toggleable__content pre {\n",
       "  margin: 0.2em;\n",
       "  border-radius: 0.25em;\n",
       "  color: var(--sklearn-color-text);\n",
       "  /* unfitted */\n",
       "  background-color: var(--sklearn-color-unfitted-level-0);\n",
       "}\n",
       "\n",
       "#sk-container-id-2 div.sk-toggleable__content.fitted pre {\n",
       "  /* unfitted */\n",
       "  background-color: var(--sklearn-color-fitted-level-0);\n",
       "}\n",
       "\n",
       "#sk-container-id-2 input.sk-toggleable__control:checked~div.sk-toggleable__content {\n",
       "  /* Expand drop-down */\n",
       "  display: block;\n",
       "  width: 100%;\n",
       "  overflow: visible;\n",
       "}\n",
       "\n",
       "#sk-container-id-2 input.sk-toggleable__control:checked~label.sk-toggleable__label-arrow:before {\n",
       "  content: \"▾\";\n",
       "}\n",
       "\n",
       "/* Pipeline/ColumnTransformer-specific style */\n",
       "\n",
       "#sk-container-id-2 div.sk-label input.sk-toggleable__control:checked~label.sk-toggleable__label {\n",
       "  color: var(--sklearn-color-text);\n",
       "  background-color: var(--sklearn-color-unfitted-level-2);\n",
       "}\n",
       "\n",
       "#sk-container-id-2 div.sk-label.fitted input.sk-toggleable__control:checked~label.sk-toggleable__label {\n",
       "  background-color: var(--sklearn-color-fitted-level-2);\n",
       "}\n",
       "\n",
       "/* Estimator-specific style */\n",
       "\n",
       "/* Colorize estimator box */\n",
       "#sk-container-id-2 div.sk-estimator input.sk-toggleable__control:checked~label.sk-toggleable__label {\n",
       "  /* unfitted */\n",
       "  background-color: var(--sklearn-color-unfitted-level-2);\n",
       "}\n",
       "\n",
       "#sk-container-id-2 div.sk-estimator.fitted input.sk-toggleable__control:checked~label.sk-toggleable__label {\n",
       "  /* fitted */\n",
       "  background-color: var(--sklearn-color-fitted-level-2);\n",
       "}\n",
       "\n",
       "#sk-container-id-2 div.sk-label label.sk-toggleable__label,\n",
       "#sk-container-id-2 div.sk-label label {\n",
       "  /* The background is the default theme color */\n",
       "  color: var(--sklearn-color-text-on-default-background);\n",
       "}\n",
       "\n",
       "/* On hover, darken the color of the background */\n",
       "#sk-container-id-2 div.sk-label:hover label.sk-toggleable__label {\n",
       "  color: var(--sklearn-color-text);\n",
       "  background-color: var(--sklearn-color-unfitted-level-2);\n",
       "}\n",
       "\n",
       "/* Label box, darken color on hover, fitted */\n",
       "#sk-container-id-2 div.sk-label.fitted:hover label.sk-toggleable__label.fitted {\n",
       "  color: var(--sklearn-color-text);\n",
       "  background-color: var(--sklearn-color-fitted-level-2);\n",
       "}\n",
       "\n",
       "/* Estimator label */\n",
       "\n",
       "#sk-container-id-2 div.sk-label label {\n",
       "  font-family: monospace;\n",
       "  font-weight: bold;\n",
       "  display: inline-block;\n",
       "  line-height: 1.2em;\n",
       "}\n",
       "\n",
       "#sk-container-id-2 div.sk-label-container {\n",
       "  text-align: center;\n",
       "}\n",
       "\n",
       "/* Estimator-specific */\n",
       "#sk-container-id-2 div.sk-estimator {\n",
       "  font-family: monospace;\n",
       "  border: 1px dotted var(--sklearn-color-border-box);\n",
       "  border-radius: 0.25em;\n",
       "  box-sizing: border-box;\n",
       "  margin-bottom: 0.5em;\n",
       "  /* unfitted */\n",
       "  background-color: var(--sklearn-color-unfitted-level-0);\n",
       "}\n",
       "\n",
       "#sk-container-id-2 div.sk-estimator.fitted {\n",
       "  /* fitted */\n",
       "  background-color: var(--sklearn-color-fitted-level-0);\n",
       "}\n",
       "\n",
       "/* on hover */\n",
       "#sk-container-id-2 div.sk-estimator:hover {\n",
       "  /* unfitted */\n",
       "  background-color: var(--sklearn-color-unfitted-level-2);\n",
       "}\n",
       "\n",
       "#sk-container-id-2 div.sk-estimator.fitted:hover {\n",
       "  /* fitted */\n",
       "  background-color: var(--sklearn-color-fitted-level-2);\n",
       "}\n",
       "\n",
       "/* Specification for estimator info (e.g. \"i\" and \"?\") */\n",
       "\n",
       "/* Common style for \"i\" and \"?\" */\n",
       "\n",
       ".sk-estimator-doc-link,\n",
       "a:link.sk-estimator-doc-link,\n",
       "a:visited.sk-estimator-doc-link {\n",
       "  float: right;\n",
       "  font-size: smaller;\n",
       "  line-height: 1em;\n",
       "  font-family: monospace;\n",
       "  background-color: var(--sklearn-color-background);\n",
       "  border-radius: 1em;\n",
       "  height: 1em;\n",
       "  width: 1em;\n",
       "  text-decoration: none !important;\n",
       "  margin-left: 0.5em;\n",
       "  text-align: center;\n",
       "  /* unfitted */\n",
       "  border: var(--sklearn-color-unfitted-level-1) 1pt solid;\n",
       "  color: var(--sklearn-color-unfitted-level-1);\n",
       "}\n",
       "\n",
       ".sk-estimator-doc-link.fitted,\n",
       "a:link.sk-estimator-doc-link.fitted,\n",
       "a:visited.sk-estimator-doc-link.fitted {\n",
       "  /* fitted */\n",
       "  border: var(--sklearn-color-fitted-level-1) 1pt solid;\n",
       "  color: var(--sklearn-color-fitted-level-1);\n",
       "}\n",
       "\n",
       "/* On hover */\n",
       "div.sk-estimator:hover .sk-estimator-doc-link:hover,\n",
       ".sk-estimator-doc-link:hover,\n",
       "div.sk-label-container:hover .sk-estimator-doc-link:hover,\n",
       ".sk-estimator-doc-link:hover {\n",
       "  /* unfitted */\n",
       "  background-color: var(--sklearn-color-unfitted-level-3);\n",
       "  color: var(--sklearn-color-background);\n",
       "  text-decoration: none;\n",
       "}\n",
       "\n",
       "div.sk-estimator.fitted:hover .sk-estimator-doc-link.fitted:hover,\n",
       ".sk-estimator-doc-link.fitted:hover,\n",
       "div.sk-label-container:hover .sk-estimator-doc-link.fitted:hover,\n",
       ".sk-estimator-doc-link.fitted:hover {\n",
       "  /* fitted */\n",
       "  background-color: var(--sklearn-color-fitted-level-3);\n",
       "  color: var(--sklearn-color-background);\n",
       "  text-decoration: none;\n",
       "}\n",
       "\n",
       "/* Span, style for the box shown on hovering the info icon */\n",
       ".sk-estimator-doc-link span {\n",
       "  display: none;\n",
       "  z-index: 9999;\n",
       "  position: relative;\n",
       "  font-weight: normal;\n",
       "  right: .2ex;\n",
       "  padding: .5ex;\n",
       "  margin: .5ex;\n",
       "  width: min-content;\n",
       "  min-width: 20ex;\n",
       "  max-width: 50ex;\n",
       "  color: var(--sklearn-color-text);\n",
       "  box-shadow: 2pt 2pt 4pt #999;\n",
       "  /* unfitted */\n",
       "  background: var(--sklearn-color-unfitted-level-0);\n",
       "  border: .5pt solid var(--sklearn-color-unfitted-level-3);\n",
       "}\n",
       "\n",
       ".sk-estimator-doc-link.fitted span {\n",
       "  /* fitted */\n",
       "  background: var(--sklearn-color-fitted-level-0);\n",
       "  border: var(--sklearn-color-fitted-level-3);\n",
       "}\n",
       "\n",
       ".sk-estimator-doc-link:hover span {\n",
       "  display: block;\n",
       "}\n",
       "\n",
       "/* \"?\"-specific style due to the `<a>` HTML tag */\n",
       "\n",
       "#sk-container-id-2 a.estimator_doc_link {\n",
       "  float: right;\n",
       "  font-size: 1rem;\n",
       "  line-height: 1em;\n",
       "  font-family: monospace;\n",
       "  background-color: var(--sklearn-color-background);\n",
       "  border-radius: 1rem;\n",
       "  height: 1rem;\n",
       "  width: 1rem;\n",
       "  text-decoration: none;\n",
       "  /* unfitted */\n",
       "  color: var(--sklearn-color-unfitted-level-1);\n",
       "  border: var(--sklearn-color-unfitted-level-1) 1pt solid;\n",
       "}\n",
       "\n",
       "#sk-container-id-2 a.estimator_doc_link.fitted {\n",
       "  /* fitted */\n",
       "  border: var(--sklearn-color-fitted-level-1) 1pt solid;\n",
       "  color: var(--sklearn-color-fitted-level-1);\n",
       "}\n",
       "\n",
       "/* On hover */\n",
       "#sk-container-id-2 a.estimator_doc_link:hover {\n",
       "  /* unfitted */\n",
       "  background-color: var(--sklearn-color-unfitted-level-3);\n",
       "  color: var(--sklearn-color-background);\n",
       "  text-decoration: none;\n",
       "}\n",
       "\n",
       "#sk-container-id-2 a.estimator_doc_link.fitted:hover {\n",
       "  /* fitted */\n",
       "  background-color: var(--sklearn-color-fitted-level-3);\n",
       "}\n",
       "\n",
       ".estimator-table summary {\n",
       "    padding: .5rem;\n",
       "    font-family: monospace;\n",
       "    cursor: pointer;\n",
       "}\n",
       "\n",
       ".estimator-table details[open] {\n",
       "    padding-left: 0.1rem;\n",
       "    padding-right: 0.1rem;\n",
       "    padding-bottom: 0.3rem;\n",
       "}\n",
       "\n",
       ".estimator-table .parameters-table {\n",
       "    margin-left: auto !important;\n",
       "    margin-right: auto !important;\n",
       "}\n",
       "\n",
       ".estimator-table .parameters-table tr:nth-child(odd) {\n",
       "    background-color: #fff;\n",
       "}\n",
       "\n",
       ".estimator-table .parameters-table tr:nth-child(even) {\n",
       "    background-color: #f6f6f6;\n",
       "}\n",
       "\n",
       ".estimator-table .parameters-table tr:hover {\n",
       "    background-color: #e0e0e0;\n",
       "}\n",
       "\n",
       ".estimator-table table td {\n",
       "    border: 1px solid rgba(106, 105, 104, 0.232);\n",
       "}\n",
       "\n",
       ".user-set td {\n",
       "    color:rgb(255, 94, 0);\n",
       "    text-align: left;\n",
       "}\n",
       "\n",
       ".user-set td.value pre {\n",
       "    color:rgb(255, 94, 0) !important;\n",
       "    background-color: transparent !important;\n",
       "}\n",
       "\n",
       ".default td {\n",
       "    color: black;\n",
       "    text-align: left;\n",
       "}\n",
       "\n",
       ".user-set td i,\n",
       ".default td i {\n",
       "    color: black;\n",
       "}\n",
       "\n",
       ".copy-paste-icon {\n",
       "    background-image: url(data:image/svg+xml;base64,PHN2ZyB4bWxucz0iaHR0cDovL3d3dy53My5vcmcvMjAwMC9zdmciIHZpZXdCb3g9IjAgMCA0NDggNTEyIj48IS0tIUZvbnQgQXdlc29tZSBGcmVlIDYuNy4yIGJ5IEBmb250YXdlc29tZSAtIGh0dHBzOi8vZm9udGF3ZXNvbWUuY29tIExpY2Vuc2UgLSBodHRwczovL2ZvbnRhd2Vzb21lLmNvbS9saWNlbnNlL2ZyZWUgQ29weXJpZ2h0IDIwMjUgRm9udGljb25zLCBJbmMuLS0+PHBhdGggZD0iTTIwOCAwTDMzMi4xIDBjMTIuNyAwIDI0LjkgNS4xIDMzLjkgMTQuMWw2Ny45IDY3LjljOSA5IDE0LjEgMjEuMiAxNC4xIDMzLjlMNDQ4IDMzNmMwIDI2LjUtMjEuNSA0OC00OCA0OGwtMTkyIDBjLTI2LjUgMC00OC0yMS41LTQ4LTQ4bDAtMjg4YzAtMjYuNSAyMS41LTQ4IDQ4LTQ4ek00OCAxMjhsODAgMCAwIDY0LTY0IDAgMCAyNTYgMTkyIDAgMC0zMiA2NCAwIDAgNDhjMCAyNi41LTIxLjUgNDgtNDggNDhMNDggNTEyYy0yNi41IDAtNDgtMjEuNS00OC00OEwwIDE3NmMwLTI2LjUgMjEuNS00OCA0OC00OHoiLz48L3N2Zz4=);\n",
       "    background-repeat: no-repeat;\n",
       "    background-size: 14px 14px;\n",
       "    background-position: 0;\n",
       "    display: inline-block;\n",
       "    width: 14px;\n",
       "    height: 14px;\n",
       "    cursor: pointer;\n",
       "}\n",
       "</style><body><div id=\"sk-container-id-2\" class=\"sk-top-container\"><div class=\"sk-text-repr-fallback\"><pre>PCA(n_components=0.8)</pre><b>In a Jupyter environment, please rerun this cell to show the HTML representation or trust the notebook. <br />On GitHub, the HTML representation is unable to render, please try loading this page with nbviewer.org.</b></div><div class=\"sk-container\" hidden><div class=\"sk-item\"><div class=\"sk-estimator fitted sk-toggleable\"><input class=\"sk-toggleable__control sk-hidden--visually\" id=\"sk-estimator-id-2\" type=\"checkbox\" checked><label for=\"sk-estimator-id-2\" class=\"sk-toggleable__label fitted sk-toggleable__label-arrow\"><div><div>PCA</div></div><div><a class=\"sk-estimator-doc-link fitted\" rel=\"noreferrer\" target=\"_blank\" href=\"https://scikit-learn.org/1.7/modules/generated/sklearn.decomposition.PCA.html\">?<span>Documentation for PCA</span></a><span class=\"sk-estimator-doc-link fitted\">i<span>Fitted</span></span></div></label><div class=\"sk-toggleable__content fitted\" data-param-prefix=\"\">\n",
       "        <div class=\"estimator-table\">\n",
       "            <details>\n",
       "                <summary>Parameters</summary>\n",
       "                <table class=\"parameters-table\">\n",
       "                  <tbody>\n",
       "                    \n",
       "        <tr class=\"user-set\">\n",
       "            <td><i class=\"copy-paste-icon\"\n",
       "                 onclick=\"copyToClipboard('n_components',\n",
       "                          this.parentElement.nextElementSibling)\"\n",
       "            ></i></td>\n",
       "            <td class=\"param\">n_components&nbsp;</td>\n",
       "            <td class=\"value\">0.8</td>\n",
       "        </tr>\n",
       "    \n",
       "\n",
       "        <tr class=\"default\">\n",
       "            <td><i class=\"copy-paste-icon\"\n",
       "                 onclick=\"copyToClipboard('copy',\n",
       "                          this.parentElement.nextElementSibling)\"\n",
       "            ></i></td>\n",
       "            <td class=\"param\">copy&nbsp;</td>\n",
       "            <td class=\"value\">True</td>\n",
       "        </tr>\n",
       "    \n",
       "\n",
       "        <tr class=\"default\">\n",
       "            <td><i class=\"copy-paste-icon\"\n",
       "                 onclick=\"copyToClipboard('whiten',\n",
       "                          this.parentElement.nextElementSibling)\"\n",
       "            ></i></td>\n",
       "            <td class=\"param\">whiten&nbsp;</td>\n",
       "            <td class=\"value\">False</td>\n",
       "        </tr>\n",
       "    \n",
       "\n",
       "        <tr class=\"default\">\n",
       "            <td><i class=\"copy-paste-icon\"\n",
       "                 onclick=\"copyToClipboard('svd_solver',\n",
       "                          this.parentElement.nextElementSibling)\"\n",
       "            ></i></td>\n",
       "            <td class=\"param\">svd_solver&nbsp;</td>\n",
       "            <td class=\"value\">&#x27;auto&#x27;</td>\n",
       "        </tr>\n",
       "    \n",
       "\n",
       "        <tr class=\"default\">\n",
       "            <td><i class=\"copy-paste-icon\"\n",
       "                 onclick=\"copyToClipboard('tol',\n",
       "                          this.parentElement.nextElementSibling)\"\n",
       "            ></i></td>\n",
       "            <td class=\"param\">tol&nbsp;</td>\n",
       "            <td class=\"value\">0.0</td>\n",
       "        </tr>\n",
       "    \n",
       "\n",
       "        <tr class=\"default\">\n",
       "            <td><i class=\"copy-paste-icon\"\n",
       "                 onclick=\"copyToClipboard('iterated_power',\n",
       "                          this.parentElement.nextElementSibling)\"\n",
       "            ></i></td>\n",
       "            <td class=\"param\">iterated_power&nbsp;</td>\n",
       "            <td class=\"value\">&#x27;auto&#x27;</td>\n",
       "        </tr>\n",
       "    \n",
       "\n",
       "        <tr class=\"default\">\n",
       "            <td><i class=\"copy-paste-icon\"\n",
       "                 onclick=\"copyToClipboard('n_oversamples',\n",
       "                          this.parentElement.nextElementSibling)\"\n",
       "            ></i></td>\n",
       "            <td class=\"param\">n_oversamples&nbsp;</td>\n",
       "            <td class=\"value\">10</td>\n",
       "        </tr>\n",
       "    \n",
       "\n",
       "        <tr class=\"default\">\n",
       "            <td><i class=\"copy-paste-icon\"\n",
       "                 onclick=\"copyToClipboard('power_iteration_normalizer',\n",
       "                          this.parentElement.nextElementSibling)\"\n",
       "            ></i></td>\n",
       "            <td class=\"param\">power_iteration_normalizer&nbsp;</td>\n",
       "            <td class=\"value\">&#x27;auto&#x27;</td>\n",
       "        </tr>\n",
       "    \n",
       "\n",
       "        <tr class=\"default\">\n",
       "            <td><i class=\"copy-paste-icon\"\n",
       "                 onclick=\"copyToClipboard('random_state',\n",
       "                          this.parentElement.nextElementSibling)\"\n",
       "            ></i></td>\n",
       "            <td class=\"param\">random_state&nbsp;</td>\n",
       "            <td class=\"value\">None</td>\n",
       "        </tr>\n",
       "    \n",
       "                  </tbody>\n",
       "                </table>\n",
       "            </details>\n",
       "        </div>\n",
       "    </div></div></div></div></div><script>function copyToClipboard(text, element) {\n",
       "    // Get the parameter prefix from the closest toggleable content\n",
       "    const toggleableContent = element.closest('.sk-toggleable__content');\n",
       "    const paramPrefix = toggleableContent ? toggleableContent.dataset.paramPrefix : '';\n",
       "    const fullParamName = paramPrefix ? `${paramPrefix}${text}` : text;\n",
       "\n",
       "    const originalStyle = element.style;\n",
       "    const computedStyle = window.getComputedStyle(element);\n",
       "    const originalWidth = computedStyle.width;\n",
       "    const originalHTML = element.innerHTML.replace('Copied!', '');\n",
       "\n",
       "    navigator.clipboard.writeText(fullParamName)\n",
       "        .then(() => {\n",
       "            element.style.width = originalWidth;\n",
       "            element.style.color = 'green';\n",
       "            element.innerHTML = \"Copied!\";\n",
       "\n",
       "            setTimeout(() => {\n",
       "                element.innerHTML = originalHTML;\n",
       "                element.style = originalStyle;\n",
       "            }, 2000);\n",
       "        })\n",
       "        .catch(err => {\n",
       "            console.error('Failed to copy:', err);\n",
       "            element.style.color = 'red';\n",
       "            element.innerHTML = \"Failed!\";\n",
       "            setTimeout(() => {\n",
       "                element.innerHTML = originalHTML;\n",
       "                element.style = originalStyle;\n",
       "            }, 2000);\n",
       "        });\n",
       "    return false;\n",
       "}\n",
       "\n",
       "document.querySelectorAll('.fa-regular.fa-copy').forEach(function(element) {\n",
       "    const toggleableContent = element.closest('.sk-toggleable__content');\n",
       "    const paramPrefix = toggleableContent ? toggleableContent.dataset.paramPrefix : '';\n",
       "    const paramName = element.parentElement.nextElementSibling.textContent.trim();\n",
       "    const fullParamName = paramPrefix ? `${paramPrefix}${paramName}` : paramName;\n",
       "\n",
       "    element.setAttribute('title', fullParamName);\n",
       "});\n",
       "</script></body>"
      ],
      "text/plain": [
       "PCA(n_components=0.8)"
      ]
     },
     "execution_count": 58,
     "metadata": {},
     "output_type": "execute_result"
    }
   ],
   "source": [
    "from sklearn.decomposition import PCA\n",
    "from sklearn.preprocessing import normalize\n",
    "from sklearn.metrics import silhouette_score\n",
    "from sklearn.cluster import KMeans\n",
    "\n",
    "embeddings_array = embeddings_tensor.cpu().numpy()\n",
    "pca = PCA(n_components=0.8)\n",
    "pca.fit(embeddings_array)"
   ]
  },
  {
   "cell_type": "code",
   "execution_count": 59,
   "id": "e63dee39",
   "metadata": {},
   "outputs": [
    {
     "name": "stdout",
     "output_type": "stream",
     "text": [
      "Number of components: 90\n"
     ]
    }
   ],
   "source": [
    "print(f\"Number of components: {pca.n_components_}\")\n",
    "embeddings_array_pca = pca.transform(embeddings_tensor)"
   ]
  },
  {
   "cell_type": "code",
   "execution_count": 60,
   "id": "14ba4f23",
   "metadata": {},
   "outputs": [],
   "source": [
    "embeddings_array_pca = pca.transform(embeddings_array)\n",
    "Xn = normalize(embeddings_array_pca)"
   ]
  },
  {
   "cell_type": "code",
   "execution_count": null,
   "id": "1d7b9878",
   "metadata": {},
   "outputs": [],
   "source": [
    "def pick_best_k(\n",
    "    X,\n",
    "    k_values=range(5, 21),\n",
    "    n_init=20,\n",
    "    max_iter=300,\n",
    "    random_state=42,\n",
    "):\n",
    "    results = []\n",
    "\n",
    "    X_sil = X\n",
    "\n",
    "    best_k = None\n",
    "    best_sil = -1.0\n",
    "    best_model = None\n",
    "\n",
    "    for k in k_values:\n",
    "        km = KMeans(\n",
    "            n_clusters=k,\n",
    "            n_init=n_init,\n",
    "            max_iter=max_iter,\n",
    "            random_state=random_state,\n",
    "            verbose=0,\n",
    "        ).fit(X)\n",
    "\n",
    "        inertia = km.inertia_\n",
    "\n",
    "        # Metrics\n",
    "        # (Silhouette uses sample for speed if large; others on full set)\n",
    "        sil = silhouette_score(X_sil, km.predict(X_sil))\n",
    "\n",
    "        results.append(\n",
    "            {\n",
    "                \"k\": k,\n",
    "                \"inertia\": inertia,\n",
    "                \"silhouette\": sil,\n",
    "            }\n",
    "        )\n",
    "\n",
    "        if sil > best_sil:\n",
    "            best_sil = sil\n",
    "            best_k = k\n",
    "            best_model = km\n",
    "\n",
    "    return best_k, best_model, results\n",
    "k_range = range(5, 21)\n",
    "best_k, best_kmeans, metrics_table = pick_best_k(Xn, k_values=k_range)"
   ]
  },
  {
   "cell_type": "code",
   "execution_count": 64,
   "id": "5976802f",
   "metadata": {},
   "outputs": [
    {
     "name": "stdout",
     "output_type": "stream",
     "text": [
      "Stacked embeddings shape: torch.Size([90000, 768])\n",
      "Embeddings logged to TensorBoard in directory: tensorboard_logs/embeddings_roberta_20250903_230521\n",
      "To view the embeddings, run:\n",
      "tensorboard --logdir=tensorboard_logs/embeddings_roberta_20250903_230521\n",
      "Then open http://localhost:6006 in your browser\n"
     ]
    }
   ],
   "source": [
    "timestamp = datetime.now().strftime(\"%Y%m%d_%H%M%S\")\n",
    "log_dir = f\"tensorboard_logs/embeddings_roberta_{timestamp}\"\n",
    "os.makedirs(log_dir, exist_ok=True)\n",
    "\n",
    "writer = SummaryWriter(log_dir)\n",
    "\n",
    "\n",
    "metadata = [\n",
    "    [str(labels[i]), str(best_kmeans.labels_[i])] for i in range(len(embeddings_tensor))\n",
    "]\n",
    "\n",
    "\n",
    "writer.add_embedding(\n",
    "    embeddings_tensor,  # shape [N, D], CPU tensor\n",
    "    metadata=metadata,  # list of [label, cluster]\n",
    "    metadata_header=[\"label\", \"cluster\"],\n",
    "    global_step=0,\n",
    "    tag=\"title_embeddings\",\n",
    ")\n",
    "\n",
    "writer.close()\n",
    "\n",
    "print(f\"Embeddings logged to TensorBoard in directory: {log_dir}\")\n",
    "print(\"To view the embeddings, run:\")\n",
    "print(f\"tensorboard --logdir={log_dir}\")\n",
    "print(\"Then open http://localhost:6006 in your browser\")"
   ]
  },
  {
   "cell_type": "markdown",
   "id": "b93bb194",
   "metadata": {},
   "source": [
    "<img src=\"Roberta_10_kmeans.png\" alt=\"RoBERTa encoder\" width=\"600\">\n",
    "#### 💡 Insights  \n",
    "Although the visualization shows clusters that appear very close together, this is likely an effect of reducing the embeddings to **3 dimensions**.  \n",
    "In higher-dimensional space, the separation between clusters may be more meaningful, even if it is not clearly visible here."
   ]
  },
  {
   "cell_type": "code",
   "execution_count": null,
   "id": "70e9fd2f",
   "metadata": {},
   "outputs": [],
   "source": [
    "with open(\"embeddings_roberta.pkl\", \"wb\") as f:\n",
    "    pickle.dump(embeddings_array, f)\n",
    "\n",
    "with open(\"PCA_roberta.pkl\", \"wb\") as f:\n",
    "    pickle.dump(pca, f)\n",
    "\n",
    "with open(\"best_kmeans_roberta.pkl\", \"wb\") as f:\n",
    "    pickle.dump(best_kmeans, f)"
   ]
  },
  {
   "cell_type": "code",
   "execution_count": 4,
   "id": "dee436e0",
   "metadata": {},
   "outputs": [],
   "source": [
    "a = pickle.load(open(\"PCA_roberta.pkl\", \"rb\"))\n",
    "b = pickle.load(open(\"best_kmeans_roberta.pkl\", \"rb\"))\n",
    "c = pickle.load(open(\"embeddings_roberta.pkl\", \"rb\"))"
   ]
  },
  {
   "cell_type": "code",
   "execution_count": 7,
   "id": "40c926e9",
   "metadata": {},
   "outputs": [
    {
     "data": {
      "text/plain": [
       "title_cluster\n",
       "1    21259\n",
       "2    19378\n",
       "0    17772\n",
       "4    16845\n",
       "3    14746\n",
       "Name: count, dtype: int64"
      ]
     },
     "execution_count": 7,
     "metadata": {},
     "output_type": "execute_result"
    }
   ],
   "source": [
    "X_dataframe[\"title_cluster\"] = best_kmeans.labels_\n",
    "X_dataframe[\"title_cluster\"].value_counts()\n"
   ]
  },
  {
   "cell_type": "code",
   "execution_count": null,
   "id": "c939b986",
   "metadata": {},
   "outputs": [
    {
     "data": {
      "image/png": "[encoded data removed]",
      "text/plain": [
       "<Figure size 640x480 with 1 Axes>"
      ]
     },
     "metadata": {},
     "output_type": "display_data"
    }
   ],
   "source": [
    "res = column_analysis(\"title_cluster\", X_dataframe)\n",
    "plot_column_analysis(res)"
   ]
  },
  {
   "cell_type": "markdown",
   "id": "53c0d72e",
   "metadata": {},
   "source": [
    "#### 💡 Insights  \n",
    "Each cluster shows a distinct distribution of item condition, which is promising since it suggests clustering captures meaningful patterns.  \n",
    "\n",
    "- **Cluster 3** has a high proportion of used items.  \n",
    "- **Cluster 2** has a high proportion of new items.  \n",
    "\n",
    "This indicates that cluster assignments may provide **valuable predictive information** for the model."
   ]
  }
 ],
 "metadata": {
  "kernelspec": {
   "display_name": ".venv",
   "language": "python",
   "name": "python3"
  },
  "language_info": {
   "codemirror_mode": {
    "name": "ipython",
    "version": 3
   },
   "file_extension": ".py",
   "mimetype": "text/x-python",
   "name": "python",
   "nbconvert_exporter": "python",
   "pygments_lexer": "ipython3",
   "version": "3.12.10"
  }
 },
 "nbformat": 4,
 "nbformat_minor": 5
}

{
 "cells": [
  {
   "cell_type": "markdown",
   "id": "4d979e40",
   "metadata": {},
   "source": [
    "# EDA on the `MLA_100k_checked_v3` dataset"
   ]
  },
  {
   "cell_type": "code",
   "execution_count": 1,
   "id": "987a1925",
   "metadata": {},
   "outputs": [],
   "source": [
    "import matplotlib.pyplot as plt\n",
    "import pandas as pd\n",
    "import numpy as np\n",
    "import seaborn as sns\n",
    "from utils import *"
   ]
  },
  {
   "cell_type": "markdown",
   "id": "d31ec365",
   "metadata": {},
   "source": [
    "## Load the dataset"
   ]
  },
  {
   "cell_type": "code",
   "execution_count": 2,
   "id": "acc0e8fd",
   "metadata": {},
   "outputs": [
    {
     "data": {
      "text/html": [
       "<div>\n",
       "<style scoped>\n",
       "    .dataframe tbody tr th:only-of-type {\n",
       "        vertical-align: middle;\n",
       "    }\n",
       "\n",
       "    .dataframe tbody tr th {\n",
       "        vertical-align: top;\n",
       "    }\n",
       "\n",
       "    .dataframe thead th {\n",
       "        text-align: right;\n",
       "    }\n",
       "</style>\n",
       "<table border=\"1\" class=\"dataframe\">\n",
       "  <thead>\n",
       "    <tr style=\"text-align: right;\">\n",
       "      <th></th>\n",
       "      <th>seller_address</th>\n",
       "      <th>warranty</th>\n",
       "      <th>base_price</th>\n",
       "      <th>shipping</th>\n",
       "      <th>non_mercado_pago_payment_methods</th>\n",
       "      <th>seller_id</th>\n",
       "      <th>variations</th>\n",
       "      <th>listing_type_id</th>\n",
       "      <th>price</th>\n",
       "      <th>attributes</th>\n",
       "      <th>...</th>\n",
       "      <th>secure_thumbnail</th>\n",
       "      <th>stop_time</th>\n",
       "      <th>status</th>\n",
       "      <th>video_id</th>\n",
       "      <th>catalog_product_id</th>\n",
       "      <th>initial_quantity</th>\n",
       "      <th>start_time</th>\n",
       "      <th>sold_quantity</th>\n",
       "      <th>available_quantity</th>\n",
       "      <th>used</th>\n",
       "    </tr>\n",
       "  </thead>\n",
       "  <tbody>\n",
       "    <tr>\n",
       "      <th>0</th>\n",
       "      <td>{'country': {'name': 'Argentina', 'id': 'AR'},...</td>\n",
       "      <td>NaN</td>\n",
       "      <td>80.0</td>\n",
       "      <td>{'local_pick_up': True, 'methods': [], 'tags':...</td>\n",
       "      <td>[{'description': 'Transferencia bancaria', 'id...</td>\n",
       "      <td>8208882349</td>\n",
       "      <td>[]</td>\n",
       "      <td>bronze</td>\n",
       "      <td>80.0</td>\n",
       "      <td>[]</td>\n",
       "      <td>...</td>\n",
       "      <td>https://a248.e.akamai.net/mla-s1-p.mlstatic.co...</td>\n",
       "      <td>1446669773000</td>\n",
       "      <td>active</td>\n",
       "      <td>NaN</td>\n",
       "      <td>NaN</td>\n",
       "      <td>1</td>\n",
       "      <td>1441485773000</td>\n",
       "      <td>0</td>\n",
       "      <td>1</td>\n",
       "      <td>False</td>\n",
       "    </tr>\n",
       "    <tr>\n",
       "      <th>1</th>\n",
       "      <td>{'country': {'name': 'Argentina', 'id': 'AR'},...</td>\n",
       "      <td>NUESTRA REPUTACION</td>\n",
       "      <td>2650.0</td>\n",
       "      <td>{'local_pick_up': True, 'methods': [], 'tags':...</td>\n",
       "      <td>[{'description': 'Transferencia bancaria', 'id...</td>\n",
       "      <td>8141699488</td>\n",
       "      <td>[]</td>\n",
       "      <td>silver</td>\n",
       "      <td>2650.0</td>\n",
       "      <td>[]</td>\n",
       "      <td>...</td>\n",
       "      <td>https://a248.e.akamai.net/mla-s1-p.mlstatic.co...</td>\n",
       "      <td>1448474910000</td>\n",
       "      <td>active</td>\n",
       "      <td>NaN</td>\n",
       "      <td>NaN</td>\n",
       "      <td>1</td>\n",
       "      <td>1443290910000</td>\n",
       "      <td>0</td>\n",
       "      <td>1</td>\n",
       "      <td>True</td>\n",
       "    </tr>\n",
       "    <tr>\n",
       "      <th>2</th>\n",
       "      <td>{'country': {'name': 'Argentina', 'id': 'AR'},...</td>\n",
       "      <td>NaN</td>\n",
       "      <td>60.0</td>\n",
       "      <td>{'local_pick_up': True, 'methods': [], 'tags':...</td>\n",
       "      <td>[{'description': 'Transferencia bancaria', 'id...</td>\n",
       "      <td>8386096505</td>\n",
       "      <td>[]</td>\n",
       "      <td>bronze</td>\n",
       "      <td>60.0</td>\n",
       "      <td>[]</td>\n",
       "      <td>...</td>\n",
       "      <td>https://a248.e.akamai.net/mla-s1-p.mlstatic.co...</td>\n",
       "      <td>1447027027000</td>\n",
       "      <td>active</td>\n",
       "      <td>NaN</td>\n",
       "      <td>NaN</td>\n",
       "      <td>1</td>\n",
       "      <td>1441843027000</td>\n",
       "      <td>0</td>\n",
       "      <td>1</td>\n",
       "      <td>True</td>\n",
       "    </tr>\n",
       "    <tr>\n",
       "      <th>3</th>\n",
       "      <td>{'country': {'name': 'Argentina', 'id': 'AR'},...</td>\n",
       "      <td>NaN</td>\n",
       "      <td>580.0</td>\n",
       "      <td>{'local_pick_up': True, 'methods': [], 'tags':...</td>\n",
       "      <td>[{'description': 'Transferencia bancaria', 'id...</td>\n",
       "      <td>5377752182</td>\n",
       "      <td>[]</td>\n",
       "      <td>silver</td>\n",
       "      <td>580.0</td>\n",
       "      <td>[]</td>\n",
       "      <td>...</td>\n",
       "      <td>https://a248.e.akamai.net/mla-s2-p.mlstatic.co...</td>\n",
       "      <td>1449191596000</td>\n",
       "      <td>active</td>\n",
       "      <td>NaN</td>\n",
       "      <td>NaN</td>\n",
       "      <td>1</td>\n",
       "      <td>1443466076000</td>\n",
       "      <td>0</td>\n",
       "      <td>1</td>\n",
       "      <td>False</td>\n",
       "    </tr>\n",
       "    <tr>\n",
       "      <th>4</th>\n",
       "      <td>{'country': {'name': 'Argentina', 'id': 'AR'},...</td>\n",
       "      <td>MI REPUTACION.</td>\n",
       "      <td>30.0</td>\n",
       "      <td>{'local_pick_up': True, 'methods': [], 'tags':...</td>\n",
       "      <td>[{'description': 'Transferencia bancaria', 'id...</td>\n",
       "      <td>2938071313</td>\n",
       "      <td>[]</td>\n",
       "      <td>bronze</td>\n",
       "      <td>30.0</td>\n",
       "      <td>[]</td>\n",
       "      <td>...</td>\n",
       "      <td>https://a248.e.akamai.net/mla-s2-p.mlstatic.co...</td>\n",
       "      <td>1445638040000</td>\n",
       "      <td>active</td>\n",
       "      <td>NaN</td>\n",
       "      <td>NaN</td>\n",
       "      <td>1</td>\n",
       "      <td>1440454040000</td>\n",
       "      <td>0</td>\n",
       "      <td>1</td>\n",
       "      <td>True</td>\n",
       "    </tr>\n",
       "  </tbody>\n",
       "</table>\n",
       "<p>5 rows × 34 columns</p>\n",
       "</div>"
      ],
      "text/plain": [
       "                                      seller_address            warranty  \\\n",
       "0  {'country': {'name': 'Argentina', 'id': 'AR'},...                 NaN   \n",
       "1  {'country': {'name': 'Argentina', 'id': 'AR'},...  NUESTRA REPUTACION   \n",
       "2  {'country': {'name': 'Argentina', 'id': 'AR'},...                 NaN   \n",
       "3  {'country': {'name': 'Argentina', 'id': 'AR'},...                 NaN   \n",
       "4  {'country': {'name': 'Argentina', 'id': 'AR'},...      MI REPUTACION.   \n",
       "\n",
       "   base_price                                           shipping  \\\n",
       "0        80.0  {'local_pick_up': True, 'methods': [], 'tags':...   \n",
       "1      2650.0  {'local_pick_up': True, 'methods': [], 'tags':...   \n",
       "2        60.0  {'local_pick_up': True, 'methods': [], 'tags':...   \n",
       "3       580.0  {'local_pick_up': True, 'methods': [], 'tags':...   \n",
       "4        30.0  {'local_pick_up': True, 'methods': [], 'tags':...   \n",
       "\n",
       "                    non_mercado_pago_payment_methods   seller_id variations  \\\n",
       "0  [{'description': 'Transferencia bancaria', 'id...  8208882349         []   \n",
       "1  [{'description': 'Transferencia bancaria', 'id...  8141699488         []   \n",
       "2  [{'description': 'Transferencia bancaria', 'id...  8386096505         []   \n",
       "3  [{'description': 'Transferencia bancaria', 'id...  5377752182         []   \n",
       "4  [{'description': 'Transferencia bancaria', 'id...  2938071313         []   \n",
       "\n",
       "  listing_type_id   price attributes  ...  \\\n",
       "0          bronze    80.0         []  ...   \n",
       "1          silver  2650.0         []  ...   \n",
       "2          bronze    60.0         []  ...   \n",
       "3          silver   580.0         []  ...   \n",
       "4          bronze    30.0         []  ...   \n",
       "\n",
       "                                    secure_thumbnail      stop_time  status  \\\n",
       "0  https://a248.e.akamai.net/mla-s1-p.mlstatic.co...  1446669773000  active   \n",
       "1  https://a248.e.akamai.net/mla-s1-p.mlstatic.co...  1448474910000  active   \n",
       "2  https://a248.e.akamai.net/mla-s1-p.mlstatic.co...  1447027027000  active   \n",
       "3  https://a248.e.akamai.net/mla-s2-p.mlstatic.co...  1449191596000  active   \n",
       "4  https://a248.e.akamai.net/mla-s2-p.mlstatic.co...  1445638040000  active   \n",
       "\n",
       "  video_id catalog_product_id initial_quantity     start_time  sold_quantity  \\\n",
       "0      NaN                NaN                1  1441485773000              0   \n",
       "1      NaN                NaN                1  1443290910000              0   \n",
       "2      NaN                NaN                1  1441843027000              0   \n",
       "3      NaN                NaN                1  1443466076000              0   \n",
       "4      NaN                NaN                1  1440454040000              0   \n",
       "\n",
       "   available_quantity   used  \n",
       "0                   1  False  \n",
       "1                   1   True  \n",
       "2                   1   True  \n",
       "3                   1  False  \n",
       "4                   1   True  \n",
       "\n",
       "[5 rows x 34 columns]"
      ]
     },
     "execution_count": 2,
     "metadata": {},
     "output_type": "execute_result"
    }
   ],
   "source": [
    "X_dataframe = pd.read_csv(\"../data/X_dataframe.csv\")\n",
    "X_dataframe.head()"
   ]
  },
  {
   "cell_type": "markdown",
   "id": "308f04ee",
   "metadata": {},
   "source": [
    "### Tags"
   ]
  },
  {
   "cell_type": "code",
   "execution_count": 6,
   "id": "7c874e6f",
   "metadata": {},
   "outputs": [
    {
     "data": {
      "text/plain": [
       "count                           90000\n",
       "unique                              8\n",
       "top       ['dragged_bids_and_visits']\n",
       "freq                            65315\n",
       "Name: tags, dtype: object"
      ]
     },
     "execution_count": 6,
     "metadata": {},
     "output_type": "execute_result"
    }
   ],
   "source": [
    "X_dataframe[\"tags\"].describe()\n"
   ]
  },
  {
   "cell_type": "code",
   "execution_count": 7,
   "id": "b2a34ab3",
   "metadata": {},
   "outputs": [
    {
     "data": {
      "text/plain": [
       "tags\n",
       "['dragged_bids_and_visits']                              65315\n",
       "[]                                                       22412\n",
       "['good_quality_thumbnail', 'dragged_bids_and_visits']     1191\n",
       "['dragged_visits']                                         464\n",
       "['good_quality_thumbnail']                                 346\n",
       "['dragged_visits', 'free_relist']                          259\n",
       "['poor_quality_thumbnail', 'dragged_bids_and_visits']       10\n",
       "['poor_quality_thumbnail']                                   3\n",
       "Name: count, dtype: int64"
      ]
     },
     "execution_count": 7,
     "metadata": {},
     "output_type": "execute_result"
    }
   ],
   "source": [
    "X_dataframe[\"tags\"].value_counts()"
   ]
  },
  {
   "cell_type": "code",
   "execution_count": 8,
   "id": "ece6d7d4",
   "metadata": {},
   "outputs": [
    {
     "data": {
      "text/plain": [
       "tags\n",
       "[dragged_bids_and_visits]                            65315\n",
       "[]                                                   22412\n",
       "[good_quality_thumbnail, dragged_bids_and_visits]     1191\n",
       "[dragged_visits]                                       464\n",
       "[good_quality_thumbnail]                               346\n",
       "[dragged_visits, free_relist]                          259\n",
       "[poor_quality_thumbnail, dragged_bids_and_visits]       10\n",
       "[poor_quality_thumbnail]                                 3\n",
       "Name: count, dtype: int64"
      ]
     },
     "execution_count": 8,
     "metadata": {},
     "output_type": "execute_result"
    }
   ],
   "source": [
    "import ast\n",
    "\n",
    "X_dataframe[\"tags\"] = X_dataframe[\"tags\"].apply(ast.literal_eval)\n",
    "X_dataframe[\"tags\"].value_counts()"
   ]
  },
  {
   "cell_type": "code",
   "execution_count": 9,
   "id": "f7b088d5",
   "metadata": {},
   "outputs": [
    {
     "data": {
      "text/plain": [
       "['free_relist',\n",
       " 'good_quality_thumbnail',\n",
       " 'dragged_visits',\n",
       " 'poor_quality_thumbnail',\n",
       " 'dragged_bids_and_visits']"
      ]
     },
     "execution_count": 9,
     "metadata": {},
     "output_type": "execute_result"
    }
   ],
   "source": [
    "possible_tags = list(X_dataframe[\"tags\"].value_counts().index)\n",
    "all_tags = []\n",
    "for tag in possible_tags:\n",
    "    all_tags.extend(tag)\n",
    "possible_tags = list(set(all_tags))\n",
    "possible_tags\n"
   ]
  },
  {
   "cell_type": "markdown",
   "id": "fce1cfb8",
   "metadata": {},
   "source": [
    "## Empty tags"
   ]
  },
  {
   "cell_type": "code",
   "execution_count": 10,
   "id": "f989979a",
   "metadata": {},
   "outputs": [
    {
     "data": {
      "text/plain": [
       "empty_tags\n",
       "False    67588\n",
       "True     22412\n",
       "Name: count, dtype: int64"
      ]
     },
     "execution_count": 10,
     "metadata": {},
     "output_type": "execute_result"
    }
   ],
   "source": [
    "X_dataframe[\"empty_tags\"] = X_dataframe[\"tags\"].apply(lambda x: len(x) == 0)\n",
    "X_dataframe[\"empty_tags\"].value_counts()"
   ]
  },
  {
   "cell_type": "code",
   "execution_count": 11,
   "id": "6432d0b3",
   "metadata": {},
   "outputs": [
    {
     "data": {
      "text/html": [
       "<div>\n",
       "<style scoped>\n",
       "    .dataframe tbody tr th:only-of-type {\n",
       "        vertical-align: middle;\n",
       "    }\n",
       "\n",
       "    .dataframe tbody tr th {\n",
       "        vertical-align: top;\n",
       "    }\n",
       "\n",
       "    .dataframe thead th {\n",
       "        text-align: right;\n",
       "    }\n",
       "</style>\n",
       "<table border=\"1\" class=\"dataframe\">\n",
       "  <thead>\n",
       "    <tr style=\"text-align: right;\">\n",
       "      <th></th>\n",
       "      <th>n</th>\n",
       "      <th>prop_used</th>\n",
       "      <th>ci_lower</th>\n",
       "      <th>ci_upper</th>\n",
       "    </tr>\n",
       "    <tr>\n",
       "      <th>empty_tags</th>\n",
       "      <th></th>\n",
       "      <th></th>\n",
       "      <th></th>\n",
       "      <th></th>\n",
       "    </tr>\n",
       "  </thead>\n",
       "  <tbody>\n",
       "    <tr>\n",
       "      <th>False</th>\n",
       "      <td>67588</td>\n",
       "      <td>0.465378</td>\n",
       "      <td>0.461620</td>\n",
       "      <td>0.469141</td>\n",
       "    </tr>\n",
       "    <tr>\n",
       "      <th>True</th>\n",
       "      <td>22412</td>\n",
       "      <td>0.454846</td>\n",
       "      <td>0.448335</td>\n",
       "      <td>0.461372</td>\n",
       "    </tr>\n",
       "  </tbody>\n",
       "</table>\n",
       "</div>"
      ],
      "text/plain": [
       "                n  prop_used  ci_lower  ci_upper\n",
       "empty_tags                                      \n",
       "False       67588   0.465378  0.461620  0.469141\n",
       "True        22412   0.454846  0.448335  0.461372"
      ]
     },
     "metadata": {},
     "output_type": "display_data"
    }
   ],
   "source": [
    "res = column_analysis(\"empty_tags\", X_dataframe)\n",
    "display(res)"
   ]
  },
  {
   "cell_type": "code",
   "execution_count": 146,
   "id": "da0d519a",
   "metadata": {},
   "outputs": [
    {
     "data": {
      "image/png": "[encoded data removed]",
      "text/plain": [
       "<Figure size 640x480 with 1 Axes>"
      ]
     },
     "metadata": {},
     "output_type": "display_data"
    }
   ],
   "source": [
    "plot_column_analysis(res)"
   ]
  },
  {
   "cell_type": "markdown",
   "id": "7a453d1a",
   "metadata": {},
   "source": [
    "Same distribution"
   ]
  },
  {
   "cell_type": "markdown",
   "id": "3c216e6d",
   "metadata": {},
   "source": [
    "## dragged_bids_and_visits"
   ]
  },
  {
   "cell_type": "code",
   "execution_count": 12,
   "id": "ab8a6dea",
   "metadata": {},
   "outputs": [],
   "source": [
    "X_dataframe[\"tags_dragged_bids_and_visits\"]=X_dataframe[\"tags\"].apply(lambda x: \"dragged_bids_and_visits\" in x)"
   ]
  },
  {
   "cell_type": "code",
   "execution_count": 13,
   "id": "f2eed3f6",
   "metadata": {},
   "outputs": [
    {
     "data": {
      "text/html": [
       "<div>\n",
       "<style scoped>\n",
       "    .dataframe tbody tr th:only-of-type {\n",
       "        vertical-align: middle;\n",
       "    }\n",
       "\n",
       "    .dataframe tbody tr th {\n",
       "        vertical-align: top;\n",
       "    }\n",
       "\n",
       "    .dataframe thead th {\n",
       "        text-align: right;\n",
       "    }\n",
       "</style>\n",
       "<table border=\"1\" class=\"dataframe\">\n",
       "  <thead>\n",
       "    <tr style=\"text-align: right;\">\n",
       "      <th></th>\n",
       "      <th>n</th>\n",
       "      <th>prop_used</th>\n",
       "      <th>ci_lower</th>\n",
       "      <th>ci_upper</th>\n",
       "    </tr>\n",
       "    <tr>\n",
       "      <th>tags_dragged_bids_and_visits</th>\n",
       "      <th></th>\n",
       "      <th></th>\n",
       "      <th></th>\n",
       "      <th></th>\n",
       "    </tr>\n",
       "  </thead>\n",
       "  <tbody>\n",
       "    <tr>\n",
       "      <th>True</th>\n",
       "      <td>66516</td>\n",
       "      <td>0.463663</td>\n",
       "      <td>0.459875</td>\n",
       "      <td>0.467455</td>\n",
       "    </tr>\n",
       "    <tr>\n",
       "      <th>False</th>\n",
       "      <td>23484</td>\n",
       "      <td>0.460186</td>\n",
       "      <td>0.453818</td>\n",
       "      <td>0.466566</td>\n",
       "    </tr>\n",
       "  </tbody>\n",
       "</table>\n",
       "</div>"
      ],
      "text/plain": [
       "                                  n  prop_used  ci_lower  ci_upper\n",
       "tags_dragged_bids_and_visits                                      \n",
       "True                          66516   0.463663  0.459875  0.467455\n",
       "False                         23484   0.460186  0.453818  0.466566"
      ]
     },
     "execution_count": 13,
     "metadata": {},
     "output_type": "execute_result"
    }
   ],
   "source": [
    "res = column_analysis(\n",
    "    \"tags_dragged_bids_and_visits\",\n",
    "    X_dataframe\n",
    ")\n",
    "res"
   ]
  },
  {
   "cell_type": "code",
   "execution_count": 14,
   "id": "1e008d3c",
   "metadata": {},
   "outputs": [
    {
     "data": {
      "image/png": "[encoded data removed]",
      "text/plain": [
       "<Figure size 640x480 with 1 Axes>"
      ]
     },
     "metadata": {},
     "output_type": "display_data"
    }
   ],
   "source": [
    "plot_column_analysis(res)"
   ]
  },
  {
   "cell_type": "markdown",
   "id": "35abbfc8",
   "metadata": {},
   "source": [
    "Not at all conclusive"
   ]
  },
  {
   "cell_type": "markdown",
   "id": "081d6765",
   "metadata": {},
   "source": [
    "#### dragged_visits"
   ]
  },
  {
   "cell_type": "code",
   "execution_count": 15,
   "id": "6e6ca471",
   "metadata": {},
   "outputs": [
    {
     "data": {
      "image/png": "[encoded data removed]",
      "text/plain": [
       "<Figure size 640x480 with 1 Axes>"
      ]
     },
     "metadata": {},
     "output_type": "display_data"
    }
   ],
   "source": [
    "X_dataframe[\"dragged_visits\"] = X_dataframe[\"tags\"].apply(lambda x: \"dragged_visits\" in x)\n",
    "res = column_analysis(\n",
    "    \"dragged_visits\",\n",
    "    X_dataframe\n",
    ")\n",
    "plot_column_analysis(res)\n"
   ]
  },
  {
   "cell_type": "code",
   "execution_count": 16,
   "id": "1d264c54",
   "metadata": {},
   "outputs": [
    {
     "data": {
      "text/html": [
       "<div>\n",
       "<style scoped>\n",
       "    .dataframe tbody tr th:only-of-type {\n",
       "        vertical-align: middle;\n",
       "    }\n",
       "\n",
       "    .dataframe tbody tr th {\n",
       "        vertical-align: top;\n",
       "    }\n",
       "\n",
       "    .dataframe thead th {\n",
       "        text-align: right;\n",
       "    }\n",
       "</style>\n",
       "<table border=\"1\" class=\"dataframe\">\n",
       "  <thead>\n",
       "    <tr style=\"text-align: right;\">\n",
       "      <th></th>\n",
       "      <th>n</th>\n",
       "      <th>prop_used</th>\n",
       "      <th>ci_lower</th>\n",
       "      <th>ci_upper</th>\n",
       "    </tr>\n",
       "    <tr>\n",
       "      <th>dragged_visits</th>\n",
       "      <th></th>\n",
       "      <th></th>\n",
       "      <th></th>\n",
       "      <th></th>\n",
       "    </tr>\n",
       "  </thead>\n",
       "  <tbody>\n",
       "    <tr>\n",
       "      <th>True</th>\n",
       "      <td>723</td>\n",
       "      <td>0.749654</td>\n",
       "      <td>0.716812</td>\n",
       "      <td>0.779857</td>\n",
       "    </tr>\n",
       "    <tr>\n",
       "      <th>False</th>\n",
       "      <td>89277</td>\n",
       "      <td>0.460432</td>\n",
       "      <td>0.457164</td>\n",
       "      <td>0.463703</td>\n",
       "    </tr>\n",
       "  </tbody>\n",
       "</table>\n",
       "</div>"
      ],
      "text/plain": [
       "                    n  prop_used  ci_lower  ci_upper\n",
       "dragged_visits                                      \n",
       "True              723   0.749654  0.716812  0.779857\n",
       "False           89277   0.460432  0.457164  0.463703"
      ]
     },
     "execution_count": 16,
     "metadata": {},
     "output_type": "execute_result"
    }
   ],
   "source": [
    "res"
   ]
  },
  {
   "cell_type": "markdown",
   "id": "ced8b191",
   "metadata": {},
   "source": [
    "Very little amount of dragged visits"
   ]
  },
  {
   "cell_type": "markdown",
   "id": "f05f5ef6",
   "metadata": {},
   "source": [
    "## free_relist"
   ]
  },
  {
   "cell_type": "code",
   "execution_count": 17,
   "id": "a239c9d9",
   "metadata": {},
   "outputs": [
    {
     "data": {
      "image/png": "[encoded data removed]",
      "text/plain": [
       "<Figure size 640x480 with 1 Axes>"
      ]
     },
     "metadata": {},
     "output_type": "display_data"
    }
   ],
   "source": [
    "X_dataframe[\"tags_free_relist\"] = X_dataframe[\"tags\"].apply(lambda x: \"free_relist\" in x)\n",
    "res = column_analysis(\n",
    "    \"tags_free_relist\",\n",
    "    X_dataframe\n",
    ")\n",
    "plot_column_analysis(res)\n"
   ]
  },
  {
   "cell_type": "code",
   "execution_count": 18,
   "id": "b586c3f3",
   "metadata": {},
   "outputs": [
    {
     "data": {
      "text/html": [
       "<div>\n",
       "<style scoped>\n",
       "    .dataframe tbody tr th:only-of-type {\n",
       "        vertical-align: middle;\n",
       "    }\n",
       "\n",
       "    .dataframe tbody tr th {\n",
       "        vertical-align: top;\n",
       "    }\n",
       "\n",
       "    .dataframe thead th {\n",
       "        text-align: right;\n",
       "    }\n",
       "</style>\n",
       "<table border=\"1\" class=\"dataframe\">\n",
       "  <thead>\n",
       "    <tr style=\"text-align: right;\">\n",
       "      <th></th>\n",
       "      <th>n</th>\n",
       "      <th>prop_used</th>\n",
       "      <th>ci_lower</th>\n",
       "      <th>ci_upper</th>\n",
       "    </tr>\n",
       "    <tr>\n",
       "      <th>tags_free_relist</th>\n",
       "      <th></th>\n",
       "      <th></th>\n",
       "      <th></th>\n",
       "      <th></th>\n",
       "    </tr>\n",
       "  </thead>\n",
       "  <tbody>\n",
       "    <tr>\n",
       "      <th>True</th>\n",
       "      <td>259</td>\n",
       "      <td>0.961390</td>\n",
       "      <td>0.930398</td>\n",
       "      <td>0.978895</td>\n",
       "    </tr>\n",
       "    <tr>\n",
       "      <th>False</th>\n",
       "      <td>89741</td>\n",
       "      <td>0.461316</td>\n",
       "      <td>0.458057</td>\n",
       "      <td>0.464580</td>\n",
       "    </tr>\n",
       "  </tbody>\n",
       "</table>\n",
       "</div>"
      ],
      "text/plain": [
       "                      n  prop_used  ci_lower  ci_upper\n",
       "tags_free_relist                                      \n",
       "True                259   0.961390  0.930398  0.978895\n",
       "False             89741   0.461316  0.458057  0.464580"
      ]
     },
     "execution_count": 18,
     "metadata": {},
     "output_type": "execute_result"
    }
   ],
   "source": [
    "res"
   ]
  },
  {
   "cell_type": "markdown",
   "id": "fac73737",
   "metadata": {},
   "source": [
    "Very little amount of free relist"
   ]
  },
  {
   "cell_type": "markdown",
   "id": "90801329",
   "metadata": {},
   "source": [
    "#### good_quality_thumbnail"
   ]
  },
  {
   "cell_type": "code",
   "execution_count": 19,
   "id": "53ac0f84",
   "metadata": {},
   "outputs": [
    {
     "data": {
      "image/png": "[encoded data removed]",
      "text/plain": [
       "<Figure size 640x480 with 1 Axes>"
      ]
     },
     "metadata": {},
     "output_type": "display_data"
    }
   ],
   "source": [
    "X_dataframe[\"tags_good_quality_thumbnail\"] = X_dataframe[\"tags\"].apply(lambda x: \"good_quality_thumbnail\" in x)\n",
    "res = column_analysis(\n",
    "    \"tags_good_quality_thumbnail\",\n",
    "    X_dataframe\n",
    ")\n",
    "plot_column_analysis(res)\n"
   ]
  },
  {
   "cell_type": "code",
   "execution_count": 20,
   "id": "7aa1fd69",
   "metadata": {},
   "outputs": [
    {
     "data": {
      "text/html": [
       "<div>\n",
       "<style scoped>\n",
       "    .dataframe tbody tr th:only-of-type {\n",
       "        vertical-align: middle;\n",
       "    }\n",
       "\n",
       "    .dataframe tbody tr th {\n",
       "        vertical-align: top;\n",
       "    }\n",
       "\n",
       "    .dataframe thead th {\n",
       "        text-align: right;\n",
       "    }\n",
       "</style>\n",
       "<table border=\"1\" class=\"dataframe\">\n",
       "  <thead>\n",
       "    <tr style=\"text-align: right;\">\n",
       "      <th></th>\n",
       "      <th>n</th>\n",
       "      <th>prop_used</th>\n",
       "      <th>ci_lower</th>\n",
       "      <th>ci_upper</th>\n",
       "    </tr>\n",
       "    <tr>\n",
       "      <th>tags_good_quality_thumbnail</th>\n",
       "      <th></th>\n",
       "      <th></th>\n",
       "      <th></th>\n",
       "      <th></th>\n",
       "    </tr>\n",
       "  </thead>\n",
       "  <tbody>\n",
       "    <tr>\n",
       "      <th>False</th>\n",
       "      <td>88463</td>\n",
       "      <td>0.468829</td>\n",
       "      <td>0.465542</td>\n",
       "      <td>0.472119</td>\n",
       "    </tr>\n",
       "    <tr>\n",
       "      <th>True</th>\n",
       "      <td>1537</td>\n",
       "      <td>0.113208</td>\n",
       "      <td>0.098322</td>\n",
       "      <td>0.130022</td>\n",
       "    </tr>\n",
       "  </tbody>\n",
       "</table>\n",
       "</div>"
      ],
      "text/plain": [
       "                                 n  prop_used  ci_lower  ci_upper\n",
       "tags_good_quality_thumbnail                                      \n",
       "False                        88463   0.468829  0.465542  0.472119\n",
       "True                          1537   0.113208  0.098322  0.130022"
      ]
     },
     "execution_count": 20,
     "metadata": {},
     "output_type": "execute_result"
    }
   ],
   "source": [
    "res"
   ]
  },
  {
   "cell_type": "markdown",
   "id": "02e7e59f",
   "metadata": {},
   "source": [
    "Almost 99% of the data doesn't have the tag"
   ]
  },
  {
   "cell_type": "markdown",
   "id": "a3673b1e",
   "metadata": {},
   "source": [
    "#### poor_quality_thumbnail"
   ]
  },
  {
   "cell_type": "code",
   "execution_count": 23,
   "id": "a158dd78",
   "metadata": {},
   "outputs": [
    {
     "data": {
      "text/plain": [
       "tags\n",
       "False    89987\n",
       "True        13\n",
       "Name: count, dtype: int64"
      ]
     },
     "execution_count": 23,
     "metadata": {},
     "output_type": "execute_result"
    }
   ],
   "source": [
    "X_dataframe[\"tags\"].apply(lambda x: \"poor_quality_thumbnail\" in x).value_counts()"
   ]
  },
  {
   "cell_type": "markdown",
   "id": "3715dea7",
   "metadata": {},
   "source": [
    "Not enough poor quality thumbnail tag"
   ]
  }
 ],
 "metadata": {
  "kernelspec": {
   "display_name": ".venv",
   "language": "python",
   "name": "python3"
  },
  "language_info": {
   "codemirror_mode": {
    "name": "ipython",
    "version": 3
   },
   "file_extension": ".py",
   "mimetype": "text/x-python",
   "name": "python",
   "nbconvert_exporter": "python",
   "pygments_lexer": "ipython3",
   "version": "3.12.10"
  }
 },
 "nbformat": 4,
 "nbformat_minor": 5
}

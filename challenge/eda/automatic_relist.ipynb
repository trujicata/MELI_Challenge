{
 "cells": [
  {
   "cell_type": "markdown",
   "id": "4d979e40",
   "metadata": {},
   "source": [
    "# EDA on the `MLA_100k_checked_v3` dataset"
   ]
  },
  {
   "cell_type": "code",
   "execution_count": null,
   "id": "987a1925",
   "metadata": {},
   "outputs": [],
   "source": [
    "import pandas as pd\n",
    "from utils import *"
   ]
  },
  {
   "cell_type": "markdown",
   "id": "d31ec365",
   "metadata": {},
   "source": [
    "## Load the dataset"
   ]
  },
  {
   "cell_type": "code",
   "execution_count": 2,
   "id": "acc0e8fd",
   "metadata": {},
   "outputs": [
    {
     "data": {
      "text/html": [
       "<div>\n",
       "<style scoped>\n",
       "    .dataframe tbody tr th:only-of-type {\n",
       "        vertical-align: middle;\n",
       "    }\n",
       "\n",
       "    .dataframe tbody tr th {\n",
       "        vertical-align: top;\n",
       "    }\n",
       "\n",
       "    .dataframe thead th {\n",
       "        text-align: right;\n",
       "    }\n",
       "</style>\n",
       "<table border=\"1\" class=\"dataframe\">\n",
       "  <thead>\n",
       "    <tr style=\"text-align: right;\">\n",
       "      <th></th>\n",
       "      <th>seller_address</th>\n",
       "      <th>warranty</th>\n",
       "      <th>base_price</th>\n",
       "      <th>shipping</th>\n",
       "      <th>non_mercado_pago_payment_methods</th>\n",
       "      <th>seller_id</th>\n",
       "      <th>variations</th>\n",
       "      <th>listing_type_id</th>\n",
       "      <th>price</th>\n",
       "      <th>attributes</th>\n",
       "      <th>...</th>\n",
       "      <th>date_created</th>\n",
       "      <th>secure_thumbnail</th>\n",
       "      <th>stop_time</th>\n",
       "      <th>status</th>\n",
       "      <th>video_id</th>\n",
       "      <th>initial_quantity</th>\n",
       "      <th>start_time</th>\n",
       "      <th>sold_quantity</th>\n",
       "      <th>available_quantity</th>\n",
       "      <th>used</th>\n",
       "    </tr>\n",
       "  </thead>\n",
       "  <tbody>\n",
       "    <tr>\n",
       "      <th>0</th>\n",
       "      <td>{'country': {'name': 'Argentina', 'id': 'AR'},...</td>\n",
       "      <td>NaN</td>\n",
       "      <td>80.0</td>\n",
       "      <td>{'local_pick_up': True, 'methods': [], 'tags':...</td>\n",
       "      <td>[{'description': 'Transferencia bancaria', 'id...</td>\n",
       "      <td>8208882349</td>\n",
       "      <td>[]</td>\n",
       "      <td>bronze</td>\n",
       "      <td>80.0</td>\n",
       "      <td>[]</td>\n",
       "      <td>...</td>\n",
       "      <td>2015-09-05T20:42:53.000Z</td>\n",
       "      <td>https://a248.e.akamai.net/mla-s1-p.mlstatic.co...</td>\n",
       "      <td>1446669773000</td>\n",
       "      <td>active</td>\n",
       "      <td>NaN</td>\n",
       "      <td>1</td>\n",
       "      <td>1441485773000</td>\n",
       "      <td>0</td>\n",
       "      <td>1</td>\n",
       "      <td>False</td>\n",
       "    </tr>\n",
       "    <tr>\n",
       "      <th>1</th>\n",
       "      <td>{'country': {'name': 'Argentina', 'id': 'AR'},...</td>\n",
       "      <td>NUESTRA REPUTACION</td>\n",
       "      <td>2650.0</td>\n",
       "      <td>{'local_pick_up': True, 'methods': [], 'tags':...</td>\n",
       "      <td>[{'description': 'Transferencia bancaria', 'id...</td>\n",
       "      <td>8141699488</td>\n",
       "      <td>[]</td>\n",
       "      <td>silver</td>\n",
       "      <td>2650.0</td>\n",
       "      <td>[]</td>\n",
       "      <td>...</td>\n",
       "      <td>2015-09-26T18:08:30.000Z</td>\n",
       "      <td>https://a248.e.akamai.net/mla-s1-p.mlstatic.co...</td>\n",
       "      <td>1448474910000</td>\n",
       "      <td>active</td>\n",
       "      <td>NaN</td>\n",
       "      <td>1</td>\n",
       "      <td>1443290910000</td>\n",
       "      <td>0</td>\n",
       "      <td>1</td>\n",
       "      <td>True</td>\n",
       "    </tr>\n",
       "    <tr>\n",
       "      <th>2</th>\n",
       "      <td>{'country': {'name': 'Argentina', 'id': 'AR'},...</td>\n",
       "      <td>NaN</td>\n",
       "      <td>60.0</td>\n",
       "      <td>{'local_pick_up': True, 'methods': [], 'tags':...</td>\n",
       "      <td>[{'description': 'Transferencia bancaria', 'id...</td>\n",
       "      <td>8386096505</td>\n",
       "      <td>[]</td>\n",
       "      <td>bronze</td>\n",
       "      <td>60.0</td>\n",
       "      <td>[]</td>\n",
       "      <td>...</td>\n",
       "      <td>2015-09-09T23:57:07.000Z</td>\n",
       "      <td>https://a248.e.akamai.net/mla-s1-p.mlstatic.co...</td>\n",
       "      <td>1447027027000</td>\n",
       "      <td>active</td>\n",
       "      <td>NaN</td>\n",
       "      <td>1</td>\n",
       "      <td>1441843027000</td>\n",
       "      <td>0</td>\n",
       "      <td>1</td>\n",
       "      <td>True</td>\n",
       "    </tr>\n",
       "    <tr>\n",
       "      <th>3</th>\n",
       "      <td>{'country': {'name': 'Argentina', 'id': 'AR'},...</td>\n",
       "      <td>NaN</td>\n",
       "      <td>580.0</td>\n",
       "      <td>{'local_pick_up': True, 'methods': [], 'tags':...</td>\n",
       "      <td>[{'description': 'Transferencia bancaria', 'id...</td>\n",
       "      <td>5377752182</td>\n",
       "      <td>[]</td>\n",
       "      <td>silver</td>\n",
       "      <td>580.0</td>\n",
       "      <td>[]</td>\n",
       "      <td>...</td>\n",
       "      <td>2015-09-28T18:47:56.000Z</td>\n",
       "      <td>https://a248.e.akamai.net/mla-s2-p.mlstatic.co...</td>\n",
       "      <td>1449191596000</td>\n",
       "      <td>active</td>\n",
       "      <td>NaN</td>\n",
       "      <td>1</td>\n",
       "      <td>1443466076000</td>\n",
       "      <td>0</td>\n",
       "      <td>1</td>\n",
       "      <td>False</td>\n",
       "    </tr>\n",
       "    <tr>\n",
       "      <th>4</th>\n",
       "      <td>{'country': {'name': 'Argentina', 'id': 'AR'},...</td>\n",
       "      <td>MI REPUTACION.</td>\n",
       "      <td>30.0</td>\n",
       "      <td>{'local_pick_up': True, 'methods': [], 'tags':...</td>\n",
       "      <td>[{'description': 'Transferencia bancaria', 'id...</td>\n",
       "      <td>2938071313</td>\n",
       "      <td>[]</td>\n",
       "      <td>bronze</td>\n",
       "      <td>30.0</td>\n",
       "      <td>[]</td>\n",
       "      <td>...</td>\n",
       "      <td>2015-08-24T22:07:20.000Z</td>\n",
       "      <td>https://a248.e.akamai.net/mla-s2-p.mlstatic.co...</td>\n",
       "      <td>1445638040000</td>\n",
       "      <td>active</td>\n",
       "      <td>NaN</td>\n",
       "      <td>1</td>\n",
       "      <td>1440454040000</td>\n",
       "      <td>0</td>\n",
       "      <td>1</td>\n",
       "      <td>True</td>\n",
       "    </tr>\n",
       "  </tbody>\n",
       "</table>\n",
       "<p>5 rows × 31 columns</p>\n",
       "</div>"
      ],
      "text/plain": [
       "                                      seller_address            warranty  \\\n",
       "0  {'country': {'name': 'Argentina', 'id': 'AR'},...                 NaN   \n",
       "1  {'country': {'name': 'Argentina', 'id': 'AR'},...  NUESTRA REPUTACION   \n",
       "2  {'country': {'name': 'Argentina', 'id': 'AR'},...                 NaN   \n",
       "3  {'country': {'name': 'Argentina', 'id': 'AR'},...                 NaN   \n",
       "4  {'country': {'name': 'Argentina', 'id': 'AR'},...      MI REPUTACION.   \n",
       "\n",
       "   base_price                                           shipping  \\\n",
       "0        80.0  {'local_pick_up': True, 'methods': [], 'tags':...   \n",
       "1      2650.0  {'local_pick_up': True, 'methods': [], 'tags':...   \n",
       "2        60.0  {'local_pick_up': True, 'methods': [], 'tags':...   \n",
       "3       580.0  {'local_pick_up': True, 'methods': [], 'tags':...   \n",
       "4        30.0  {'local_pick_up': True, 'methods': [], 'tags':...   \n",
       "\n",
       "                    non_mercado_pago_payment_methods   seller_id variations  \\\n",
       "0  [{'description': 'Transferencia bancaria', 'id...  8208882349         []   \n",
       "1  [{'description': 'Transferencia bancaria', 'id...  8141699488         []   \n",
       "2  [{'description': 'Transferencia bancaria', 'id...  8386096505         []   \n",
       "3  [{'description': 'Transferencia bancaria', 'id...  5377752182         []   \n",
       "4  [{'description': 'Transferencia bancaria', 'id...  2938071313         []   \n",
       "\n",
       "  listing_type_id   price attributes  ...              date_created  \\\n",
       "0          bronze    80.0         []  ...  2015-09-05T20:42:53.000Z   \n",
       "1          silver  2650.0         []  ...  2015-09-26T18:08:30.000Z   \n",
       "2          bronze    60.0         []  ...  2015-09-09T23:57:07.000Z   \n",
       "3          silver   580.0         []  ...  2015-09-28T18:47:56.000Z   \n",
       "4          bronze    30.0         []  ...  2015-08-24T22:07:20.000Z   \n",
       "\n",
       "                                    secure_thumbnail      stop_time  status  \\\n",
       "0  https://a248.e.akamai.net/mla-s1-p.mlstatic.co...  1446669773000  active   \n",
       "1  https://a248.e.akamai.net/mla-s1-p.mlstatic.co...  1448474910000  active   \n",
       "2  https://a248.e.akamai.net/mla-s1-p.mlstatic.co...  1447027027000  active   \n",
       "3  https://a248.e.akamai.net/mla-s2-p.mlstatic.co...  1449191596000  active   \n",
       "4  https://a248.e.akamai.net/mla-s2-p.mlstatic.co...  1445638040000  active   \n",
       "\n",
       "  video_id initial_quantity     start_time  sold_quantity available_quantity  \\\n",
       "0      NaN                1  1441485773000              0                  1   \n",
       "1      NaN                1  1443290910000              0                  1   \n",
       "2      NaN                1  1441843027000              0                  1   \n",
       "3      NaN                1  1443466076000              0                  1   \n",
       "4      NaN                1  1440454040000              0                  1   \n",
       "\n",
       "    used  \n",
       "0  False  \n",
       "1   True  \n",
       "2   True  \n",
       "3  False  \n",
       "4   True  \n",
       "\n",
       "[5 rows x 31 columns]"
      ]
     },
     "execution_count": 2,
     "metadata": {},
     "output_type": "execute_result"
    }
   ],
   "source": [
    "X_dataframe = pd.read_csv(\"../data/X_dataframe.csv\")\n",
    "X_dataframe.head()"
   ]
  },
  {
   "cell_type": "markdown",
   "id": "cb687f12",
   "metadata": {},
   "source": [
    "### Automatic relist"
   ]
  },
  {
   "cell_type": "code",
   "execution_count": 3,
   "id": "7971cb18",
   "metadata": {},
   "outputs": [
    {
     "data": {
      "text/plain": [
       "count     90000\n",
       "unique        2\n",
       "top       False\n",
       "freq      85773\n",
       "Name: automatic_relist, dtype: object"
      ]
     },
     "execution_count": 3,
     "metadata": {},
     "output_type": "execute_result"
    }
   ],
   "source": [
    "X_dataframe[\"automatic_relist\"].describe()"
   ]
  },
  {
   "cell_type": "code",
   "execution_count": 4,
   "id": "e1f5d60c",
   "metadata": {},
   "outputs": [
    {
     "data": {
      "text/plain": [
       "automatic_relist\n",
       "False    85773\n",
       "True      4227\n",
       "Name: count, dtype: int64"
      ]
     },
     "execution_count": 4,
     "metadata": {},
     "output_type": "execute_result"
    }
   ],
   "source": [
    "X_dataframe[\"automatic_relist\"].value_counts()"
   ]
  },
  {
   "cell_type": "code",
   "execution_count": 5,
   "id": "48031a95",
   "metadata": {},
   "outputs": [
    {
     "data": {
      "image/png": "[encoded data removed]",
      "text/plain": [
       "<Figure size 640x480 with 1 Axes>"
      ]
     },
     "metadata": {},
     "output_type": "display_data"
    }
   ],
   "source": [
    "res = column_analysis(\"automatic_relist\", X_dataframe)\n",
    "plot_column_analysis(res)"
   ]
  },
  {
   "cell_type": "markdown",
   "id": "ece80a6a",
   "metadata": {},
   "source": [
    "Automatic relist==True is a good indicator of new item"
   ]
  }
 ],
 "metadata": {
  "kernelspec": {
   "display_name": ".venv",
   "language": "python",
   "name": "python3"
  },
  "language_info": {
   "codemirror_mode": {
    "name": "ipython",
    "version": 3
   },
   "file_extension": ".py",
   "mimetype": "text/x-python",
   "name": "python",
   "nbconvert_exporter": "python",
   "pygments_lexer": "ipython3",
   "version": "3.12.10"
  }
 },
 "nbformat": 4,
 "nbformat_minor": 5
}

{
 "cells": [
  {
   "cell_type": "markdown",
   "id": "4d979e40",
   "metadata": {},
   "source": [
    "# EDA on the `MLA_100k_checked_v3` dataset"
   ]
  },
  {
   "cell_type": "code",
   "execution_count": 1,
   "id": "987a1925",
   "metadata": {},
   "outputs": [],
   "source": [
    "import matplotlib.pyplot as plt\n",
    "import pandas as pd\n",
    "import seaborn as sns\n",
    "from utils import *"
   ]
  },
  {
   "cell_type": "markdown",
   "id": "d31ec365",
   "metadata": {},
   "source": [
    "## Load the dataset"
   ]
  },
  {
   "cell_type": "code",
   "execution_count": 2,
   "id": "acc0e8fd",
   "metadata": {},
   "outputs": [
    {
     "data": {
      "text/html": [
       "<div>\n",
       "<style scoped>\n",
       "    .dataframe tbody tr th:only-of-type {\n",
       "        vertical-align: middle;\n",
       "    }\n",
       "\n",
       "    .dataframe tbody tr th {\n",
       "        vertical-align: top;\n",
       "    }\n",
       "\n",
       "    .dataframe thead th {\n",
       "        text-align: right;\n",
       "    }\n",
       "</style>\n",
       "<table border=\"1\" class=\"dataframe\">\n",
       "  <thead>\n",
       "    <tr style=\"text-align: right;\">\n",
       "      <th></th>\n",
       "      <th>seller_address</th>\n",
       "      <th>warranty</th>\n",
       "      <th>base_price</th>\n",
       "      <th>shipping</th>\n",
       "      <th>non_mercado_pago_payment_methods</th>\n",
       "      <th>seller_id</th>\n",
       "      <th>variations</th>\n",
       "      <th>listing_type_id</th>\n",
       "      <th>price</th>\n",
       "      <th>attributes</th>\n",
       "      <th>...</th>\n",
       "      <th>date_created</th>\n",
       "      <th>secure_thumbnail</th>\n",
       "      <th>stop_time</th>\n",
       "      <th>status</th>\n",
       "      <th>video_id</th>\n",
       "      <th>initial_quantity</th>\n",
       "      <th>start_time</th>\n",
       "      <th>sold_quantity</th>\n",
       "      <th>available_quantity</th>\n",
       "      <th>used</th>\n",
       "    </tr>\n",
       "  </thead>\n",
       "  <tbody>\n",
       "    <tr>\n",
       "      <th>0</th>\n",
       "      <td>{'country': {'name': 'Argentina', 'id': 'AR'},...</td>\n",
       "      <td>NaN</td>\n",
       "      <td>80.0</td>\n",
       "      <td>{'local_pick_up': True, 'methods': [], 'tags':...</td>\n",
       "      <td>[{'description': 'Transferencia bancaria', 'id...</td>\n",
       "      <td>8208882349</td>\n",
       "      <td>[]</td>\n",
       "      <td>bronze</td>\n",
       "      <td>80.0</td>\n",
       "      <td>[]</td>\n",
       "      <td>...</td>\n",
       "      <td>2015-09-05T20:42:53.000Z</td>\n",
       "      <td>https://a248.e.akamai.net/mla-s1-p.mlstatic.co...</td>\n",
       "      <td>1446669773000</td>\n",
       "      <td>active</td>\n",
       "      <td>NaN</td>\n",
       "      <td>1</td>\n",
       "      <td>1441485773000</td>\n",
       "      <td>0</td>\n",
       "      <td>1</td>\n",
       "      <td>False</td>\n",
       "    </tr>\n",
       "    <tr>\n",
       "      <th>1</th>\n",
       "      <td>{'country': {'name': 'Argentina', 'id': 'AR'},...</td>\n",
       "      <td>NUESTRA REPUTACION</td>\n",
       "      <td>2650.0</td>\n",
       "      <td>{'local_pick_up': True, 'methods': [], 'tags':...</td>\n",
       "      <td>[{'description': 'Transferencia bancaria', 'id...</td>\n",
       "      <td>8141699488</td>\n",
       "      <td>[]</td>\n",
       "      <td>silver</td>\n",
       "      <td>2650.0</td>\n",
       "      <td>[]</td>\n",
       "      <td>...</td>\n",
       "      <td>2015-09-26T18:08:30.000Z</td>\n",
       "      <td>https://a248.e.akamai.net/mla-s1-p.mlstatic.co...</td>\n",
       "      <td>1448474910000</td>\n",
       "      <td>active</td>\n",
       "      <td>NaN</td>\n",
       "      <td>1</td>\n",
       "      <td>1443290910000</td>\n",
       "      <td>0</td>\n",
       "      <td>1</td>\n",
       "      <td>True</td>\n",
       "    </tr>\n",
       "    <tr>\n",
       "      <th>2</th>\n",
       "      <td>{'country': {'name': 'Argentina', 'id': 'AR'},...</td>\n",
       "      <td>NaN</td>\n",
       "      <td>60.0</td>\n",
       "      <td>{'local_pick_up': True, 'methods': [], 'tags':...</td>\n",
       "      <td>[{'description': 'Transferencia bancaria', 'id...</td>\n",
       "      <td>8386096505</td>\n",
       "      <td>[]</td>\n",
       "      <td>bronze</td>\n",
       "      <td>60.0</td>\n",
       "      <td>[]</td>\n",
       "      <td>...</td>\n",
       "      <td>2015-09-09T23:57:07.000Z</td>\n",
       "      <td>https://a248.e.akamai.net/mla-s1-p.mlstatic.co...</td>\n",
       "      <td>1447027027000</td>\n",
       "      <td>active</td>\n",
       "      <td>NaN</td>\n",
       "      <td>1</td>\n",
       "      <td>1441843027000</td>\n",
       "      <td>0</td>\n",
       "      <td>1</td>\n",
       "      <td>True</td>\n",
       "    </tr>\n",
       "    <tr>\n",
       "      <th>3</th>\n",
       "      <td>{'country': {'name': 'Argentina', 'id': 'AR'},...</td>\n",
       "      <td>NaN</td>\n",
       "      <td>580.0</td>\n",
       "      <td>{'local_pick_up': True, 'methods': [], 'tags':...</td>\n",
       "      <td>[{'description': 'Transferencia bancaria', 'id...</td>\n",
       "      <td>5377752182</td>\n",
       "      <td>[]</td>\n",
       "      <td>silver</td>\n",
       "      <td>580.0</td>\n",
       "      <td>[]</td>\n",
       "      <td>...</td>\n",
       "      <td>2015-09-28T18:47:56.000Z</td>\n",
       "      <td>https://a248.e.akamai.net/mla-s2-p.mlstatic.co...</td>\n",
       "      <td>1449191596000</td>\n",
       "      <td>active</td>\n",
       "      <td>NaN</td>\n",
       "      <td>1</td>\n",
       "      <td>1443466076000</td>\n",
       "      <td>0</td>\n",
       "      <td>1</td>\n",
       "      <td>False</td>\n",
       "    </tr>\n",
       "    <tr>\n",
       "      <th>4</th>\n",
       "      <td>{'country': {'name': 'Argentina', 'id': 'AR'},...</td>\n",
       "      <td>MI REPUTACION.</td>\n",
       "      <td>30.0</td>\n",
       "      <td>{'local_pick_up': True, 'methods': [], 'tags':...</td>\n",
       "      <td>[{'description': 'Transferencia bancaria', 'id...</td>\n",
       "      <td>2938071313</td>\n",
       "      <td>[]</td>\n",
       "      <td>bronze</td>\n",
       "      <td>30.0</td>\n",
       "      <td>[]</td>\n",
       "      <td>...</td>\n",
       "      <td>2015-08-24T22:07:20.000Z</td>\n",
       "      <td>https://a248.e.akamai.net/mla-s2-p.mlstatic.co...</td>\n",
       "      <td>1445638040000</td>\n",
       "      <td>active</td>\n",
       "      <td>NaN</td>\n",
       "      <td>1</td>\n",
       "      <td>1440454040000</td>\n",
       "      <td>0</td>\n",
       "      <td>1</td>\n",
       "      <td>True</td>\n",
       "    </tr>\n",
       "  </tbody>\n",
       "</table>\n",
       "<p>5 rows × 31 columns</p>\n",
       "</div>"
      ],
      "text/plain": [
       "                                      seller_address            warranty  \\\n",
       "0  {'country': {'name': 'Argentina', 'id': 'AR'},...                 NaN   \n",
       "1  {'country': {'name': 'Argentina', 'id': 'AR'},...  NUESTRA REPUTACION   \n",
       "2  {'country': {'name': 'Argentina', 'id': 'AR'},...                 NaN   \n",
       "3  {'country': {'name': 'Argentina', 'id': 'AR'},...                 NaN   \n",
       "4  {'country': {'name': 'Argentina', 'id': 'AR'},...      MI REPUTACION.   \n",
       "\n",
       "   base_price                                           shipping  \\\n",
       "0        80.0  {'local_pick_up': True, 'methods': [], 'tags':...   \n",
       "1      2650.0  {'local_pick_up': True, 'methods': [], 'tags':...   \n",
       "2        60.0  {'local_pick_up': True, 'methods': [], 'tags':...   \n",
       "3       580.0  {'local_pick_up': True, 'methods': [], 'tags':...   \n",
       "4        30.0  {'local_pick_up': True, 'methods': [], 'tags':...   \n",
       "\n",
       "                    non_mercado_pago_payment_methods   seller_id variations  \\\n",
       "0  [{'description': 'Transferencia bancaria', 'id...  8208882349         []   \n",
       "1  [{'description': 'Transferencia bancaria', 'id...  8141699488         []   \n",
       "2  [{'description': 'Transferencia bancaria', 'id...  8386096505         []   \n",
       "3  [{'description': 'Transferencia bancaria', 'id...  5377752182         []   \n",
       "4  [{'description': 'Transferencia bancaria', 'id...  2938071313         []   \n",
       "\n",
       "  listing_type_id   price attributes  ...              date_created  \\\n",
       "0          bronze    80.0         []  ...  2015-09-05T20:42:53.000Z   \n",
       "1          silver  2650.0         []  ...  2015-09-26T18:08:30.000Z   \n",
       "2          bronze    60.0         []  ...  2015-09-09T23:57:07.000Z   \n",
       "3          silver   580.0         []  ...  2015-09-28T18:47:56.000Z   \n",
       "4          bronze    30.0         []  ...  2015-08-24T22:07:20.000Z   \n",
       "\n",
       "                                    secure_thumbnail      stop_time  status  \\\n",
       "0  https://a248.e.akamai.net/mla-s1-p.mlstatic.co...  1446669773000  active   \n",
       "1  https://a248.e.akamai.net/mla-s1-p.mlstatic.co...  1448474910000  active   \n",
       "2  https://a248.e.akamai.net/mla-s1-p.mlstatic.co...  1447027027000  active   \n",
       "3  https://a248.e.akamai.net/mla-s2-p.mlstatic.co...  1449191596000  active   \n",
       "4  https://a248.e.akamai.net/mla-s2-p.mlstatic.co...  1445638040000  active   \n",
       "\n",
       "  video_id initial_quantity     start_time  sold_quantity available_quantity  \\\n",
       "0      NaN                1  1441485773000              0                  1   \n",
       "1      NaN                1  1443290910000              0                  1   \n",
       "2      NaN                1  1441843027000              0                  1   \n",
       "3      NaN                1  1443466076000              0                  1   \n",
       "4      NaN                1  1440454040000              0                  1   \n",
       "\n",
       "    used  \n",
       "0  False  \n",
       "1   True  \n",
       "2   True  \n",
       "3  False  \n",
       "4   True  \n",
       "\n",
       "[5 rows x 31 columns]"
      ]
     },
     "execution_count": 2,
     "metadata": {},
     "output_type": "execute_result"
    }
   ],
   "source": [
    "X_dataframe = pd.read_csv(\"../data/X_dataframe.csv\")\n",
    "X_dataframe.head()"
   ]
  },
  {
   "cell_type": "markdown",
   "id": "02bfca9c",
   "metadata": {},
   "source": [
    "# Non-mercadopago Payment Methods"
   ]
  },
  {
   "cell_type": "code",
   "execution_count": 3,
   "id": "a70d400e",
   "metadata": {},
   "outputs": [
    {
     "data": {
      "text/plain": [
       "count     90000\n",
       "unique      174\n",
       "top          []\n",
       "freq      27531\n",
       "Name: non_mercado_pago_payment_methods, dtype: object"
      ]
     },
     "execution_count": 3,
     "metadata": {},
     "output_type": "execute_result"
    }
   ],
   "source": [
    "X_dataframe[\"non_mercado_pago_payment_methods\"].describe()"
   ]
  },
  {
   "cell_type": "code",
   "execution_count": 4,
   "id": "6c068e9a",
   "metadata": {},
   "outputs": [
    {
     "data": {
      "text/plain": [
       "non_mercado_pago_payment_methods\n",
       "[]                                                                                                                                                                                                                                                                                                                                                                                                                                                                                                                                                                                                                                                                                                                        27531\n",
       "[{'description': 'Transferencia bancaria', 'id': 'MLATB', 'type': 'G'}, {'description': 'Efectivo', 'id': 'MLAMO', 'type': 'G'}]                                                                                                                                                                                                                                                                                                                                                                                                                                                                                                                                                                                          20303\n",
       "[{'description': 'Transferencia bancaria', 'id': 'MLATB', 'type': 'G'}, {'description': 'Tarjeta de crédito', 'id': 'MLAOT', 'type': 'N'}, {'description': 'Efectivo', 'id': 'MLAMO', 'type': 'G'}]                                                                                                                                                                                                                                                                                                                                                                                                                                                                                                                       18678\n",
       "[{'description': 'Efectivo', 'id': 'MLAMO', 'type': 'G'}]                                                                                                                                                                                                                                                                                                                                                                                                                                                                                                                                                                                                                                                                 12915\n",
       "[{'description': 'Transferencia bancaria', 'id': 'MLATB', 'type': 'G'}, {'description': 'Acordar con el comprador', 'id': 'MLAWC', 'type': 'G'}, {'description': 'Efectivo', 'id': 'MLAMO', 'type': 'G'}]                                                                                                                                                                                                                                                                                                                                                                                                                                                                                                                  2328\n",
       "                                                                                                                                                                                                                                                                                                                                                                                                                                                                                                                                                                                                                                                                                                                          ...  \n",
       "[{'description': 'Mastercard Maestro', 'id': 'MLAMS', 'type': 'D'}, {'description': 'Cheque certificado', 'id': 'MLABC', 'type': 'G'}, {'description': 'Visa Electron', 'id': 'MLAVE', 'type': 'D'}, {'description': 'Transferencia bancaria', 'id': 'MLATB', 'type': 'G'}, {'description': 'Visa', 'id': 'MLAVS', 'type': 'C'}, {'description': 'Diners', 'id': 'MLADC', 'type': 'C'}, {'description': 'Acordar con el comprador', 'id': 'MLAWC', 'type': 'G'}, {'description': 'Giro postal', 'id': 'MLAWT', 'type': 'G'}, {'description': 'Efectivo', 'id': 'MLAMO', 'type': 'G'}, {'description': 'American Express', 'id': 'MLAAM', 'type': 'C'}]                                                                        1\n",
       "[{'description': 'MasterCard', 'id': 'MLAMC', 'type': 'C'}, {'description': 'Mastercard Maestro', 'id': 'MLAMS', 'type': 'D'}, {'description': 'Visa Electron', 'id': 'MLAVE', 'type': 'D'}, {'description': 'Cheque certificado', 'id': 'MLABC', 'type': 'G'}, {'description': 'Contra reembolso', 'id': 'MLACD', 'type': 'G'}, {'description': 'Transferencia bancaria', 'id': 'MLATB', 'type': 'G'}, {'description': 'Visa', 'id': 'MLAVS', 'type': 'C'}, {'description': 'Diners', 'id': 'MLADC', 'type': 'C'}, {'description': 'Acordar con el comprador', 'id': 'MLAWC', 'type': 'G'}, {'description': 'Efectivo', 'id': 'MLAMO', 'type': 'G'}, {'description': 'American Express', 'id': 'MLAAM', 'type': 'C'}]        1\n",
       "[{'description': 'Visa', 'id': 'MLAVS', 'type': 'C'}]                                                                                                                                                                                                                                                                                                                                                                                                                                                                                                                                                                                                                                                                         1\n",
       "[{'description': 'MasterCard', 'id': 'MLAMC', 'type': 'C'}, {'description': 'Cheque certificado', 'id': 'MLABC', 'type': 'G'}, {'description': 'Transferencia bancaria', 'id': 'MLATB', 'type': 'G'}, {'description': 'Visa', 'id': 'MLAVS', 'type': 'C'}, {'description': 'Giro postal', 'id': 'MLAWT', 'type': 'G'}, {'description': 'Acordar con el comprador', 'id': 'MLAWC', 'type': 'G'}, {'description': 'Efectivo', 'id': 'MLAMO', 'type': 'G'}, {'description': 'American Express', 'id': 'MLAAM', 'type': 'C'}]                                                                                                                                                                                                     1\n",
       "[{'description': 'MasterCard', 'id': 'MLAMC', 'type': 'C'}, {'description': 'Transferencia bancaria', 'id': 'MLATB', 'type': 'G'}, {'description': 'Visa', 'id': 'MLAVS', 'type': 'C'}, {'description': 'Acordar con el comprador', 'id': 'MLAWC', 'type': 'G'}, {'description': 'Giro postal', 'id': 'MLAWT', 'type': 'G'}, {'description': 'Efectivo', 'id': 'MLAMO', 'type': 'G'}, {'description': 'American Express', 'id': 'MLAAM', 'type': 'C'}]                                                                                                                                                                                                                                                                        1\n",
       "Name: count, Length: 174, dtype: int64"
      ]
     },
     "execution_count": 4,
     "metadata": {},
     "output_type": "execute_result"
    }
   ],
   "source": [
    "X_dataframe[\"non_mercado_pago_payment_methods\"].value_counts()"
   ]
  },
  {
   "cell_type": "code",
   "execution_count": 5,
   "id": "e2d949c2",
   "metadata": {},
   "outputs": [
    {
     "data": {
      "text/plain": [
       "np.int64(0)"
      ]
     },
     "execution_count": 5,
     "metadata": {},
     "output_type": "execute_result"
    }
   ],
   "source": [
    "X_dataframe[\"non_mercado_pago_payment_methods\"].isna().sum()\n"
   ]
  },
  {
   "cell_type": "code",
   "execution_count": 9,
   "id": "be9e87ed",
   "metadata": {},
   "outputs": [],
   "source": [
    "import ast\n",
    "\n",
    "X_dataframe[\"non_mercado_pago_payment_methods\"] = X_dataframe[\n",
    "    \"non_mercado_pago_payment_methods\"\n",
    "].apply(ast.literal_eval)"
   ]
  },
  {
   "cell_type": "code",
   "execution_count": 10,
   "id": "1a523096",
   "metadata": {},
   "outputs": [
    {
     "data": {
      "text/plain": [
       "['Giro postal',\n",
       " 'Diners',\n",
       " 'Visa',\n",
       " 'Contra reembolso',\n",
       " 'Tarjeta de crédito',\n",
       " 'American Express',\n",
       " 'MercadoPago',\n",
       " 'Visa Electron',\n",
       " 'Transferencia bancaria',\n",
       " 'Mastercard Maestro',\n",
       " 'MasterCard',\n",
       " 'Acordar con el comprador',\n",
       " 'Cheque certificado',\n",
       " 'Efectivo']"
      ]
     },
     "execution_count": 10,
     "metadata": {},
     "output_type": "execute_result"
    }
   ],
   "source": [
    "all_methods = [\n",
    "    m[\"description\"]\n",
    "    for methods in X_dataframe[\"non_mercado_pago_payment_methods\"]\n",
    "    if methods\n",
    "    for m in methods\n",
    "]\n",
    "all_methods = list(set(all_methods))\n",
    "all_methods"
   ]
  },
  {
   "cell_type": "markdown",
   "id": "e7e154b9",
   "metadata": {},
   "source": [
    "#### Tarjetas"
   ]
  },
  {
   "cell_type": "code",
   "execution_count": 11,
   "id": "88f436c5",
   "metadata": {},
   "outputs": [
    {
     "data": {
      "text/plain": [
       "tarjeta\n",
       "False    67240\n",
       "True     22760\n",
       "Name: count, dtype: int64"
      ]
     },
     "execution_count": 11,
     "metadata": {},
     "output_type": "execute_result"
    }
   ],
   "source": [
    "tarjetas = [\n",
    "    \"Tarjeta de crédito\",\n",
    "    \"Visa Electron\",\n",
    "    \"Mastercard Maestro\",\n",
    "    \"American Express\",\n",
    "    \"Mastercard\",\n",
    "    \"Diners\",\n",
    "    \"Visa\",\n",
    "]\n",
    "\n",
    "X_dataframe[\"tarjeta\"] = X_dataframe[\"non_mercado_pago_payment_methods\"].apply(lambda x: any(m[\"description\"] in tarjetas for m in x))\n",
    "X_dataframe[\"tarjeta\"].value_counts()"
   ]
  },
  {
   "cell_type": "code",
   "execution_count": 12,
   "id": "9d155983",
   "metadata": {},
   "outputs": [
    {
     "data": {
      "text/html": [
       "<div>\n",
       "<style scoped>\n",
       "    .dataframe tbody tr th:only-of-type {\n",
       "        vertical-align: middle;\n",
       "    }\n",
       "\n",
       "    .dataframe tbody tr th {\n",
       "        vertical-align: top;\n",
       "    }\n",
       "\n",
       "    .dataframe thead th {\n",
       "        text-align: right;\n",
       "    }\n",
       "</style>\n",
       "<table border=\"1\" class=\"dataframe\">\n",
       "  <thead>\n",
       "    <tr style=\"text-align: right;\">\n",
       "      <th></th>\n",
       "      <th>n</th>\n",
       "      <th>prop_used</th>\n",
       "      <th>ci_lower</th>\n",
       "      <th>ci_upper</th>\n",
       "    </tr>\n",
       "    <tr>\n",
       "      <th>tarjeta</th>\n",
       "      <th></th>\n",
       "      <th></th>\n",
       "      <th></th>\n",
       "      <th></th>\n",
       "    </tr>\n",
       "  </thead>\n",
       "  <tbody>\n",
       "    <tr>\n",
       "      <th>False</th>\n",
       "      <td>67240</td>\n",
       "      <td>0.519795</td>\n",
       "      <td>0.516017</td>\n",
       "      <td>0.523570</td>\n",
       "    </tr>\n",
       "    <tr>\n",
       "      <th>True</th>\n",
       "      <td>22760</td>\n",
       "      <td>0.294244</td>\n",
       "      <td>0.288359</td>\n",
       "      <td>0.300199</td>\n",
       "    </tr>\n",
       "  </tbody>\n",
       "</table>\n",
       "</div>"
      ],
      "text/plain": [
       "             n  prop_used  ci_lower  ci_upper\n",
       "tarjeta                                      \n",
       "False    67240   0.519795  0.516017  0.523570\n",
       "True     22760   0.294244  0.288359  0.300199"
      ]
     },
     "metadata": {},
     "output_type": "display_data"
    }
   ],
   "source": [
    "res = column_analysis(\"tarjeta\", X_dataframe)\n",
    "display(res)"
   ]
  },
  {
   "cell_type": "code",
   "execution_count": 13,
   "id": "cadf18a8",
   "metadata": {},
   "outputs": [
    {
     "data": {
      "image/png": "[encoded data removed]",
      "text/plain": [
       "<Figure size 640x480 with 1 Axes>"
      ]
     },
     "metadata": {},
     "output_type": "display_data"
    }
   ],
   "source": [
    "plot_column_analysis(res)"
   ]
  },
  {
   "cell_type": "markdown",
   "id": "2ca2b989",
   "metadata": {},
   "source": [
    "There's a difference in distribution depending if it accepts cards or not"
   ]
  },
  {
   "cell_type": "markdown",
   "id": "fabe122d",
   "metadata": {},
   "source": [
    "#### Efectivo"
   ]
  },
  {
   "cell_type": "code",
   "execution_count": 14,
   "id": "fb98fd1c",
   "metadata": {},
   "outputs": [
    {
     "data": {
      "text/plain": [
       "efectivo\n",
       "True     60350\n",
       "False    29650\n",
       "Name: count, dtype: int64"
      ]
     },
     "execution_count": 14,
     "metadata": {},
     "output_type": "execute_result"
    }
   ],
   "source": [
    "X_dataframe[\"efectivo\"]=X_dataframe[\"non_mercado_pago_payment_methods\"].apply(lambda x: any(m[\"description\"] == \"Efectivo\" for m in x))\n",
    "X_dataframe[\"efectivo\"].value_counts()"
   ]
  },
  {
   "cell_type": "code",
   "execution_count": 15,
   "id": "369a3793",
   "metadata": {},
   "outputs": [
    {
     "data": {
      "text/html": [
       "<div>\n",
       "<style scoped>\n",
       "    .dataframe tbody tr th:only-of-type {\n",
       "        vertical-align: middle;\n",
       "    }\n",
       "\n",
       "    .dataframe tbody tr th {\n",
       "        vertical-align: top;\n",
       "    }\n",
       "\n",
       "    .dataframe thead th {\n",
       "        text-align: right;\n",
       "    }\n",
       "</style>\n",
       "<table border=\"1\" class=\"dataframe\">\n",
       "  <thead>\n",
       "    <tr style=\"text-align: right;\">\n",
       "      <th></th>\n",
       "      <th>n</th>\n",
       "      <th>prop_used</th>\n",
       "      <th>ci_lower</th>\n",
       "      <th>ci_upper</th>\n",
       "    </tr>\n",
       "    <tr>\n",
       "      <th>efectivo</th>\n",
       "      <th></th>\n",
       "      <th></th>\n",
       "      <th></th>\n",
       "      <th></th>\n",
       "    </tr>\n",
       "  </thead>\n",
       "  <tbody>\n",
       "    <tr>\n",
       "      <th>False</th>\n",
       "      <td>29650</td>\n",
       "      <td>0.499764</td>\n",
       "      <td>0.494073</td>\n",
       "      <td>0.505455</td>\n",
       "    </tr>\n",
       "    <tr>\n",
       "      <th>True</th>\n",
       "      <td>60350</td>\n",
       "      <td>0.444573</td>\n",
       "      <td>0.440612</td>\n",
       "      <td>0.448541</td>\n",
       "    </tr>\n",
       "  </tbody>\n",
       "</table>\n",
       "</div>"
      ],
      "text/plain": [
       "              n  prop_used  ci_lower  ci_upper\n",
       "efectivo                                      \n",
       "False     29650   0.499764  0.494073  0.505455\n",
       "True      60350   0.444573  0.440612  0.448541"
      ]
     },
     "metadata": {},
     "output_type": "display_data"
    }
   ],
   "source": [
    "res = column_analysis(\"efectivo\", X_dataframe)\n",
    "display(res)"
   ]
  },
  {
   "cell_type": "code",
   "execution_count": 16,
   "id": "d66bb28a",
   "metadata": {},
   "outputs": [
    {
     "data": {
      "image/png": "[encoded data removed]",
      "text/plain": [
       "<Figure size 640x480 with 1 Axes>"
      ]
     },
     "metadata": {},
     "output_type": "display_data"
    }
   ],
   "source": [
    "plot_column_analysis(res)"
   ]
  },
  {
   "cell_type": "markdown",
   "id": "79b3c290",
   "metadata": {},
   "source": [
    "Very slight difference in distribution of \"Efectivo\" true or false"
   ]
  },
  {
   "cell_type": "markdown",
   "id": "890b57b7",
   "metadata": {},
   "source": [
    "#### Mercadopago"
   ]
  },
  {
   "cell_type": "code",
   "execution_count": 17,
   "id": "ab3c899d",
   "metadata": {},
   "outputs": [
    {
     "data": {
      "text/plain": [
       "non_mercado_pago_payment_methods\n",
       "False    89354\n",
       "True       646\n",
       "Name: count, dtype: int64"
      ]
     },
     "execution_count": 17,
     "metadata": {},
     "output_type": "execute_result"
    }
   ],
   "source": [
    "X_dataframe[\"non_mercado_pago_payment_methods\"].apply(lambda x: any(m[\"description\"] == \"MercadoPago\" for m in x)).value_counts()"
   ]
  },
  {
   "cell_type": "markdown",
   "id": "941e91a4",
   "metadata": {},
   "source": [
    "#### Contra reembolso"
   ]
  },
  {
   "cell_type": "code",
   "execution_count": 19,
   "id": "f0cb1985",
   "metadata": {},
   "outputs": [
    {
     "data": {
      "text/plain": [
       "non_mercado_pago_payment_methods\n",
       "False    89430\n",
       "True       570\n",
       "Name: count, dtype: int64"
      ]
     },
     "execution_count": 19,
     "metadata": {},
     "output_type": "execute_result"
    }
   ],
   "source": [
    "X_dataframe[\"non_mercado_pago_payment_methods\"].apply(lambda x: any(m[\"description\"] == \"Contra reembolso\" for m in x)).value_counts()"
   ]
  },
  {
   "cell_type": "markdown",
   "id": "a481fdb4",
   "metadata": {},
   "source": [
    "99% of the \"contra-reembolso\" are False. Doesn't add information by itself"
   ]
  },
  {
   "cell_type": "markdown",
   "id": "f4a00396",
   "metadata": {},
   "source": [
    "#### Cheque certificado"
   ]
  },
  {
   "cell_type": "code",
   "execution_count": 20,
   "id": "82e15592",
   "metadata": {},
   "outputs": [
    {
     "data": {
      "text/plain": [
       "non_mercado_pago_payment_methods\n",
       "False    89588\n",
       "True       412\n",
       "Name: count, dtype: int64"
      ]
     },
     "execution_count": 20,
     "metadata": {},
     "output_type": "execute_result"
    }
   ],
   "source": [
    "X_dataframe[\"non_mercado_pago_payment_methods\"].apply(lambda x: any(m[\"description\"] == \"Cheque certificado\" for m in x)).value_counts()"
   ]
  },
  {
   "cell_type": "markdown",
   "id": "50bb8f63",
   "metadata": {},
   "source": [
    "99% of the \"cheque certificado\" are False. Doesn't add information by itself"
   ]
  },
  {
   "cell_type": "markdown",
   "id": "78aba103",
   "metadata": {},
   "source": [
    "#### Giro postal"
   ]
  },
  {
   "cell_type": "code",
   "execution_count": 21,
   "id": "35e70d67",
   "metadata": {},
   "outputs": [
    {
     "data": {
      "text/plain": [
       "non_mercado_pago_payment_methods\n",
       "False    88511\n",
       "True      1489\n",
       "Name: count, dtype: int64"
      ]
     },
     "execution_count": 21,
     "metadata": {},
     "output_type": "execute_result"
    }
   ],
   "source": [
    "X_dataframe[\"non_mercado_pago_payment_methods\"].apply(lambda x: any(m[\"description\"] == \"Giro postal\" for m in x)).value_counts()"
   ]
  },
  {
   "cell_type": "markdown",
   "id": "f53fde9b",
   "metadata": {},
   "source": [
    "98% of the \"giro postal\" values are False. Doesn't add information by itself"
   ]
  },
  {
   "cell_type": "markdown",
   "id": "20210569",
   "metadata": {},
   "source": [
    "#### Transferencia Bancaria"
   ]
  },
  {
   "cell_type": "code",
   "execution_count": 22,
   "id": "6686c352",
   "metadata": {},
   "outputs": [
    {
     "data": {
      "text/plain": [
       "non_mercado_pago_payment_methods\n",
       "True     46300\n",
       "False    43700\n",
       "Name: count, dtype: int64"
      ]
     },
     "execution_count": 22,
     "metadata": {},
     "output_type": "execute_result"
    }
   ],
   "source": [
    "X_dataframe[\"non_mercado_pago_payment_methods\"].apply(lambda x: any(m[\"description\"] == \"Transferencia bancaria\" for m in x)).value_counts()"
   ]
  },
  {
   "cell_type": "code",
   "execution_count": 23,
   "id": "08d31264",
   "metadata": {},
   "outputs": [
    {
     "data": {
      "text/html": [
       "<div>\n",
       "<style scoped>\n",
       "    .dataframe tbody tr th:only-of-type {\n",
       "        vertical-align: middle;\n",
       "    }\n",
       "\n",
       "    .dataframe tbody tr th {\n",
       "        vertical-align: top;\n",
       "    }\n",
       "\n",
       "    .dataframe thead th {\n",
       "        text-align: right;\n",
       "    }\n",
       "</style>\n",
       "<table border=\"1\" class=\"dataframe\">\n",
       "  <thead>\n",
       "    <tr style=\"text-align: right;\">\n",
       "      <th></th>\n",
       "      <th>n</th>\n",
       "      <th>prop_used</th>\n",
       "      <th>ci_lower</th>\n",
       "      <th>ci_upper</th>\n",
       "    </tr>\n",
       "    <tr>\n",
       "      <th>transferencia_bancaria</th>\n",
       "      <th></th>\n",
       "      <th></th>\n",
       "      <th></th>\n",
       "      <th></th>\n",
       "    </tr>\n",
       "  </thead>\n",
       "  <tbody>\n",
       "    <tr>\n",
       "      <th>False</th>\n",
       "      <td>43700</td>\n",
       "      <td>0.542494</td>\n",
       "      <td>0.537820</td>\n",
       "      <td>0.547161</td>\n",
       "    </tr>\n",
       "    <tr>\n",
       "      <th>True</th>\n",
       "      <td>46300</td>\n",
       "      <td>0.387495</td>\n",
       "      <td>0.383066</td>\n",
       "      <td>0.391941</td>\n",
       "    </tr>\n",
       "  </tbody>\n",
       "</table>\n",
       "</div>"
      ],
      "text/plain": [
       "                            n  prop_used  ci_lower  ci_upper\n",
       "transferencia_bancaria                                      \n",
       "False                   43700   0.542494  0.537820  0.547161\n",
       "True                    46300   0.387495  0.383066  0.391941"
      ]
     },
     "metadata": {},
     "output_type": "display_data"
    }
   ],
   "source": [
    "X_dataframe[\"transferencia_bancaria\"] = X_dataframe[\"non_mercado_pago_payment_methods\"].apply(lambda x: any(m[\"description\"] == \"Transferencia bancaria\" for m in x))\n",
    "res = column_analysis(\"transferencia_bancaria\", X_dataframe)\n",
    "display(res)"
   ]
  },
  {
   "cell_type": "code",
   "execution_count": 24,
   "id": "4b40ea91",
   "metadata": {},
   "outputs": [
    {
     "data": {
      "image/png": "[encoded data removed]",
      "text/plain": [
       "<Figure size 640x480 with 1 Axes>"
      ]
     },
     "metadata": {},
     "output_type": "display_data"
    }
   ],
   "source": [
    "plot_column_analysis(res)"
   ]
  },
  {
   "cell_type": "markdown",
   "id": "e50257d2",
   "metadata": {},
   "source": [
    "Slightly different distribution conditioned on if it accepts \"transferencia bancaria\" or not"
   ]
  },
  {
   "cell_type": "markdown",
   "id": "909814ee",
   "metadata": {},
   "source": [
    "#### Acordar con el comprador"
   ]
  },
  {
   "cell_type": "code",
   "execution_count": 25,
   "id": "38e03871",
   "metadata": {},
   "outputs": [
    {
     "data": {
      "text/plain": [
       "non_mercado_pago_payment_methods\n",
       "False    82825\n",
       "True      7175\n",
       "Name: count, dtype: int64"
      ]
     },
     "execution_count": 25,
     "metadata": {},
     "output_type": "execute_result"
    }
   ],
   "source": [
    "X_dataframe[\"non_mercado_pago_payment_methods\"].apply(lambda x: any(m[\"description\"] == \"Acordar con el comprador\" for m in x)).value_counts()"
   ]
  },
  {
   "cell_type": "code",
   "execution_count": 26,
   "id": "1a94897d",
   "metadata": {},
   "outputs": [
    {
     "data": {
      "text/html": [
       "<div>\n",
       "<style scoped>\n",
       "    .dataframe tbody tr th:only-of-type {\n",
       "        vertical-align: middle;\n",
       "    }\n",
       "\n",
       "    .dataframe tbody tr th {\n",
       "        vertical-align: top;\n",
       "    }\n",
       "\n",
       "    .dataframe thead th {\n",
       "        text-align: right;\n",
       "    }\n",
       "</style>\n",
       "<table border=\"1\" class=\"dataframe\">\n",
       "  <thead>\n",
       "    <tr style=\"text-align: right;\">\n",
       "      <th></th>\n",
       "      <th>n</th>\n",
       "      <th>prop_used</th>\n",
       "      <th>ci_lower</th>\n",
       "      <th>ci_upper</th>\n",
       "    </tr>\n",
       "    <tr>\n",
       "      <th>acordar_comprador</th>\n",
       "      <th></th>\n",
       "      <th></th>\n",
       "      <th></th>\n",
       "      <th></th>\n",
       "    </tr>\n",
       "  </thead>\n",
       "  <tbody>\n",
       "    <tr>\n",
       "      <th>True</th>\n",
       "      <td>7175</td>\n",
       "      <td>0.547735</td>\n",
       "      <td>0.536196</td>\n",
       "      <td>0.559223</td>\n",
       "    </tr>\n",
       "    <tr>\n",
       "      <th>False</th>\n",
       "      <td>82825</td>\n",
       "      <td>0.455394</td>\n",
       "      <td>0.452004</td>\n",
       "      <td>0.458788</td>\n",
       "    </tr>\n",
       "  </tbody>\n",
       "</table>\n",
       "</div>"
      ],
      "text/plain": [
       "                       n  prop_used  ci_lower  ci_upper\n",
       "acordar_comprador                                      \n",
       "True                7175   0.547735  0.536196  0.559223\n",
       "False              82825   0.455394  0.452004  0.458788"
      ]
     },
     "metadata": {},
     "output_type": "display_data"
    }
   ],
   "source": [
    "X_dataframe[\"acordar_comprador\"] = X_dataframe[\"non_mercado_pago_payment_methods\"].apply(lambda x: any(m[\"description\"] == \"Acordar con el comprador\" for m in x))\n",
    "res = column_analysis(\"acordar_comprador\", X_dataframe)\n",
    "display(res)"
   ]
  },
  {
   "cell_type": "code",
   "execution_count": 27,
   "id": "0dc1ee0f",
   "metadata": {},
   "outputs": [
    {
     "data": {
      "image/png": "[encoded data removed]",
      "text/plain": [
       "<Figure size 640x480 with 1 Axes>"
      ]
     },
     "metadata": {},
     "output_type": "display_data"
    }
   ],
   "source": [
    "plot_column_analysis(res)"
   ]
  },
  {
   "cell_type": "markdown",
   "id": "522a0aef",
   "metadata": {},
   "source": [
    "Slightly different distribution conditioned on if it accepts \"transferencia bancaria\" or not"
   ]
  },
  {
   "cell_type": "markdown",
   "id": "e6ff450a",
   "metadata": {},
   "source": [
    "#### Number of payment methods"
   ]
  },
  {
   "cell_type": "code",
   "execution_count": 28,
   "id": "7f97c943",
   "metadata": {},
   "outputs": [
    {
     "data": {
      "image/png": "[encoded data removed]",
      "text/plain": [
       "<Figure size 640x480 with 1 Axes>"
      ]
     },
     "metadata": {},
     "output_type": "display_data"
    }
   ],
   "source": [
    "X_dataframe[\"num_payment_methods_non_mercadopago\"]=X_dataframe[\"non_mercado_pago_payment_methods\"].apply(lambda x: len(x))\n",
    "# Histogram of the number of payment methods\n",
    "sns.histplot(X_dataframe[\"num_payment_methods_non_mercadopago\"])\n",
    "plt.title(\"Histogram of the number of payment methods\")\n",
    "plt.yscale(\"log\")\n",
    "plt.show()\n"
   ]
  },
  {
   "cell_type": "code",
   "execution_count": 29,
   "id": "c2dd9d98",
   "metadata": {},
   "outputs": [
    {
     "data": {
      "image/png": "[encoded data removed]",
      "text/plain": [
       "<Figure size 1000x500 with 2 Axes>"
      ]
     },
     "metadata": {},
     "output_type": "display_data"
    }
   ],
   "source": [
    "fig, ax = plt.subplots(1, 2, figsize=(10, 5))\n",
    "\n",
    "sns.histplot(X_dataframe.loc[X_dataframe[\"used\"] == 1][\"num_payment_methods_non_mercadopago\"], ax=ax[0])\n",
    "ax[0].set_title(\"Histogram of the number of payment methods\\n for used items\")\n",
    "sns.histplot(X_dataframe.loc[X_dataframe[\"used\"] == 0][\"num_payment_methods_non_mercadopago\"], ax=ax[1])\n",
    "ax[1].set_title(\"Histogram of the number of payment methods\\n for new items\")\n",
    "ax[1].set_yscale(\"log\")\n",
    "ax[0].set_yscale(\"log\")\n",
    "plt.tight_layout()\n",
    "plt.show()  "
   ]
  },
  {
   "cell_type": "code",
   "execution_count": 30,
   "id": "60d936ff",
   "metadata": {},
   "outputs": [
    {
     "name": "stdout",
     "output_type": "stream",
     "text": [
      "Pearson correlation:                                           used  \\\n",
      "used                                 1.000000   \n",
      "num_payment_methods_non_mercadopago -0.114886   \n",
      "\n",
      "                                     num_payment_methods_non_mercadopago  \n",
      "used                                                           -0.114886  \n",
      "num_payment_methods_non_mercadopago                             1.000000  \n",
      "--------------------------------\n",
      "Spearman correlation:                                           used  \\\n",
      "used                                 1.000000   \n",
      "num_payment_methods_non_mercadopago -0.140328   \n",
      "\n",
      "                                     num_payment_methods_non_mercadopago  \n",
      "used                                                           -0.140328  \n",
      "num_payment_methods_non_mercadopago                             1.000000  \n",
      "--------------------------------\n",
      "Kendall correlation:                                           used  \\\n",
      "used                                 1.000000   \n",
      "num_payment_methods_non_mercadopago -0.127517   \n",
      "\n",
      "                                     num_payment_methods_non_mercadopago  \n",
      "used                                                           -0.127517  \n",
      "num_payment_methods_non_mercadopago                             1.000000  \n",
      "--------------------------------\n"
     ]
    }
   ],
   "source": [
    "pearson_corr = X_dataframe[[\"used\", \"num_payment_methods_non_mercadopago\"]].corr(method=\"pearson\")\n",
    "spearman_corr = X_dataframe[[\"used\", \"num_payment_methods_non_mercadopago\"]].corr(method=\"spearman\")\n",
    "kendall_corr = X_dataframe[[\"used\", \"num_payment_methods_non_mercadopago\"]].corr(method=\"kendall\")\n",
    "print(\"Pearson correlation: \", pearson_corr)\n",
    "print(\"--------------------------------\")\n",
    "print(\"Spearman correlation: \", spearman_corr)\n",
    "print(\"--------------------------------\")\n",
    "print(\"Kendall correlation: \", kendall_corr)\n",
    "print(\"--------------------------------\")\n"
   ]
  },
  {
   "cell_type": "code",
   "execution_count": 31,
   "id": "dcc7b628",
   "metadata": {},
   "outputs": [
    {
     "data": {
      "text/plain": [
       "num_payment_methods_non_mercadopago\n",
       "0     27531\n",
       "2     22688\n",
       "3     22030\n",
       "1     14594\n",
       "4      2282\n",
       "11      187\n",
       "5       175\n",
       "6       126\n",
       "7       100\n",
       "9        91\n",
       "8        74\n",
       "12       64\n",
       "10       58\n",
       "Name: count, dtype: int64"
      ]
     },
     "execution_count": 31,
     "metadata": {},
     "output_type": "execute_result"
    }
   ],
   "source": [
    "X_dataframe[\"num_payment_methods_non_mercadopago\"].value_counts()"
   ]
  },
  {
   "cell_type": "code",
   "execution_count": 32,
   "id": "b0a89281",
   "metadata": {},
   "outputs": [
    {
     "data": {
      "text/plain": [
       "num_payment_methods_non_mercadopago\n",
       "11    144\n",
       "6     114\n",
       "5      84\n",
       "7      55\n",
       "12     32\n",
       "8      32\n",
       "9      23\n",
       "10     14\n",
       "Name: count, dtype: int64"
      ]
     },
     "execution_count": 32,
     "metadata": {},
     "output_type": "execute_result"
    }
   ],
   "source": [
    "X_dataframe.loc[X_dataframe[\"num_payment_methods_non_mercadopago\"] > 4].loc[X_dataframe[\"used\"] == 1][\"num_payment_methods_non_mercadopago\"].value_counts()"
   ]
  },
  {
   "cell_type": "code",
   "execution_count": 33,
   "id": "ee7e3a09",
   "metadata": {},
   "outputs": [
    {
     "data": {
      "text/plain": [
       "num_payment_methods_non_mercadopago\n",
       "5     91\n",
       "9     68\n",
       "7     45\n",
       "10    44\n",
       "11    43\n",
       "8     42\n",
       "12    32\n",
       "6     12\n",
       "Name: count, dtype: int64"
      ]
     },
     "execution_count": 33,
     "metadata": {},
     "output_type": "execute_result"
    }
   ],
   "source": [
    "X_dataframe.loc[X_dataframe[\"num_payment_methods_non_mercadopago\"] > 4].loc[\n",
    "    X_dataframe[\"used\"] == 0\n",
    "][\"num_payment_methods_non_mercadopago\"].value_counts()"
   ]
  },
  {
   "cell_type": "code",
   "execution_count": 34,
   "id": "2d059235",
   "metadata": {},
   "outputs": [
    {
     "data": {
      "text/plain": [
       "num_payment_methods_non_mercadopago\n",
       "0    27531\n",
       "2    22688\n",
       "3    22030\n",
       "1    14594\n",
       "4     3157\n",
       "Name: count, dtype: int64"
      ]
     },
     "execution_count": 34,
     "metadata": {},
     "output_type": "execute_result"
    }
   ],
   "source": [
    "X_dataframe[\"num_payment_methods_non_mercadopago\"].apply(lambda x: 4 if x > 4 else x).value_counts()"
   ]
  },
  {
   "cell_type": "code",
   "execution_count": 35,
   "id": "47005a11",
   "metadata": {},
   "outputs": [
    {
     "data": {
      "text/plain": [
       "num_payment_methods_non_mercadopago\n",
       "3    16685\n",
       "0    13446\n",
       "2    12337\n",
       "1     5884\n",
       "Name: count, dtype: int64"
      ]
     },
     "execution_count": 35,
     "metadata": {},
     "output_type": "execute_result"
    }
   ],
   "source": [
    "X_dataframe.loc[X_dataframe[\"used\"] == 0][\"num_payment_methods_non_mercadopago\"].apply(\n",
    "    lambda x: 3 if x > 3 else x\n",
    ").value_counts()"
   ]
  },
  {
   "cell_type": "code",
   "execution_count": 219,
   "id": "9408435d",
   "metadata": {},
   "outputs": [
    {
     "data": {
      "text/plain": [
       "num_payment_methods_non_mercadopago\n",
       "0    14085\n",
       "2    10351\n",
       "1     8710\n",
       "3     8502\n",
       "Name: count, dtype: int64"
      ]
     },
     "execution_count": 219,
     "metadata": {},
     "output_type": "execute_result"
    }
   ],
   "source": [
    "X_dataframe.loc[X_dataframe[\"used\"] == 1][\"num_payment_methods_non_mercadopago\"].apply(\n",
    "    lambda x: 3 if x > 3 else x\n",
    ").value_counts()"
   ]
  },
  {
   "cell_type": "markdown",
   "id": "ca9614b5",
   "metadata": {},
   "source": [
    "There's a slight different distribution if it's new, there's more concentration in more payment methods "
   ]
  },
  {
   "cell_type": "markdown",
   "id": "6d47e7d9",
   "metadata": {},
   "source": [
    "# Accepts MercadoPago"
   ]
  },
  {
   "cell_type": "code",
   "execution_count": 3,
   "id": "476b9fc2",
   "metadata": {},
   "outputs": [
    {
     "data": {
      "text/html": [
       "<div>\n",
       "<style scoped>\n",
       "    .dataframe tbody tr th:only-of-type {\n",
       "        vertical-align: middle;\n",
       "    }\n",
       "\n",
       "    .dataframe tbody tr th {\n",
       "        vertical-align: top;\n",
       "    }\n",
       "\n",
       "    .dataframe thead th {\n",
       "        text-align: right;\n",
       "    }\n",
       "</style>\n",
       "<table border=\"1\" class=\"dataframe\">\n",
       "  <thead>\n",
       "    <tr style=\"text-align: right;\">\n",
       "      <th></th>\n",
       "      <th>n</th>\n",
       "      <th>prop_used</th>\n",
       "      <th>ci_lower</th>\n",
       "      <th>ci_upper</th>\n",
       "    </tr>\n",
       "    <tr>\n",
       "      <th>accepts_mercadopago</th>\n",
       "      <th></th>\n",
       "      <th></th>\n",
       "      <th></th>\n",
       "      <th></th>\n",
       "    </tr>\n",
       "  </thead>\n",
       "  <tbody>\n",
       "    <tr>\n",
       "      <th>False</th>\n",
       "      <td>1982</td>\n",
       "      <td>0.770434</td>\n",
       "      <td>0.751406</td>\n",
       "      <td>0.788415</td>\n",
       "    </tr>\n",
       "    <tr>\n",
       "      <th>True</th>\n",
       "      <td>88018</td>\n",
       "      <td>0.455827</td>\n",
       "      <td>0.452539</td>\n",
       "      <td>0.459119</td>\n",
       "    </tr>\n",
       "  </tbody>\n",
       "</table>\n",
       "</div>"
      ],
      "text/plain": [
       "                         n  prop_used  ci_lower  ci_upper\n",
       "accepts_mercadopago                                      \n",
       "False                 1982   0.770434  0.751406  0.788415\n",
       "True                 88018   0.455827  0.452539  0.459119"
      ]
     },
     "execution_count": 3,
     "metadata": {},
     "output_type": "execute_result"
    }
   ],
   "source": [
    "res = column_analysis(\"accepts_mercadopago\", X_dataframe)\n",
    "res"
   ]
  },
  {
   "cell_type": "code",
   "execution_count": 6,
   "id": "9205c253",
   "metadata": {},
   "outputs": [
    {
     "data": {
      "text/plain": [
       "np.int64(0)"
      ]
     },
     "execution_count": 6,
     "metadata": {},
     "output_type": "execute_result"
    }
   ],
   "source": [
    "X_dataframe[\"accepts_mercadopago\"].isna().sum()"
   ]
  },
  {
   "cell_type": "code",
   "execution_count": 5,
   "id": "4b4b8d46",
   "metadata": {},
   "outputs": [
    {
     "data": {
      "image/png": "[encoded data removed]",
      "text/plain": [
       "<Figure size 640x480 with 1 Axes>"
      ]
     },
     "metadata": {},
     "output_type": "display_data"
    }
   ],
   "source": [
    "plot_column_analysis(res)"
   ]
  },
  {
   "cell_type": "markdown",
   "id": "c83d8ef4",
   "metadata": {},
   "source": [
    "The amount of accepts_mercadopago is too small"
   ]
  },
  {
   "cell_type": "code",
   "execution_count": null,
   "id": "3e8e503c",
   "metadata": {},
   "outputs": [],
   "source": []
  }
 ],
 "metadata": {
  "kernelspec": {
   "display_name": ".venv",
   "language": "python",
   "name": "python3"
  },
  "language_info": {
   "codemirror_mode": {
    "name": "ipython",
    "version": 3
   },
   "file_extension": ".py",
   "mimetype": "text/x-python",
   "name": "python",
   "nbconvert_exporter": "python",
   "pygments_lexer": "ipython3",
   "version": "3.12.10"
  }
 },
 "nbformat": 4,
 "nbformat_minor": 5
}

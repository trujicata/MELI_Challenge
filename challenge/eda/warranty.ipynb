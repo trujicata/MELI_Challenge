{
 "cells": [
  {
   "cell_type": "markdown",
   "id": "4d979e40",
   "metadata": {},
   "source": [
    "# Warranty"
   ]
  },
  {
   "cell_type": "code",
   "execution_count": null,
   "id": "987a1925",
   "metadata": {},
   "outputs": [],
   "source": [
    "from typing import Literal\n",
    "import pandas as pd\n",
    "from utils import *\n",
    "\n",
    "X_dataframe = pd.read_csv(\"../data/X_dataframe.csv\")"
   ]
  },
  {
   "cell_type": "code",
   "execution_count": 4,
   "id": "e45a63ce",
   "metadata": {},
   "outputs": [
    {
     "data": {
      "text/plain": [
       "count     35243\n",
       "unique     9536\n",
       "top          Sí\n",
       "freq       5107\n",
       "Name: warranty, dtype: object"
      ]
     },
     "execution_count": 4,
     "metadata": {},
     "output_type": "execute_result"
    }
   ],
   "source": [
    "X_dataframe[\"warranty\"].describe()"
   ]
  },
  {
   "cell_type": "code",
   "execution_count": 5,
   "id": "656c746f",
   "metadata": {},
   "outputs": [
    {
     "data": {
      "text/plain": [
       "warranty\n",
       "Sí                                                                                                                                                                                                                                     5107\n",
       "Sin garantía                                                                                                                                                                                                                           4907\n",
       "SI                                                                                                                                                                                                                                      545\n",
       "6 meses                                                                                                                                                                                                                                 489\n",
       "6 MESES                                                                                                                                                                                                                                 361\n",
       "Si                                                                                                                                                                                                                                      311\n",
       "si                                                                                                                                                                                                                                      291\n",
       "MI REPUTACION                                                                                                                                                                                                                           192\n",
       "3 meses                                                                                                                                                                                                                                 190\n",
       "3 MESES                                                                                                                                                                                                                                 183\n",
       "3 meses de garantia                                                                                                                                                                                                                     183\n",
       "12 meses                                                                                                                                                                                                                                153\n",
       "MIS CALIFICACIONES                                                                                                                                                                                                                      151\n",
       "TODOS MIS PRODUCTOS ESTAN 100 % GARANTIZADOS,DE NO ESTAR CONFORME CON LOS MISMOS   SE REINTEGRARA  EL IMPORTE DEL PRODUCTO,CONTRA DEVOLUCION DEL ARTICULO                                                                               148\n",
       "1 año                                                                                                                                                                                                                                   137\n",
       "Oferta con confianza - Revisa nuestras Calificaciones!!                                                                                                                                                                                 127\n",
       "La garantia solo responde en casos de fallas de impresion y/o encuadernacion del libro. tiene un vencimiento de 60 dias tomando como referencia la fecha de compra. los gastos adicionales de envio corren por cuenta del comprador     123\n",
       "SE GARANTIZA LA DESCRIPCIÓN.                                                                                                                                                                                                            113\n",
       "El producto tiene un año de garantia                                                                                                                                                                                                    110\n",
       "Se entrega en caja sellada, el cadete que lo entrega no sabe el contenido. En caso de ser envios por Micro, OCA (va totalmente sellado sin logotipos, ni firma de la Empresa).                                                          109\n",
       "GARANTÍA TOTAL                                                                                                                                                                                                                          104\n",
       "6 Meses                                                                                                                                                                                                                                 102\n",
       "PODES REVISAR EL ARTICULO ANTES DE ABONAR. CHEQUEA MIS CALIFICACIONES COMO VENDEDOR.                                                                                                                                                     95\n",
       "¡¡¡Garantía de satisfacción!!! O sea que si al retirarlo y verlo usted no esta conforme con el producto que recibe, cancelamos sin ninguna complicación la operación.                                                                    95\n",
       "Con garantía                                                                                                                                                                                                                             82\n",
       "6 MESES DE GARANTIA                                                                                                                                                                                                                      79\n",
       "Resortes estandar delanteros y traseros dos años de garantia. \\r\\nGnc y deportivos 1 año!!                                                                                                                                               76\n",
       "1 AÑO                                                                                                                                                                                                                                    74\n",
       "Si. Leer las condiciones al final de la publicación                                                                                                                                                                                      71\n",
       "Si.                                                                                                                                                                                                                                      64\n",
       "c                                                                                                                                                                                                                                        63\n",
       "La garantia esta en mis calificaciones                                                                                                                                                                                                   62\n",
       "Las fotos corresponden al ejemplar publicado, y éste se encuentra tal como se especifica en la descripción, luego de haber sido cuidadosamente revisado.                                                                                 60\n",
       "12 MESES                                                                                                                                                                                                                                 58\n",
       "Garantia OLD-RIDER-GARAGE de por vida.                                                                                                                                                                                                   57\n",
       "DE FABRICA                                                                                                                                                                                                                               57\n",
       "6 meses de gtia                                                                                                                                                                                                                          56\n",
       "Nuestra reputacion, trayectoria y compromiso en la mejor garantía para el usuario                                                                                                                                                        56\n",
       "Mis calificaciones                                                                                                                                                                                                                       56\n",
       "GARANTIA DE FABRICA 6 MESES                                                                                                                                                                                                              56\n",
       "Name: count, dtype: int64"
      ]
     },
     "execution_count": 5,
     "metadata": {},
     "output_type": "execute_result"
    }
   ],
   "source": [
    "X_dataframe[\"warranty\"].value_counts()[:40]"
   ]
  },
  {
   "cell_type": "code",
   "execution_count": 6,
   "id": "8d269612",
   "metadata": {},
   "outputs": [
    {
     "data": {
      "text/plain": [
       "np.int64(54757)"
      ]
     },
     "execution_count": 6,
     "metadata": {},
     "output_type": "execute_result"
    }
   ],
   "source": [
    "X_dataframe[\"warranty\"].isnull().sum()"
   ]
  },
  {
   "cell_type": "markdown",
   "id": "64d9511d",
   "metadata": {},
   "source": [
    "#### 💡 Insights\n",
    "61% of the data is empty"
   ]
  },
  {
   "cell_type": "code",
   "execution_count": 7,
   "id": "77b68720",
   "metadata": {},
   "outputs": [
    {
     "data": {
      "text/plain": [
       "warranty\n",
       "unknown                                                                                                                                                                                            54757\n",
       "Sí                                                                                                                                                                                                  5107\n",
       "Sin garantía                                                                                                                                                                                        4907\n",
       "SI                                                                                                                                                                                                   545\n",
       "6 meses                                                                                                                                                                                              489\n",
       "                                                                                                                                                                                                   ...  \n",
       "Garantía: Todos los artículos tienen nuestra garantía por desperfectos de fabricación, no así por mal uso o mal trato.No se aceptara ningún producto sin su caja original.                             1\n",
       "8 años vendiendo en mercado libre es nuestra garantia                                                                                                                                                  1\n",
       "En la descripcion se detalla la condicion y el estado del producto. Los vinilos los escuhamos antes de subirlos. Nos lleva mas tiempo, pero nos aseguramos de no publicar discos en mal estado.        1\n",
       "GARANTIZAMOS TOTALMENTE EL PRODUCTO EN CALIDAD Y TERMINACIONES                                                                                                                                         1\n",
       "de lo descripto en la publicación                                                                                                                                                                      1\n",
       "Name: count, Length: 9537, dtype: int64"
      ]
     },
     "execution_count": 7,
     "metadata": {},
     "output_type": "execute_result"
    }
   ],
   "source": [
    "# Fill with \"unknown\"\n",
    "X_dataframe[\"warranty\"] = X_dataframe[\"warranty\"].fillna(\"unknown\")\n",
    "X_dataframe[\"warranty\"] = X_dataframe[\"warranty\"].apply(lambda x: \"unknown\" if x == \"\" else x)\n",
    "X_dataframe[\"warranty\"].value_counts()"
   ]
  },
  {
   "cell_type": "markdown",
   "id": "96ce9baa",
   "metadata": {},
   "source": [
    "#### 💡 Insights\n",
    "Still a lot of unconsistency in the warranty responses"
   ]
  },
  {
   "cell_type": "code",
   "execution_count": null,
   "id": "d5bde36f",
   "metadata": {},
   "outputs": [],
   "source": [
    "def typical_string_processing(x: str) -> str:\n",
    "    \"\"\"\n",
    "    This function removes accent marks, converts to lowercase, removes dots and trims the string\n",
    "\n",
    "    Args:\n",
    "        x: str, the string to process\n",
    "\n",
    "    Returns:\n",
    "        str, the processed string\n",
    "    \"\"\"\n",
    "    tildes = \"áéíóú\"\n",
    "    no_tildes = \"aeiou\"\n",
    "    x = x.lower()\n",
    "    x = x.strip()\n",
    "    for i in range(len(tildes)):\n",
    "        x = x.replace(tildes[i], no_tildes[i])\n",
    "    return x\n",
    "\n",
    "\n",
    "def find_warranty_magnitude(x: str) -> str:\n",
    "    \"\"\"\n",
    "    This function finds the magnitude of the warranty.\n",
    "    It checks if the magnitude is in years, months, weeks or days.\n",
    "\n",
    "    Args:\n",
    "        x: str, the string to process\n",
    "\n",
    "    Returns:\n",
    "        str, the processed string\n",
    "\n",
    "\n",
    "    \"\"\"\n",
    "    if \"año\" in x or \"ano\" in x.split(\" \") or \"anos\" in x.split(\" \"):\n",
    "        return \"años\"\n",
    "    elif \"mes\" in x:\n",
    "        return \"meses\"\n",
    "    elif \"semana\" in x:\n",
    "        return \"semanas\"\n",
    "    elif \"dia\" in x:\n",
    "        try:\n",
    "            days = int(x.split(\"dia\")[0].split(\" \")[-2])\n",
    "            if days > 365:\n",
    "                return \"años\"\n",
    "            elif days > 30:\n",
    "                return \"meses\"\n",
    "            elif days > 7:\n",
    "                return \"semanas\"\n",
    "            else:\n",
    "                return \"dias\"\n",
    "        except (ValueError, IndexError):\n",
    "            return x\n",
    "    elif \"horas\" in x:\n",
    "        return \"dias\"  # Hypothesis: the warranty is for 24 or 48 hours\n",
    "    else:\n",
    "        return x\n",
    "\n",
    "\n",
    "def warranty_de_fabricacion(x: str) -> str:\n",
    "    \"\"\"\n",
    "    This function checks if the warranty is from the factory.\n",
    "\n",
    "    Args:\n",
    "        x: str, the string to process\n",
    "\n",
    "    Returns:\n",
    "        str, the processed string\n",
    "    \"\"\"\n",
    "    if \"fabrica\" in x or \"origen\" in x:  # Hypothesis: the warranty is from the factory\n",
    "        return \"de fabrica\"\n",
    "    else:\n",
    "        return x\n",
    "\n",
    "\n",
    "def yes_no_warranty(x):\n",
    "    if x not in [\"años\", \"meses\", \"semanas\", \"dias\", \"de fabrica\", \"usado\", \"a nuevo\"]:\n",
    "        x = x.replace(\".\", \"\")\n",
    "        if \"si\" in x.split(\" \") or \"con garantia\" in x or \"garantia total\" in x:\n",
    "            return \"si\"\n",
    "        elif \"sin garantia\" in x:\n",
    "            return \"no\"\n",
    "        else:\n",
    "            return \"otro\"\n",
    "    else:\n",
    "        return x\n",
    "\n",
    "\n",
    "def warranty_estado(x: str) -> str:\n",
    "    \"\"\"\n",
    "    This function checks if in the warranty the seller mentions the state of the item.\n",
    "\n",
    "    Args:\n",
    "        x: str, the string to process\n",
    "\n",
    "    Returns:\n",
    "        str, the processed string. Can be \"a nuevo\", \"usado\", \"otro\", \"de fabrica\", \"años\", \"meses\", \"semanas\", \"dias\", \"si\", \"no\"\n",
    "    \"\"\"\n",
    "    if x not in [\"años\", \"meses\", \"semanas\", \"dias\", \"de fabrica\"]:\n",
    "        x = typical_string_processing(x)\n",
    "        if \"nuevo\" in x:\n",
    "            return \"a nuevo\"\n",
    "        elif \"usado\" in x:\n",
    "            if \"devolucion\" not in x or \"sido\" not in x:\n",
    "                return \"usado\"\n",
    "            else:\n",
    "                return \"otro\"\n",
    "        elif \"reparado\" in x:\n",
    "            return \"usado\"\n",
    "        elif (\n",
    "            \"estado\" in x or \"excelentes condiciones\" in x or \"buenas condiciones\" in x\n",
    "        ):\n",
    "            return \"usado\"\n",
    "        else:\n",
    "            return x\n",
    "    else:\n",
    "        return x\n",
    "\n",
    "\n",
    "def warranty_string_processing(\n",
    "    x: str,\n",
    ") -> Literal[\n",
    "    \"a nuevo\",\n",
    "    \"usado\",\n",
    "    \"otro\",\n",
    "    \"de fabrica\",\n",
    "    \"años\",\n",
    "    \"meses\",\n",
    "    \"semanas\",\n",
    "    \"dias\",\n",
    "    \"si\",\n",
    "    \"no\",\n",
    "    \"unknown\",\n",
    "]:\n",
    "    \"\"\"\n",
    "    This function processes the warranty string.\n",
    "    It removes accent marks, converts to lowercase, removes dots and trims the string.\n",
    "    It finds the magnitude of the warranty.\n",
    "    It checks if the warranty is from the factory.\n",
    "    It checks if in the warranty the seller mentions the state of the item.\n",
    "\n",
    "    Args:\n",
    "        x: str, the string to process\n",
    "\n",
    "    Returns:\n",
    "        str, the processed string.\n",
    "        Can be \"a nuevo\", \"usado\", \"otro\", \"de fabrica\", \"años\", \"meses\", \"semanas\", \"dias\", \"si\", \"no\",\"unknown\"\n",
    "    \"\"\"\n",
    "    if isinstance(x, str) and x != \"unknown\":\n",
    "        x = typical_string_processing(x)\n",
    "        x = find_warranty_magnitude(x)\n",
    "        x = warranty_de_fabricacion(x)\n",
    "        x = warranty_estado(x)\n",
    "        x = yes_no_warranty(x)\n",
    "    return x\n"
   ]
  },
  {
   "cell_type": "code",
   "execution_count": 9,
   "id": "41ae82f5",
   "metadata": {},
   "outputs": [],
   "source": [
    "X_dataframe[\"processed_warranty\"] = X_dataframe[\"warranty\"].apply(\n",
    "    warranty_string_processing\n",
    ")"
   ]
  },
  {
   "cell_type": "code",
   "execution_count": 11,
   "id": "ffc9f0b9",
   "metadata": {},
   "outputs": [
    {
     "data": {
      "text/plain": [
       "processed_warranty\n",
       "unknown       54757\n",
       "otro           9948\n",
       "si             7842\n",
       "no             4933\n",
       "meses          4856\n",
       "años           2603\n",
       "de fabrica     2585\n",
       "usado          1059\n",
       "a nuevo         735\n",
       "semanas         463\n",
       "dias            219\n",
       "Name: count, dtype: int64"
      ]
     },
     "execution_count": 11,
     "metadata": {},
     "output_type": "execute_result"
    }
   ],
   "source": [
    "X_dataframe[\"processed_warranty\"].value_counts()"
   ]
  },
  {
   "cell_type": "code",
   "execution_count": 14,
   "id": "d014616f",
   "metadata": {},
   "outputs": [
    {
     "data": {
      "text/plain": [
       "warranty\n",
       "MI REPUTACION                                                                                                                                                                     192\n",
       "MIS CALIFICACIONES                                                                                                                                                                151\n",
       "TODOS MIS PRODUCTOS ESTAN 100 % GARANTIZADOS,DE NO ESTAR CONFORME CON LOS MISMOS   SE REINTEGRARA  EL IMPORTE DEL PRODUCTO,CONTRA DEVOLUCION DEL ARTICULO                         148\n",
       "Oferta con confianza - Revisa nuestras Calificaciones!!                                                                                                                           127\n",
       "SE GARANTIZA LA DESCRIPCIÓN.                                                                                                                                                      113\n",
       "Se entrega en caja sellada, el cadete que lo entrega no sabe el contenido. En caso de ser envios por Micro, OCA (va totalmente sellado sin logotipos, ni firma de la Empresa).    109\n",
       "PODES REVISAR EL ARTICULO ANTES DE ABONAR. CHEQUEA MIS CALIFICACIONES COMO VENDEDOR.                                                                                               95\n",
       "c                                                                                                                                                                                  63\n",
       "La garantia esta en mis calificaciones                                                                                                                                             62\n",
       "Las fotos corresponden al ejemplar publicado, y éste se encuentra tal como se especifica en la descripción, luego de haber sido cuidadosamente revisado.                           60\n",
       "Garantia OLD-RIDER-GARAGE de por vida.                                                                                                                                             57\n",
       "Mis calificaciones                                                                                                                                                                 56\n",
       "Nuestra reputacion, trayectoria y compromiso en la mejor garantía para el usuario                                                                                                  56\n",
       "mis calificaciones                                                                                                                                                                 54\n",
       "Tal como se describe el lote. Mi mejor garantía es mi reputación.                                                                                                                  51\n",
       "Todos los archivos se prueban antes de ser enviados                                                                                                                                48\n",
       "Mi reputación y trayectoria.                                                                                                                                                       46\n",
       "TODOS NUESTROS ARTICULOS ESTAN GARANTIZADOS POR NUESTRO PROFESIONALISMO Y NUESTRAS MILES DE OPERACIONES REALIZADAS EN FORMA SATISFACTORIA.                                         45\n",
       "Mis calificaciones son la mejor garantía de mis productos y de mi atención al cliente.                                                                                             45\n",
       "VENTAS REALIZADAS Y CALIFICACIONES RECIBIDAS                                                                                                                                       41\n",
       "Name: count, dtype: int64"
      ]
     },
     "execution_count": 14,
     "metadata": {},
     "output_type": "execute_result"
    }
   ],
   "source": [
    "X_dataframe.loc[X_dataframe[\"processed_warranty\"] == \"otro\"][\"warranty\"].value_counts()[:20]"
   ]
  },
  {
   "cell_type": "markdown",
   "id": "ce84b405",
   "metadata": {},
   "source": [
    "#### 💡 Insights  \n",
    "Most of the warranty descriptions categorized as **“otro”** provide little useful information.  \n",
    "Next, we will analyze whether the other identified warranty categories show any relationship with item condition."
   ]
  },
  {
   "cell_type": "code",
   "execution_count": 15,
   "id": "ba175505",
   "metadata": {},
   "outputs": [
    {
     "data": {
      "text/html": [
       "<div>\n",
       "<style scoped>\n",
       "    .dataframe tbody tr th:only-of-type {\n",
       "        vertical-align: middle;\n",
       "    }\n",
       "\n",
       "    .dataframe tbody tr th {\n",
       "        vertical-align: top;\n",
       "    }\n",
       "\n",
       "    .dataframe thead th {\n",
       "        text-align: right;\n",
       "    }\n",
       "</style>\n",
       "<table border=\"1\" class=\"dataframe\">\n",
       "  <thead>\n",
       "    <tr style=\"text-align: right;\">\n",
       "      <th></th>\n",
       "      <th>n</th>\n",
       "      <th>prop_used</th>\n",
       "      <th>ci_lower</th>\n",
       "      <th>ci_upper</th>\n",
       "    </tr>\n",
       "    <tr>\n",
       "      <th>processed_warranty</th>\n",
       "      <th></th>\n",
       "      <th></th>\n",
       "      <th></th>\n",
       "      <th></th>\n",
       "    </tr>\n",
       "  </thead>\n",
       "  <tbody>\n",
       "    <tr>\n",
       "      <th>usado</th>\n",
       "      <td>1059</td>\n",
       "      <td>0.877243</td>\n",
       "      <td>0.856103</td>\n",
       "      <td>0.895655</td>\n",
       "    </tr>\n",
       "    <tr>\n",
       "      <th>no</th>\n",
       "      <td>4933</td>\n",
       "      <td>0.653558</td>\n",
       "      <td>0.640164</td>\n",
       "      <td>0.666712</td>\n",
       "    </tr>\n",
       "    <tr>\n",
       "      <th>unknown</th>\n",
       "      <td>54757</td>\n",
       "      <td>0.516500</td>\n",
       "      <td>0.512313</td>\n",
       "      <td>0.520685</td>\n",
       "    </tr>\n",
       "    <tr>\n",
       "      <th>si</th>\n",
       "      <td>7842</td>\n",
       "      <td>0.509691</td>\n",
       "      <td>0.498625</td>\n",
       "      <td>0.520748</td>\n",
       "    </tr>\n",
       "    <tr>\n",
       "      <th>otro</th>\n",
       "      <td>9948</td>\n",
       "      <td>0.455669</td>\n",
       "      <td>0.445902</td>\n",
       "      <td>0.465472</td>\n",
       "    </tr>\n",
       "    <tr>\n",
       "      <th>dias</th>\n",
       "      <td>219</td>\n",
       "      <td>0.415525</td>\n",
       "      <td>0.352260</td>\n",
       "      <td>0.481703</td>\n",
       "    </tr>\n",
       "    <tr>\n",
       "      <th>semanas</th>\n",
       "      <td>463</td>\n",
       "      <td>0.231102</td>\n",
       "      <td>0.195011</td>\n",
       "      <td>0.271617</td>\n",
       "    </tr>\n",
       "    <tr>\n",
       "      <th>a nuevo</th>\n",
       "      <td>735</td>\n",
       "      <td>0.088435</td>\n",
       "      <td>0.069991</td>\n",
       "      <td>0.111160</td>\n",
       "    </tr>\n",
       "    <tr>\n",
       "      <th>años</th>\n",
       "      <td>2603</td>\n",
       "      <td>0.077219</td>\n",
       "      <td>0.067575</td>\n",
       "      <td>0.088108</td>\n",
       "    </tr>\n",
       "    <tr>\n",
       "      <th>meses</th>\n",
       "      <td>4856</td>\n",
       "      <td>0.037273</td>\n",
       "      <td>0.032301</td>\n",
       "      <td>0.042978</td>\n",
       "    </tr>\n",
       "    <tr>\n",
       "      <th>de fabrica</th>\n",
       "      <td>2585</td>\n",
       "      <td>0.014700</td>\n",
       "      <td>0.010729</td>\n",
       "      <td>0.020112</td>\n",
       "    </tr>\n",
       "  </tbody>\n",
       "</table>\n",
       "</div>"
      ],
      "text/plain": [
       "                        n  prop_used  ci_lower  ci_upper\n",
       "processed_warranty                                      \n",
       "usado                1059   0.877243  0.856103  0.895655\n",
       "no                   4933   0.653558  0.640164  0.666712\n",
       "unknown             54757   0.516500  0.512313  0.520685\n",
       "si                   7842   0.509691  0.498625  0.520748\n",
       "otro                 9948   0.455669  0.445902  0.465472\n",
       "dias                  219   0.415525  0.352260  0.481703\n",
       "semanas               463   0.231102  0.195011  0.271617\n",
       "a nuevo               735   0.088435  0.069991  0.111160\n",
       "años                 2603   0.077219  0.067575  0.088108\n",
       "meses                4856   0.037273  0.032301  0.042978\n",
       "de fabrica           2585   0.014700  0.010729  0.020112"
      ]
     },
     "metadata": {},
     "output_type": "display_data"
    }
   ],
   "source": [
    "res = column_analysis(\"processed_warranty\", X_dataframe)\n",
    "display(res)"
   ]
  },
  {
   "cell_type": "code",
   "execution_count": 17,
   "id": "587bbea8",
   "metadata": {},
   "outputs": [
    {
     "data": {
      "image/png": "[encoded data removed]",
      "text/plain": [
       "<Figure size 640x480 with 1 Axes>"
      ]
     },
     "metadata": {},
     "output_type": "display_data"
    }
   ],
   "source": [
    "plot_column_analysis(res)"
   ]
  },
  {
   "cell_type": "markdown",
   "id": "e9db4148",
   "metadata": {},
   "source": [
    "#### 💡 Insights  \n",
    "Several warranty description categories are strong predictors of item condition.  \n",
    "For example:  \n",
    "- **“usado”** and **“no”** are highly associated with used items.  \n",
    "- **“de fábrica”**, **“meses”**, **“a nuevo”**, and **“años”** are strongly associated with new items.  \n",
    "\n",
    "This indicates that warranty information can be a valuable feature for classification."
   ]
  },
  {
   "cell_type": "markdown",
   "id": "4b324bd5",
   "metadata": {},
   "source": [
    "For the training dataset, we will only have the `processed_warranty` feature"
   ]
  }
 ],
 "metadata": {
  "kernelspec": {
   "display_name": ".venv",
   "language": "python",
   "name": "python3"
  },
  "language_info": {
   "codemirror_mode": {
    "name": "ipython",
    "version": 3
   },
   "file_extension": ".py",
   "mimetype": "text/x-python",
   "name": "python",
   "nbconvert_exporter": "python",
   "pygments_lexer": "ipython3",
   "version": "3.12.10"
  }
 },
 "nbformat": 4,
 "nbformat_minor": 5
}

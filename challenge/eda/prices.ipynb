{
 "cells": [
  {
   "cell_type": "markdown",
   "id": "4d979e40",
   "metadata": {},
   "source": [
    "# EDA on the `MLA_100k_checked_v3` dataset"
   ]
  },
  {
   "cell_type": "code",
   "execution_count": 1,
   "id": "987a1925",
   "metadata": {},
   "outputs": [],
   "source": [
    "import matplotlib.pyplot as plt\n",
    "import pandas as pd\n",
    "import numpy as np\n",
    "import seaborn as sns\n",
    "from utils import *"
   ]
  },
  {
   "cell_type": "markdown",
   "id": "d31ec365",
   "metadata": {},
   "source": [
    "## Load the dataset"
   ]
  },
  {
   "cell_type": "code",
   "execution_count": 2,
   "id": "acc0e8fd",
   "metadata": {},
   "outputs": [
    {
     "data": {
      "text/html": [
       "<div>\n",
       "<style scoped>\n",
       "    .dataframe tbody tr th:only-of-type {\n",
       "        vertical-align: middle;\n",
       "    }\n",
       "\n",
       "    .dataframe tbody tr th {\n",
       "        vertical-align: top;\n",
       "    }\n",
       "\n",
       "    .dataframe thead th {\n",
       "        text-align: right;\n",
       "    }\n",
       "</style>\n",
       "<table border=\"1\" class=\"dataframe\">\n",
       "  <thead>\n",
       "    <tr style=\"text-align: right;\">\n",
       "      <th></th>\n",
       "      <th>seller_address</th>\n",
       "      <th>warranty</th>\n",
       "      <th>base_price</th>\n",
       "      <th>shipping</th>\n",
       "      <th>non_mercado_pago_payment_methods</th>\n",
       "      <th>seller_id</th>\n",
       "      <th>variations</th>\n",
       "      <th>listing_type_id</th>\n",
       "      <th>price</th>\n",
       "      <th>attributes</th>\n",
       "      <th>...</th>\n",
       "      <th>secure_thumbnail</th>\n",
       "      <th>stop_time</th>\n",
       "      <th>status</th>\n",
       "      <th>video_id</th>\n",
       "      <th>catalog_product_id</th>\n",
       "      <th>initial_quantity</th>\n",
       "      <th>start_time</th>\n",
       "      <th>sold_quantity</th>\n",
       "      <th>available_quantity</th>\n",
       "      <th>used</th>\n",
       "    </tr>\n",
       "  </thead>\n",
       "  <tbody>\n",
       "    <tr>\n",
       "      <th>0</th>\n",
       "      <td>{'country': {'name': 'Argentina', 'id': 'AR'},...</td>\n",
       "      <td>NaN</td>\n",
       "      <td>80.0</td>\n",
       "      <td>{'local_pick_up': True, 'methods': [], 'tags':...</td>\n",
       "      <td>[{'description': 'Transferencia bancaria', 'id...</td>\n",
       "      <td>8208882349</td>\n",
       "      <td>[]</td>\n",
       "      <td>bronze</td>\n",
       "      <td>80.0</td>\n",
       "      <td>[]</td>\n",
       "      <td>...</td>\n",
       "      <td>https://a248.e.akamai.net/mla-s1-p.mlstatic.co...</td>\n",
       "      <td>1446669773000</td>\n",
       "      <td>active</td>\n",
       "      <td>NaN</td>\n",
       "      <td>NaN</td>\n",
       "      <td>1</td>\n",
       "      <td>1441485773000</td>\n",
       "      <td>0</td>\n",
       "      <td>1</td>\n",
       "      <td>False</td>\n",
       "    </tr>\n",
       "    <tr>\n",
       "      <th>1</th>\n",
       "      <td>{'country': {'name': 'Argentina', 'id': 'AR'},...</td>\n",
       "      <td>NUESTRA REPUTACION</td>\n",
       "      <td>2650.0</td>\n",
       "      <td>{'local_pick_up': True, 'methods': [], 'tags':...</td>\n",
       "      <td>[{'description': 'Transferencia bancaria', 'id...</td>\n",
       "      <td>8141699488</td>\n",
       "      <td>[]</td>\n",
       "      <td>silver</td>\n",
       "      <td>2650.0</td>\n",
       "      <td>[]</td>\n",
       "      <td>...</td>\n",
       "      <td>https://a248.e.akamai.net/mla-s1-p.mlstatic.co...</td>\n",
       "      <td>1448474910000</td>\n",
       "      <td>active</td>\n",
       "      <td>NaN</td>\n",
       "      <td>NaN</td>\n",
       "      <td>1</td>\n",
       "      <td>1443290910000</td>\n",
       "      <td>0</td>\n",
       "      <td>1</td>\n",
       "      <td>True</td>\n",
       "    </tr>\n",
       "    <tr>\n",
       "      <th>2</th>\n",
       "      <td>{'country': {'name': 'Argentina', 'id': 'AR'},...</td>\n",
       "      <td>NaN</td>\n",
       "      <td>60.0</td>\n",
       "      <td>{'local_pick_up': True, 'methods': [], 'tags':...</td>\n",
       "      <td>[{'description': 'Transferencia bancaria', 'id...</td>\n",
       "      <td>8386096505</td>\n",
       "      <td>[]</td>\n",
       "      <td>bronze</td>\n",
       "      <td>60.0</td>\n",
       "      <td>[]</td>\n",
       "      <td>...</td>\n",
       "      <td>https://a248.e.akamai.net/mla-s1-p.mlstatic.co...</td>\n",
       "      <td>1447027027000</td>\n",
       "      <td>active</td>\n",
       "      <td>NaN</td>\n",
       "      <td>NaN</td>\n",
       "      <td>1</td>\n",
       "      <td>1441843027000</td>\n",
       "      <td>0</td>\n",
       "      <td>1</td>\n",
       "      <td>True</td>\n",
       "    </tr>\n",
       "    <tr>\n",
       "      <th>3</th>\n",
       "      <td>{'country': {'name': 'Argentina', 'id': 'AR'},...</td>\n",
       "      <td>NaN</td>\n",
       "      <td>580.0</td>\n",
       "      <td>{'local_pick_up': True, 'methods': [], 'tags':...</td>\n",
       "      <td>[{'description': 'Transferencia bancaria', 'id...</td>\n",
       "      <td>5377752182</td>\n",
       "      <td>[]</td>\n",
       "      <td>silver</td>\n",
       "      <td>580.0</td>\n",
       "      <td>[]</td>\n",
       "      <td>...</td>\n",
       "      <td>https://a248.e.akamai.net/mla-s2-p.mlstatic.co...</td>\n",
       "      <td>1449191596000</td>\n",
       "      <td>active</td>\n",
       "      <td>NaN</td>\n",
       "      <td>NaN</td>\n",
       "      <td>1</td>\n",
       "      <td>1443466076000</td>\n",
       "      <td>0</td>\n",
       "      <td>1</td>\n",
       "      <td>False</td>\n",
       "    </tr>\n",
       "    <tr>\n",
       "      <th>4</th>\n",
       "      <td>{'country': {'name': 'Argentina', 'id': 'AR'},...</td>\n",
       "      <td>MI REPUTACION.</td>\n",
       "      <td>30.0</td>\n",
       "      <td>{'local_pick_up': True, 'methods': [], 'tags':...</td>\n",
       "      <td>[{'description': 'Transferencia bancaria', 'id...</td>\n",
       "      <td>2938071313</td>\n",
       "      <td>[]</td>\n",
       "      <td>bronze</td>\n",
       "      <td>30.0</td>\n",
       "      <td>[]</td>\n",
       "      <td>...</td>\n",
       "      <td>https://a248.e.akamai.net/mla-s2-p.mlstatic.co...</td>\n",
       "      <td>1445638040000</td>\n",
       "      <td>active</td>\n",
       "      <td>NaN</td>\n",
       "      <td>NaN</td>\n",
       "      <td>1</td>\n",
       "      <td>1440454040000</td>\n",
       "      <td>0</td>\n",
       "      <td>1</td>\n",
       "      <td>True</td>\n",
       "    </tr>\n",
       "  </tbody>\n",
       "</table>\n",
       "<p>5 rows × 32 columns</p>\n",
       "</div>"
      ],
      "text/plain": [
       "                                      seller_address            warranty  \\\n",
       "0  {'country': {'name': 'Argentina', 'id': 'AR'},...                 NaN   \n",
       "1  {'country': {'name': 'Argentina', 'id': 'AR'},...  NUESTRA REPUTACION   \n",
       "2  {'country': {'name': 'Argentina', 'id': 'AR'},...                 NaN   \n",
       "3  {'country': {'name': 'Argentina', 'id': 'AR'},...                 NaN   \n",
       "4  {'country': {'name': 'Argentina', 'id': 'AR'},...      MI REPUTACION.   \n",
       "\n",
       "   base_price                                           shipping  \\\n",
       "0        80.0  {'local_pick_up': True, 'methods': [], 'tags':...   \n",
       "1      2650.0  {'local_pick_up': True, 'methods': [], 'tags':...   \n",
       "2        60.0  {'local_pick_up': True, 'methods': [], 'tags':...   \n",
       "3       580.0  {'local_pick_up': True, 'methods': [], 'tags':...   \n",
       "4        30.0  {'local_pick_up': True, 'methods': [], 'tags':...   \n",
       "\n",
       "                    non_mercado_pago_payment_methods   seller_id variations  \\\n",
       "0  [{'description': 'Transferencia bancaria', 'id...  8208882349         []   \n",
       "1  [{'description': 'Transferencia bancaria', 'id...  8141699488         []   \n",
       "2  [{'description': 'Transferencia bancaria', 'id...  8386096505         []   \n",
       "3  [{'description': 'Transferencia bancaria', 'id...  5377752182         []   \n",
       "4  [{'description': 'Transferencia bancaria', 'id...  2938071313         []   \n",
       "\n",
       "  listing_type_id   price attributes  ...  \\\n",
       "0          bronze    80.0         []  ...   \n",
       "1          silver  2650.0         []  ...   \n",
       "2          bronze    60.0         []  ...   \n",
       "3          silver   580.0         []  ...   \n",
       "4          bronze    30.0         []  ...   \n",
       "\n",
       "                                    secure_thumbnail      stop_time  status  \\\n",
       "0  https://a248.e.akamai.net/mla-s1-p.mlstatic.co...  1446669773000  active   \n",
       "1  https://a248.e.akamai.net/mla-s1-p.mlstatic.co...  1448474910000  active   \n",
       "2  https://a248.e.akamai.net/mla-s1-p.mlstatic.co...  1447027027000  active   \n",
       "3  https://a248.e.akamai.net/mla-s2-p.mlstatic.co...  1449191596000  active   \n",
       "4  https://a248.e.akamai.net/mla-s2-p.mlstatic.co...  1445638040000  active   \n",
       "\n",
       "  video_id catalog_product_id initial_quantity     start_time  sold_quantity  \\\n",
       "0      NaN                NaN                1  1441485773000              0   \n",
       "1      NaN                NaN                1  1443290910000              0   \n",
       "2      NaN                NaN                1  1441843027000              0   \n",
       "3      NaN                NaN                1  1443466076000              0   \n",
       "4      NaN                NaN                1  1440454040000              0   \n",
       "\n",
       "  available_quantity   used  \n",
       "0                  1  False  \n",
       "1                  1   True  \n",
       "2                  1   True  \n",
       "3                  1  False  \n",
       "4                  1   True  \n",
       "\n",
       "[5 rows x 32 columns]"
      ]
     },
     "execution_count": 2,
     "metadata": {},
     "output_type": "execute_result"
    }
   ],
   "source": [
    "X_dataframe = pd.read_csv(\"../data/X_dataframe.csv\")\n",
    "X_dataframe.head()"
   ]
  },
  {
   "cell_type": "code",
   "execution_count": 5,
   "id": "42bf2b42",
   "metadata": {},
   "outputs": [],
   "source": [
    "from challenge.new_or_used import build_dataset\n",
    "X_train, _, _, _ = build_dataset()\n",
    "X_dataframe[\"currency_id\"] = pd.DataFrame(X_train)[\"currency_id\"]"
   ]
  },
  {
   "cell_type": "markdown",
   "id": "c397b11b",
   "metadata": {},
   "source": [
    "### Price"
   ]
  },
  {
   "cell_type": "code",
   "execution_count": 6,
   "id": "a6adbb43",
   "metadata": {},
   "outputs": [],
   "source": [
    "from argendolar import Argendolar, TipoDivisas\n",
    "\n",
    "argendolar = Argendolar()\n",
    "dolar_oficial = argendolar.get_dolar_historia_completa(tipo=TipoDivisas.OFICIAL)\n",
    "\n",
    "def transform_into_USD(price: float, currency_id: str, last_updated: str):\n",
    "    if currency_id == \"USD\":\n",
    "        return price\n",
    "    else:\n",
    "        # ensure last_updated is string YYYY-MM-DD\n",
    "        if hasattr(last_updated, \"strftime\"):\n",
    "            date_str = last_updated.strftime(\"%Y-%m-%d\")\n",
    "        else:\n",
    "            date_str = str(last_updated)[:10]\n",
    "\n",
    "        # get dolar value\n",
    "        dolar_row = dolar_oficial.loc[dolar_oficial[\"fecha\"] == date_str, \"compra\"]\n",
    "        if dolar_row.empty:\n",
    "            return None  # or np.nan\n",
    "        dolar_price = dolar_row.iloc[0]\n",
    "        return price/ dolar_price"
   ]
  },
  {
   "cell_type": "code",
   "execution_count": 7,
   "id": "ac4a146c",
   "metadata": {},
   "outputs": [
    {
     "data": {
      "text/plain": [
       "count    9.000000e+04\n",
       "mean     7.538294e+03\n",
       "std      1.011185e+06\n",
       "min      9.333333e-02\n",
       "25%      1.000000e+01\n",
       "50%      2.777778e+01\n",
       "75%      8.888889e+01\n",
       "max      2.469136e+08\n",
       "Name: price_usd, dtype: float64"
      ]
     },
     "execution_count": 7,
     "metadata": {},
     "output_type": "execute_result"
    }
   ],
   "source": [
    "X_dataframe[\"price_usd\"] = X_dataframe.apply(\n",
    "    lambda row: transform_into_USD(\n",
    "        row[\"price\"], row[\"currency_id\"], row[\"last_updated\"]\n",
    "    ),\n",
    "    axis=1,\n",
    ")\n",
    "X_dataframe[\"price_usd\"].describe()"
   ]
  },
  {
   "cell_type": "code",
   "execution_count": 12,
   "id": "d5056f57",
   "metadata": {},
   "outputs": [
    {
     "data": {
      "image/png": "[encoded data removed]",
      "text/plain": [
       "<Figure size 640x480 with 1 Axes>"
      ]
     },
     "metadata": {},
     "output_type": "display_data"
    }
   ],
   "source": [
    "plt.hist(X_dataframe[\"price_usd\"], bins = [0, 5, 10, 50, 100, 500, 1000, 5000, 10000, 200000])\n",
    "plt.yscale(\"log\")\n",
    "plt.xscale(\"log\")\n",
    "plt.title(\"Histogram of the price in USD\")\n",
    "plt.show()\n"
   ]
  },
  {
   "cell_type": "code",
   "execution_count": 13,
   "id": "1dd00725",
   "metadata": {},
   "outputs": [
    {
     "data": {
      "image/png": "[encoded data removed]",
      "text/plain": [
       "<Figure size 1800x500 with 2 Axes>"
      ]
     },
     "metadata": {},
     "output_type": "display_data"
    }
   ],
   "source": [
    "fig, ax = plt.subplots(1, 2, figsize=(18, 5))\n",
    "\n",
    "ax[0].hist(\n",
    "    X_dataframe.loc[X_dataframe[\"used\"] == 1][\"price_usd\"],\n",
    "        bins=[0, 5, 10, 50, 100, 500, 1000, 5000, 10000, 200000],\n",
    ")\n",
    "ax[0].set_title(\"Histogram of the price in USD for used items\")\n",
    "ax[0].set_yscale(\"log\")\n",
    "ax[0].set_xscale(\"log\")\n",
    "ax[1].hist(X_dataframe.loc[X_dataframe[\"used\"] == 0][\"price_usd\"], bins = [0, 5, 10, 50, 100, 500, 1000, 5000, 10000, 200000])\n",
    "ax[1].set_title(\"Histogram of the price in USD for new items\")\n",
    "ax[1].set_yscale(\"log\")\n",
    "ax[1].set_xscale(\"log\")\n",
    "plt.tight_layout()"
   ]
  },
  {
   "cell_type": "code",
   "execution_count": 14,
   "id": "c0325258",
   "metadata": {},
   "outputs": [
    {
     "data": {
      "text/plain": [
       "count    90000.000000\n",
       "mean         3.652825\n",
       "std          1.743481\n",
       "min          0.089231\n",
       "25%          2.397895\n",
       "50%          3.359603\n",
       "75%          4.498574\n",
       "max         19.324549\n",
       "Name: price_usd, dtype: float64"
      ]
     },
     "execution_count": 14,
     "metadata": {},
     "output_type": "execute_result"
    }
   ],
   "source": [
    "X_dataframe[\"price_usd\"].apply(lambda x: np.log1p(x)).describe()"
   ]
  },
  {
   "cell_type": "code",
   "execution_count": 15,
   "id": "415c49e2",
   "metadata": {},
   "outputs": [
    {
     "name": "stdout",
     "output_type": "stream",
     "text": [
      "Pearson correlation:                 used  price_usd\n",
      "used       1.000000   0.001271\n",
      "price_usd  0.001271   1.000000\n",
      "Spearman correlation:                 used  price_usd\n",
      "used       1.000000  -0.202263\n",
      "price_usd -0.202263   1.000000\n",
      "Kendall correlation:                 used  price_usd\n",
      "used       1.000000  -0.165745\n",
      "price_usd -0.165745   1.000000\n"
     ]
    }
   ],
   "source": [
    "pearson_corr = X_dataframe[[\"used\", \"price_usd\"]].corr(method=\"pearson\")\n",
    "spearman_corr = X_dataframe[[\"used\", \"price_usd\"]].corr(method=\"spearman\")\n",
    "kendall_corr = X_dataframe[[\"used\", \"price_usd\"]].corr(method=\"kendall\")\n",
    "print(\"Pearson correlation: \", pearson_corr)\n",
    "print(\"Spearman correlation: \", spearman_corr)\n",
    "print(\"Kendall correlation: \", kendall_corr)"
   ]
  },
  {
   "cell_type": "markdown",
   "id": "aa3e0193",
   "metadata": {},
   "source": [
    "The spearman and the keandall correlation show a relationship in that shows, slightly, that the newer the item, the higher the price.\n",
    "\n",
    "However, in the histogram the used items seems to have more concentration in the high prices than the new ones"
   ]
  }
 ],
 "metadata": {
  "kernelspec": {
   "display_name": ".venv",
   "language": "python",
   "name": "python3"
  },
  "language_info": {
   "codemirror_mode": {
    "name": "ipython",
    "version": 3
   },
   "file_extension": ".py",
   "mimetype": "text/x-python",
   "name": "python",
   "nbconvert_exporter": "python",
   "pygments_lexer": "ipython3",
   "version": "3.12.10"
  }
 },
 "nbformat": 4,
 "nbformat_minor": 5
}
